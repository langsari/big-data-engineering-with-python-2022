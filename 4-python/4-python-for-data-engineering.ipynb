{
 "cells": [
  {
   "cell_type": "markdown",
   "metadata": {},
   "source": [
    "# Python for Big Data Engineering"
   ]
  },
  {
   "cell_type": "markdown",
   "metadata": {},
   "source": [
    "## Whitespace Formatting"
   ]
  },
  {
   "cell_type": "markdown",
   "metadata": {},
   "source": [
    "Many languages use curly braces to delimit blocks of code. Python uses indentation"
   ]
  },
  {
   "cell_type": "code",
   "execution_count": 3,
   "metadata": {
    "collapsed": true
   },
   "outputs": [
    {
     "name": "stdout",
     "output_type": "stream",
     "text": [
      "1\n",
      "1\n",
      "2\n",
      "2\n",
      "3\n",
      "3\n",
      "4\n",
      "4\n",
      "5\n",
      "5\n",
      "6\n",
      "1\n",
      "2\n",
      "1\n",
      "3\n",
      "2\n",
      "4\n",
      "3\n",
      "5\n",
      "4\n",
      "6\n",
      "5\n",
      "7\n",
      "2\n",
      "3\n",
      "1\n",
      "4\n",
      "2\n",
      "5\n",
      "3\n",
      "6\n",
      "4\n",
      "7\n",
      "5\n",
      "8\n",
      "3\n",
      "4\n",
      "1\n",
      "5\n",
      "2\n",
      "6\n",
      "3\n",
      "7\n",
      "4\n",
      "8\n",
      "5\n",
      "9\n",
      "4\n",
      "5\n",
      "1\n",
      "6\n",
      "2\n",
      "7\n",
      "3\n",
      "8\n",
      "4\n",
      "9\n",
      "5\n",
      "10\n",
      "5\n"
     ]
    }
   ],
   "source": [
    "for i in [1, 2, 3, 4, 5]:\n",
    "    print(i)                    # first line in \"for i\" block\n",
    "    for j in [1, 2, 3, 4, 5]:\n",
    "        print(j)                # first line in \"for j\" block\n",
    "        print(i + j)            # last line in \"for j\" block\n",
    "    print(i)                    # last line in \"for i\" block\n",
    "# print(\"done looping\")"
   ]
  },
  {
   "cell_type": "code",
   "execution_count": 2,
   "metadata": {},
   "outputs": [],
   "source": [
    "long_winded_computation = (1 + 2 + 3 + 4 + 5 + 6 + 7 + 8 + 9 + 10 + 11 + 12 +\n",
    "                           13 + 14 + 15 + 16 + \n",
    "                           17 + \n",
    "                           18 + \n",
    "                           19 + 20)"
   ]
  },
  {
   "cell_type": "code",
   "execution_count": 4,
   "metadata": {},
   "outputs": [],
   "source": [
    "list_of_lists = [[1, 2, 3], [4, 5, 6], [7, 8, 9]]"
   ]
  },
  {
   "cell_type": "code",
   "execution_count": 5,
   "metadata": {},
   "outputs": [],
   "source": [
    "easier_to_read_list_of_lists = [[1, 2, 3],\n",
    "                                [4, 5, 6],\n",
    "                                [7, 8, 9]]"
   ]
  },
  {
   "cell_type": "code",
   "execution_count": 6,
   "metadata": {},
   "outputs": [],
   "source": [
    "two_plus_three = 2 + \\\n",
    "                 3"
   ]
  },
  {
   "cell_type": "code",
   "execution_count": 7,
   "metadata": {
    "collapsed": true
   },
   "outputs": [
    {
     "name": "stdout",
     "output_type": "stream",
     "text": [
      "1\n",
      "2\n",
      "3\n",
      "4\n",
      "5\n"
     ]
    }
   ],
   "source": [
    "for i in [1, 2, 3, 4, 5]:\n",
    "\n",
    "    \n",
    "    \n",
    "    \n",
    "    # notice the blank line\n",
    "    print(i)"
   ]
  },
  {
   "cell_type": "markdown",
   "metadata": {},
   "source": [
    "## Module"
   ]
  },
  {
   "cell_type": "markdown",
   "metadata": {},
   "source": [
    "Certain features of Python are not loaded by default. These include both features that are included as part of the language as well as third-party features that you download yourself. In order to use these features, you’ll need to import the modules that contain them."
   ]
  },
  {
   "cell_type": "code",
   "execution_count": 38,
   "metadata": {},
   "outputs": [],
   "source": [
    "import re\n",
    "my_regex = re.compile(\"[0-9]+\", re.I)"
   ]
  },
  {
   "cell_type": "code",
   "execution_count": 39,
   "metadata": {},
   "outputs": [],
   "source": [
    "import re as regexxx\n",
    "my_regex = regexxx.compile(\"[0-9]+\", regex.I)"
   ]
  },
  {
   "cell_type": "code",
   "execution_count": 40,
   "metadata": {},
   "outputs": [],
   "source": [
    "from collections import defaultdict, Counter\n",
    "lookup = defaultdict(int)\n",
    "my_counter = Counter()"
   ]
  },
  {
   "cell_type": "code",
   "execution_count": 41,
   "metadata": {
    "scrolled": true
   },
   "outputs": [
    {
     "name": "stdout",
     "output_type": "stream",
     "text": [
      "<function match at 0x10d3447b8>\n"
     ]
    }
   ],
   "source": [
    "match = 10\n",
    "from re import *    # uh oh, re has a match function\n",
    "print(match)        # \"<function match at 0x10281e6a8>\""
   ]
  },
  {
   "cell_type": "code",
   "execution_count": 10,
   "metadata": {},
   "outputs": [],
   "source": [
    "import numpy as np\n",
    "import pandas as pd\n",
    "import matplotlib.pyplot as plt\n",
    "import seaborn as sns\n",
    "import statsmodels as sm\n",
    "import faker as Faker"
   ]
  },
  {
   "cell_type": "markdown",
   "metadata": {},
   "source": [
    "## Functions"
   ]
  },
  {
   "cell_type": "markdown",
   "metadata": {},
   "source": [
    "A function is a rule for taking zero or more inputs and returning a corresponding output. In Python, we typically define functions using `def`:"
   ]
  },
  {
   "cell_type": "code",
   "execution_count": null,
   "metadata": {},
   "outputs": [],
   "source": [
    "def a(x):\n",
    "    return x\n",
    "\n",
    "def b(y):\n",
    "    return y\n",
    "\n",
    "def sum_of_two_number(x, y):\n",
    "    return x + y"
   ]
  },
  {
   "cell_type": "code",
   "execution_count": 8,
   "metadata": {},
   "outputs": [],
   "source": [
    "def double(x):\n",
    "    \"\"\"\n",
    "    This is where you put an optional docstring that explains what the\n",
    "    function does. For example, this function multiplies its input by 2.\n",
    "    \"\"\"\n",
    "    return x * 2"
   ]
  },
  {
   "cell_type": "code",
   "execution_count": 9,
   "metadata": {},
   "outputs": [],
   "source": [
    "def apply_to_one(f):\n",
    "    \"\"\"Calls the function f with 1 as its argument\"\"\"\n",
    "    return f(1)"
   ]
  },
  {
   "cell_type": "code",
   "execution_count": 10,
   "metadata": {},
   "outputs": [],
   "source": [
    "my_double = double             # refers to the previously defined function\n",
    "x = apply_to_one(my_double)    # equals 2\n",
    "\n",
    "assert x == 2"
   ]
  },
  {
   "cell_type": "code",
   "execution_count": 12,
   "metadata": {},
   "outputs": [],
   "source": [
    "y = apply_to_one(lambda x: x + 4)      # equals 5\n",
    "\n",
    "assert y == 5"
   ]
  },
  {
   "cell_type": "code",
   "execution_count": 14,
   "metadata": {},
   "outputs": [],
   "source": [
    "another_double = lambda x: 2 * x       # Don't do this"
   ]
  },
  {
   "cell_type": "code",
   "execution_count": 15,
   "metadata": {},
   "outputs": [],
   "source": [
    "def another_double(x):\n",
    "    \"\"\"Do this instead\"\"\"\n",
    "    return 2 * x"
   ]
  },
  {
   "cell_type": "code",
   "execution_count": 16,
   "metadata": {},
   "outputs": [],
   "source": [
    "def my_print(message = \"my default message\"):\n",
    "    print(message)"
   ]
  },
  {
   "cell_type": "code",
   "execution_count": 17,
   "metadata": {},
   "outputs": [
    {
     "name": "stdout",
     "output_type": "stream",
     "text": [
      "hello\n",
      "my default message\n"
     ]
    }
   ],
   "source": [
    "my_print(\"hello\")   # prints 'hello'\n",
    "my_print()          # prints 'my default message'"
   ]
  },
  {
   "cell_type": "code",
   "execution_count": 18,
   "metadata": {},
   "outputs": [],
   "source": [
    "def full_name(first = \"What's-his-name\", last = \"Something\"):\n",
    "    return first + \" \" + last"
   ]
  },
  {
   "cell_type": "code",
   "execution_count": 19,
   "metadata": {},
   "outputs": [
    {
     "data": {
      "text/plain": [
       "\"What's-his-name Langsari\""
      ]
     },
     "execution_count": 19,
     "metadata": {},
     "output_type": "execute_result"
    }
   ],
   "source": [
    "full_name(\"Kholed\", \"Langsari\")     # \"Kholed Langsari\"\n",
    "full_name(\"Kholed\")             # \"Kholed Something\"\n",
    "full_name(last=\"Langsari\")        # \"What's-his-name Langsari\""
   ]
  },
  {
   "cell_type": "code",
   "execution_count": 21,
   "metadata": {},
   "outputs": [],
   "source": [
    "assert full_name(\"Kholed\", \"Langsari\")     == \"Kholed Langsari\"\n",
    "assert full_name(\"Kholed\")                 == \"Kholed Something\"\n",
    "assert full_name(last=\"Langsari\")          == \"What's-his-name Langsari\""
   ]
  },
  {
   "cell_type": "markdown",
   "metadata": {},
   "source": [
    "## Strings"
   ]
  },
  {
   "cell_type": "markdown",
   "metadata": {},
   "source": [
    "Strings can be delimited by single or double quotation marks (but the quotes have to match):"
   ]
  },
  {
   "cell_type": "code",
   "execution_count": 26,
   "metadata": {},
   "outputs": [],
   "source": [
    "single_quoted_string = 'data engineering'\n",
    "double_quoted_string = \"data engineering\""
   ]
  },
  {
   "cell_type": "code",
   "execution_count": 83,
   "metadata": {},
   "outputs": [],
   "source": [
    "tab_string = \"\\t\"       # represents the tab character\n",
    "len(tab_string)         # is 1\n",
    "\n",
    "assert len(tab_string) == 1"
   ]
  },
  {
   "cell_type": "code",
   "execution_count": 82,
   "metadata": {},
   "outputs": [],
   "source": [
    "not_tab_string = r\"\\t\"  # represents the characters '\\' and 't'\n",
    "len(not_tab_string)     # is 2\n",
    "\n",
    "assert len(not_tab_string) == 2"
   ]
  },
  {
   "cell_type": "code",
   "execution_count": 24,
   "metadata": {},
   "outputs": [
    {
     "name": "stdout",
     "output_type": "stream",
     "text": [
      "This is the first line.\n",
      "and this is the second line\n",
      "and this is the third line\n"
     ]
    }
   ],
   "source": [
    "multi_line_string = \"\"\"This is the first line.\n",
    "and this is the second line\n",
    "and this is the third line\"\"\"\n",
    "print(multi_line_string)"
   ]
  },
  {
   "cell_type": "code",
   "execution_count": 25,
   "metadata": {},
   "outputs": [],
   "source": [
    "first_name = \"Kholed\"\n",
    "last_name = \"Langsari\""
   ]
  },
  {
   "cell_type": "code",
   "execution_count": 29,
   "metadata": {},
   "outputs": [],
   "source": [
    "full_name1 = first_name + \" \" + last_name             # string addition\n",
    "full_name2 = \"{0} {1}\".format(first_name, last_name)  # string.format"
   ]
  },
  {
   "cell_type": "code",
   "execution_count": 30,
   "metadata": {},
   "outputs": [],
   "source": [
    "full_name3 = f\"{first_name} {last_name}\""
   ]
  },
  {
   "cell_type": "markdown",
   "metadata": {},
   "source": [
    "## Exceptions"
   ]
  },
  {
   "cell_type": "markdown",
   "metadata": {},
   "source": [
    "When something goes wrong, Python raises an *exception*. Unhandled, exceptions will cause your program to crash. You can handle them using `try` and `except`:"
   ]
  },
  {
   "cell_type": "code",
   "execution_count": 1,
   "metadata": {
    "scrolled": true
   },
   "outputs": [
    {
     "ename": "SyntaxError",
     "evalue": "EOL while scanning string literal (<ipython-input-1-062d7b73ceb0>, line 1)",
     "output_type": "error",
     "traceback": [
      "\u001b[0;36m  File \u001b[0;32m\"<ipython-input-1-062d7b73ceb0>\"\u001b[0;36m, line \u001b[0;32m1\u001b[0m\n\u001b[0;31m    sting = 'Hello\u001b[0m\n\u001b[0m                  ^\u001b[0m\n\u001b[0;31mSyntaxError\u001b[0m\u001b[0;31m:\u001b[0m EOL while scanning string literal\n"
     ]
    }
   ],
   "source": [
    "sting = 'Hello"
   ]
  },
  {
   "cell_type": "code",
   "execution_count": 2,
   "metadata": {},
   "outputs": [
    {
     "ename": "ZeroDivisionError",
     "evalue": "division by zero",
     "output_type": "error",
     "traceback": [
      "\u001b[0;31m---------------------------------------------------------------------------\u001b[0m",
      "\u001b[0;31mZeroDivisionError\u001b[0m                         Traceback (most recent call last)",
      "\u001b[0;32m<ipython-input-2-1babb3b33639>\u001b[0m in \u001b[0;36m<module>\u001b[0;34m\u001b[0m\n\u001b[0;32m----> 1\u001b[0;31m \u001b[0mprint\u001b[0m\u001b[0;34m(\u001b[0m\u001b[0;36m0\u001b[0m\u001b[0;34m/\u001b[0m\u001b[0;36m0\u001b[0m\u001b[0;34m)\u001b[0m\u001b[0;34m\u001b[0m\u001b[0;34m\u001b[0m\u001b[0m\n\u001b[0m",
      "\u001b[0;31mZeroDivisionError\u001b[0m: division by zero"
     ]
    }
   ],
   "source": [
    "print(0/0)"
   ]
  },
  {
   "cell_type": "code",
   "execution_count": 35,
   "metadata": {},
   "outputs": [
    {
     "name": "stdout",
     "output_type": "stream",
     "text": [
      "cannot divide by zero\n"
     ]
    }
   ],
   "source": [
    "try:\n",
    "    print(0 / 0)\n",
    "except ZeroDivisionError:\n",
    "    print(\"cannot divide by zero\")"
   ]
  },
  {
   "cell_type": "markdown",
   "metadata": {},
   "source": [
    "# Lists"
   ]
  },
  {
   "cell_type": "markdown",
   "metadata": {},
   "source": [
    "Probably the most fundamental data structure in Python is the `list`, which is simply an ordered collection (it is similar to what in other languages might be called an array, but with some added functionality): "
   ]
  },
  {
   "cell_type": "code",
   "execution_count": 67,
   "metadata": {},
   "outputs": [],
   "source": [
    "integer_list = [1, 2, 3]\n",
    "heterogeneous_list = [\"string\", 0.1, True]\n",
    "list_of_lists = [integer_list, heterogeneous_list, []]\n",
    "\n",
    "list_length = len(integer_list)     # equals 3\n",
    "list_sum    = sum(integer_list)     # equals 6\n",
    "\n",
    "assert list_length == 3\n",
    "assert list_sum == 6"
   ]
  },
  {
   "cell_type": "code",
   "execution_count": 68,
   "metadata": {},
   "outputs": [],
   "source": [
    "x = [0, 1, 2, 3, 4, 5, 6, 7, 8, 9]\n",
    "\n",
    "zero = x[0]          # equals 0, lists are 0-indexed\n",
    "one = x[1]           # equals 1\n",
    "nine = x[-1]         # equals 9, 'Pythonic' for last element\n",
    "eight = x[-2]        # equals 8, 'Pythonic' for next-to-last element\n",
    "x[0] = -1            # now x is [-1, 1, 2, 3, ..., 9]\n",
    "\n",
    "assert x == [-1, 1, 2, 3, 4, 5, 6, 7, 8, 9]"
   ]
  },
  {
   "cell_type": "code",
   "execution_count": 69,
   "metadata": {},
   "outputs": [],
   "source": [
    "first_three = x[:3]                 # [-1, 1, 2]\n",
    "three_to_end = x[3:]                # [3, 4, ..., 9]\n",
    "one_to_four = x[1:5]                # [1, 2, 3, 4]\n",
    "last_three = x[-3:]                 # [7, 8, 9]\n",
    "without_first_and_last = x[1:-1]    # [1, 2, ..., 8]\n",
    "copy_of_x = x[:]                    # [-1, 1, 2, ..., 9]\n",
    "\n",
    "every_third = x[::3]                 # [-1, 3, 6, 9]\n",
    "five_to_three = x[5:2:-1]            # [5, 4, 3]\n",
    "\n",
    "assert every_third == [-1, 3, 6, 9]\n",
    "assert five_to_three == [5, 4, 3]"
   ]
  },
  {
   "cell_type": "code",
   "execution_count": 70,
   "metadata": {},
   "outputs": [
    {
     "data": {
      "text/plain": [
       "False"
      ]
     },
     "execution_count": 70,
     "metadata": {},
     "output_type": "execute_result"
    }
   ],
   "source": [
    "1 in [1, 2, 3]    # True\n",
    "0 in [1, 2, 3]    # False"
   ]
  },
  {
   "cell_type": "code",
   "execution_count": 72,
   "metadata": {},
   "outputs": [],
   "source": [
    "x = [1, 2, 3]\n",
    "x.extend([4, 5, 6])     # x is now [1, 2, 3, 4, 5, 6]\n",
    "\n",
    "assert x == [1, 2, 3, 4, 5, 6]"
   ]
  },
  {
   "cell_type": "code",
   "execution_count": 75,
   "metadata": {},
   "outputs": [],
   "source": [
    "x = [1, 2, 3]\n",
    "y = x + [4, 5, 6]       # y is [1, 2, 3, 4, 5, 6]; x is unchanged\n",
    "\n",
    "assert x == [1, 2, 3]\n",
    "assert y == [1, 2, 3, 4, 5, 6]"
   ]
  },
  {
   "cell_type": "code",
   "execution_count": 79,
   "metadata": {},
   "outputs": [],
   "source": [
    "x = [1, 2, 3]\n",
    "x.append(0)      # x is now [1, 2, 3, 0]\n",
    "y = x[-1]        # equals 0\n",
    "z = len(x)       # equals 4\n",
    "\n",
    "assert x == [1, 2, 3, 0]\n",
    "assert y == 0\n",
    "assert z == 4"
   ]
  },
  {
   "cell_type": "code",
   "execution_count": 80,
   "metadata": {},
   "outputs": [],
   "source": [
    "x, y = [1, 2]    # now x is 1, y is 2\n",
    "\n",
    "assert x == 1\n",
    "assert y == 2"
   ]
  },
  {
   "cell_type": "code",
   "execution_count": 81,
   "metadata": {},
   "outputs": [],
   "source": [
    "_, y = [1, 2]    # now y == 2, didn't care about the first element"
   ]
  },
  {
   "cell_type": "markdown",
   "metadata": {},
   "source": [
    "## Tuples"
   ]
  },
  {
   "cell_type": "markdown",
   "metadata": {},
   "source": [
    "Tuples are lists’ immutable cousins. Pretty much anything you can do to a list that doesn’t involve modifying it, you can do to a tuple. You specify a tuple by using parentheses (or nothing) instead of square brackets:"
   ]
  },
  {
   "cell_type": "code",
   "execution_count": 84,
   "metadata": {},
   "outputs": [
    {
     "name": "stdout",
     "output_type": "stream",
     "text": [
      "cannot modify a tuple\n"
     ]
    }
   ],
   "source": [
    "my_list = [1, 2]\n",
    "my_tuple = (1, 2)\n",
    "other_tuple = 3, 4\n",
    "my_list[1] = 3      # my_list is now [1, 3]\n",
    "\n",
    "try:\n",
    "    my_tuple[1] = 3\n",
    "except TypeError:\n",
    "    print(\"cannot modify a tuple\")"
   ]
  },
  {
   "cell_type": "code",
   "execution_count": 85,
   "metadata": {},
   "outputs": [],
   "source": [
    "def sum_and_product(x, y):\n",
    "    return (x + y), (x * y)\n",
    "\n",
    "sp = sum_and_product(2, 3)     # sp is (5, 6)\n",
    "s, p = sum_and_product(5, 10)  # s is 15, p is 50"
   ]
  },
  {
   "cell_type": "code",
   "execution_count": 86,
   "metadata": {},
   "outputs": [],
   "source": [
    "x, y = 1, 2     # now x is 1, y is 2\n",
    "x, y = y, x     # Pythonic way to swap variables; now x is 2, y is 1\n",
    "\n",
    "assert x == 2\n",
    "assert y == 1"
   ]
  },
  {
   "cell_type": "markdown",
   "metadata": {},
   "source": [
    "## Dictionaries"
   ]
  },
  {
   "cell_type": "markdown",
   "metadata": {},
   "source": [
    "Another fundamental data structure is a dictionary, which associates *values* with *keys* and allows you to quickly retrieve the value corresponding to a given key:"
   ]
  },
  {
   "cell_type": "code",
   "execution_count": 4,
   "metadata": {},
   "outputs": [],
   "source": [
    "empty_dict = {}                     # Pythonic\n",
    "empty_dict2 = dict()                # less Pythonic\n",
    "grades = {\"Kholed\": 80, \"Muhammad\": 95}    # dictionary literal"
   ]
  },
  {
   "cell_type": "code",
   "execution_count": 191,
   "metadata": {},
   "outputs": [],
   "source": [
    "kholed_grade = grades[\"Kholed\"]        # equals 80\n",
    "\n",
    "\n",
    "assert kholed_grade == 80"
   ]
  },
  {
   "cell_type": "code",
   "execution_count": 5,
   "metadata": {},
   "outputs": [
    {
     "ename": "KeyError",
     "evalue": "'Someone'",
     "output_type": "error",
     "traceback": [
      "\u001b[0;31m---------------------------------------------------------------------------\u001b[0m",
      "\u001b[0;31mKeyError\u001b[0m                                  Traceback (most recent call last)",
      "\u001b[0;32m<ipython-input-5-a97901a522e8>\u001b[0m in \u001b[0;36m<module>\u001b[0;34m\u001b[0m\n\u001b[0;32m----> 1\u001b[0;31m \u001b[0mgrades\u001b[0m\u001b[0;34m[\u001b[0m\u001b[0;34m\"Someone\"\u001b[0m\u001b[0;34m]\u001b[0m\u001b[0;34m\u001b[0m\u001b[0;34m\u001b[0m\u001b[0m\n\u001b[0m",
      "\u001b[0;31mKeyError\u001b[0m: 'Someone'"
     ]
    }
   ],
   "source": [
    "grades[\"Someone\"]"
   ]
  },
  {
   "cell_type": "code",
   "execution_count": 6,
   "metadata": {},
   "outputs": [
    {
     "name": "stdout",
     "output_type": "stream",
     "text": [
      "no grade for Someone!\n"
     ]
    }
   ],
   "source": [
    "try:\n",
    "    someone_grade = grades[\"Someone\"]\n",
    "except KeyError:\n",
    "    print(\"no grade for Someone!\")"
   ]
  },
  {
   "cell_type": "code",
   "execution_count": 193,
   "metadata": {},
   "outputs": [],
   "source": [
    "kholed_has_grade = \"Kholed\" in grades     # True\n",
    "someone_has_grade = \"Someone\" in grades     # False\n",
    "\n",
    "\n",
    "assert kholed_has_grade\n",
    "assert not someone_has_grade"
   ]
  },
  {
   "cell_type": "code",
   "execution_count": 194,
   "metadata": {},
   "outputs": [],
   "source": [
    "kholed_grade = grades.get(\"Kholed\", 0)   # equals 80\n",
    "someone_grade = grades.get(\"Someone\", 0)   # equals 0\n",
    "no_ones_grade = grades.get(\"No One\")  # default default is None\n",
    "\n",
    "\n",
    "assert kholed_grade == 80\n",
    "assert someone_grade == 0\n",
    "assert no_ones_grade is None"
   ]
  },
  {
   "cell_type": "code",
   "execution_count": 195,
   "metadata": {
    "scrolled": false
   },
   "outputs": [
    {
     "name": "stdout",
     "output_type": "stream",
     "text": [
      "{'Kholed': 80, 'Muhammad': 99, 'Someone': 100}\n"
     ]
    }
   ],
   "source": [
    "grades[\"Muhammad\"] = 99                    # replaces the old value\n",
    "grades[\"Someone\"] = 100                  # adds a third entry\n",
    "num_students = len(grades)            # equals 3\n",
    "\n",
    "print(grades)\n",
    "assert num_students == 3"
   ]
  },
  {
   "cell_type": "code",
   "execution_count": 186,
   "metadata": {},
   "outputs": [],
   "source": [
    "tweet = {\n",
    "    \"user\" : \"kholedlangsari\",\n",
    "    \"text\" : \"Big Data Engineering with Python is Awesome\",\n",
    "    \"retweet_count\" : 100,\n",
    "    \"hashtags\" : [\"#data\", \"#engineering\", \"#dataengineering\", \"python\", \"#awesome\", \"#let'sgo\"]\n",
    "}"
   ]
  },
  {
   "cell_type": "code",
   "execution_count": 188,
   "metadata": {},
   "outputs": [],
   "source": [
    "tweet_keys   = tweet.keys()     # iterable for the keys\n",
    "tweet_values = tweet.values()   # iterable for the values\n",
    "tweet_items  = tweet.items()    # iterable for the (key, value) tuples\n",
    "\n",
    "\"user\" in tweet_keys            # True, but not Pythonic\n",
    "\"user\" in tweet                 # Pythonic way of checking for keys\n",
    "\"kholedlangsari\" in tweet_values      # True (slow but the only way to check)\n",
    "\n",
    "\n",
    "assert \"user\" in tweet_keys\n",
    "assert \"user\" in tweet\n",
    "assert \"kholedlangsari\" in tweet_values"
   ]
  },
  {
   "cell_type": "markdown",
   "metadata": {},
   "source": [
    "### defaultdict"
   ]
  },
  {
   "cell_type": "code",
   "execution_count": 101,
   "metadata": {},
   "outputs": [],
   "source": [
    "document = [\"big\", \"data\", \"engineering\", \"with\", \"python\"]"
   ]
  },
  {
   "cell_type": "code",
   "execution_count": 105,
   "metadata": {},
   "outputs": [],
   "source": [
    "word_counts = {}\n",
    "for word in document:\n",
    "    if word in word_counts:\n",
    "        word_counts[word] += 1\n",
    "    else:\n",
    "        word_counts[word] = 1"
   ]
  },
  {
   "cell_type": "code",
   "execution_count": 106,
   "metadata": {},
   "outputs": [],
   "source": [
    "word_counts = {}\n",
    "for word in document:\n",
    "    try:\n",
    "        word_counts[word] += 1\n",
    "    except KeyError:\n",
    "        word_counts[word] = 1"
   ]
  },
  {
   "cell_type": "code",
   "execution_count": 107,
   "metadata": {},
   "outputs": [],
   "source": [
    "word_counts = {}\n",
    "for word in document:\n",
    "    previous_count = word_counts.get(word, 0)\n",
    "    word_counts[word] = previous_count + 1"
   ]
  },
  {
   "cell_type": "code",
   "execution_count": 108,
   "metadata": {},
   "outputs": [],
   "source": [
    "from collections import defaultdict\n",
    "\n",
    "word_counts = defaultdict(int)          # int() produces 0\n",
    "for word in document:\n",
    "    word_counts[word] += 1"
   ]
  },
  {
   "cell_type": "code",
   "execution_count": 189,
   "metadata": {},
   "outputs": [],
   "source": [
    "dd_list = defaultdict(list)             # list() produces an empty list\n",
    "dd_list[2].append(1)                    # now dd_list contains {2: [1]}\n",
    "\n",
    "dd_dict = defaultdict(dict)             # dict() produces an empty dict\n",
    "dd_dict[\"Kholed\"][\"City\"] = \"Yala\"     # {\"Kholed\" : {\"City\": Yala\"}}\n",
    "\n",
    "dd_pair = defaultdict(lambda: [0, 0])\n",
    "dd_pair[2][1] = 1                       # now dd_pair contains {2: [0, 1]}"
   ]
  },
  {
   "cell_type": "markdown",
   "metadata": {},
   "source": [
    "## Counters"
   ]
  },
  {
   "cell_type": "markdown",
   "metadata": {},
   "source": [
    "A `Counter` turns a sequence of values into a `defaultdict(int)`-like object mapping keys to counts:"
   ]
  },
  {
   "cell_type": "code",
   "execution_count": 111,
   "metadata": {},
   "outputs": [],
   "source": [
    "document = [\"big\", \"data\", \"engineering\", \"with\", \"big\", \"python\"]"
   ]
  },
  {
   "cell_type": "code",
   "execution_count": 112,
   "metadata": {},
   "outputs": [],
   "source": [
    "from collections import Counter\n",
    "c = Counter([0, 1, 2, 0])          # c is (basically) {0: 2, 1: 1, 2: 1}"
   ]
  },
  {
   "cell_type": "code",
   "execution_count": 114,
   "metadata": {},
   "outputs": [],
   "source": [
    "# recall, document is a list of words\n",
    "word_counts = Counter(document)"
   ]
  },
  {
   "cell_type": "code",
   "execution_count": 115,
   "metadata": {},
   "outputs": [
    {
     "name": "stdout",
     "output_type": "stream",
     "text": [
      "big 2\n",
      "data 1\n",
      "engineering 1\n",
      "with 1\n",
      "python 1\n"
     ]
    }
   ],
   "source": [
    "# print the 10 most common words and their counts\n",
    "for word, count in word_counts.most_common(10):\n",
    "    print(word, count)"
   ]
  },
  {
   "cell_type": "markdown",
   "metadata": {},
   "source": [
    "## Sets"
   ]
  },
  {
   "cell_type": "markdown",
   "metadata": {},
   "source": [
    "Another useful data structure is set, which represents a collection of *distinct* elements. You can define a set by listing its elements between curly braces:"
   ]
  },
  {
   "cell_type": "code",
   "execution_count": 116,
   "metadata": {},
   "outputs": [],
   "source": [
    "primes_below_10 = {2, 3, 5, 7}"
   ]
  },
  {
   "cell_type": "code",
   "execution_count": 117,
   "metadata": {},
   "outputs": [],
   "source": [
    "s = set()\n",
    "s.add(1)       # s is now {1}\n",
    "s.add(2)       # s is now {1, 2}\n",
    "s.add(2)       # s is still {1, 2}\n",
    "x = len(s)     # equals 2\n",
    "y = 2 in s     # equals True\n",
    "z = 3 in s     # equals False"
   ]
  },
  {
   "cell_type": "code",
   "execution_count": 118,
   "metadata": {},
   "outputs": [
    {
     "data": {
      "text/plain": [
       "False"
      ]
     },
     "execution_count": 118,
     "metadata": {},
     "output_type": "execute_result"
    }
   ],
   "source": [
    "hundreds_of_other_words = []  # required for the below code to run\n",
    "\n",
    "stopwords_list = [\"a\", \"an\", \"at\"] + hundreds_of_other_words + [\"yet\", \"you\"]\n",
    "\n",
    "\"zip\" in stopwords_list     # False, but have to check every element\n",
    "\n",
    "stopwords_set = set(stopwords_list)\n",
    "\"zip\" in stopwords_set      # very fast to check"
   ]
  },
  {
   "cell_type": "code",
   "execution_count": 119,
   "metadata": {},
   "outputs": [],
   "source": [
    "item_list = [1, 2, 3, 1, 2, 3]\n",
    "num_items = len(item_list)                # 6\n",
    "item_set = set(item_list)                 # {1, 2, 3}\n",
    "num_distinct_items = len(item_set)        # 3\n",
    "distinct_item_list = list(item_set)       # [1, 2, 3]\n",
    "\n",
    "\n",
    "assert num_items == 6\n",
    "assert item_set == {1, 2, 3}\n",
    "assert num_distinct_items == 3\n",
    "assert distinct_item_list == [1, 2, 3]"
   ]
  },
  {
   "cell_type": "markdown",
   "metadata": {},
   "source": [
    "## Control Flow"
   ]
  },
  {
   "cell_type": "markdown",
   "metadata": {},
   "source": [
    "As in most programming languages, you can perform an action conditionally using `if` and `for` "
   ]
  },
  {
   "cell_type": "code",
   "execution_count": 120,
   "metadata": {},
   "outputs": [],
   "source": [
    "if 1 > 2:\n",
    "    message = \"if only 1 were greater than two...\"\n",
    "elif 1 > 3:\n",
    "    message = \"elif stands for 'else if'\"\n",
    "else:\n",
    "    message = \"when all else fails use else (if you want to)\""
   ]
  },
  {
   "cell_type": "code",
   "execution_count": 121,
   "metadata": {},
   "outputs": [],
   "source": [
    "parity = \"even\" if x % 2 == 0 else \"odd\""
   ]
  },
  {
   "cell_type": "code",
   "execution_count": 8,
   "metadata": {},
   "outputs": [
    {
     "name": "stdout",
     "output_type": "stream",
     "text": [
      "0 is less than 10\n",
      "1 is less than 10\n",
      "2 is less than 10\n",
      "3 is less than 10\n",
      "4 is less than 10\n",
      "5 is less than 10\n",
      "6 is less than 10\n",
      "7 is less than 10\n",
      "8 is less than 10\n",
      "9 is less than 10\n",
      "10 is less than 10\n"
     ]
    }
   ],
   "source": [
    "x = 0\n",
    "while x < 10:\n",
    "    print(f\"{x} is less than 10\")\n",
    "    x += 1"
   ]
  },
  {
   "cell_type": "code",
   "execution_count": 124,
   "metadata": {},
   "outputs": [
    {
     "name": "stdout",
     "output_type": "stream",
     "text": [
      "0 is less than 10\n",
      "1 is less than 10\n",
      "2 is less than 10\n",
      "3 is less than 10\n",
      "4 is less than 10\n",
      "5 is less than 10\n",
      "6 is less than 10\n",
      "7 is less than 10\n",
      "8 is less than 10\n",
      "9 is less than 10\n"
     ]
    }
   ],
   "source": [
    "# range(10) is the numbers 0, 1, ..., 9\n",
    "for x in range(10):\n",
    "    print(f\"{x} is less than 10\")"
   ]
  },
  {
   "cell_type": "code",
   "execution_count": 125,
   "metadata": {},
   "outputs": [
    {
     "name": "stdout",
     "output_type": "stream",
     "text": [
      "0\n",
      "1\n",
      "2\n",
      "4\n"
     ]
    }
   ],
   "source": [
    "for x in range(10):\n",
    "    if x == 3:\n",
    "        continue  # go immediately to the next iteration\n",
    "    if x == 5:\n",
    "        break     # quit the loop entirely\n",
    "    print(x)"
   ]
  },
  {
   "cell_type": "markdown",
   "metadata": {},
   "source": [
    "## Truthiness"
   ]
  },
  {
   "cell_type": "markdown",
   "metadata": {},
   "source": [
    "Booleans in Python work as in most other languages, except that they’re capitalized:"
   ]
  },
  {
   "cell_type": "code",
   "execution_count": 126,
   "metadata": {},
   "outputs": [],
   "source": [
    "one_is_less_than_two = 1 < 2          # equals True\n",
    "true_equals_false = True == False     # equals False\n",
    "\n",
    "\n",
    "assert one_is_less_than_two\n",
    "assert not true_equals_false"
   ]
  },
  {
   "cell_type": "code",
   "execution_count": 127,
   "metadata": {},
   "outputs": [],
   "source": [
    "x = None\n",
    "assert x == None, \"this is the not the Pythonic way to check for None\"\n",
    "assert x is None, \"this is the Pythonic way to check for None\""
   ]
  },
  {
   "cell_type": "code",
   "execution_count": 128,
   "metadata": {},
   "outputs": [],
   "source": [
    "def some_function_that_returns_a_string():\n",
    "    return \"\""
   ]
  },
  {
   "cell_type": "code",
   "execution_count": 129,
   "metadata": {},
   "outputs": [],
   "source": [
    "s = some_function_that_returns_a_string()\n",
    "if s:\n",
    "    first_char = s[0]\n",
    "else:\n",
    "    first_char = \"\""
   ]
  },
  {
   "cell_type": "code",
   "execution_count": 130,
   "metadata": {},
   "outputs": [],
   "source": [
    "first_char = s and s[0]"
   ]
  },
  {
   "cell_type": "code",
   "execution_count": 131,
   "metadata": {},
   "outputs": [],
   "source": [
    "safe_x = x or 0"
   ]
  },
  {
   "cell_type": "code",
   "execution_count": 132,
   "metadata": {},
   "outputs": [],
   "source": [
    "safe_x = x if x is not None else 0"
   ]
  },
  {
   "cell_type": "code",
   "execution_count": 133,
   "metadata": {},
   "outputs": [
    {
     "data": {
      "text/plain": [
       "False"
      ]
     },
     "execution_count": 133,
     "metadata": {},
     "output_type": "execute_result"
    }
   ],
   "source": [
    "all([True, 1, {3}])   # True, all are truthy\n",
    "all([True, 1, {}])    # False, {} is falsy\n",
    "any([True, 1, {}])    # True, True is truthy\n",
    "all([])               # True, no falsy elements in the list\n",
    "any([])               # False, no truthy elements in the list"
   ]
  },
  {
   "cell_type": "markdown",
   "metadata": {},
   "source": [
    "## Sorting"
   ]
  },
  {
   "cell_type": "markdown",
   "metadata": {},
   "source": [
    "Every Python list has a `sort` method that sorts it in place. If you don’t want to mess up your list, you can use the `sorted` function, which returns a new list:"
   ]
  },
  {
   "cell_type": "code",
   "execution_count": 196,
   "metadata": {},
   "outputs": [],
   "source": [
    "x = [4, 1, 2, 3]\n",
    "y = sorted(x)     # y is [1, 2, 3, 4], x is unchanged\n",
    "x.sort()          # now x is [1, 2, 3, 4]"
   ]
  },
  {
   "cell_type": "code",
   "execution_count": 197,
   "metadata": {},
   "outputs": [],
   "source": [
    "\n",
    "# sort the list by absolute value from largest to smallest\n",
    "x = sorted([-4, 1, -2, 3], key=abs, reverse=True)  # is [-4, 3, -2, 1]\n",
    "\n",
    "# sort the words and counts from highest count to lowest\n",
    "wc = sorted(word_counts.items(),\n",
    "            key=lambda word_and_count: word_and_count[1],\n",
    "            reverse=True)"
   ]
  },
  {
   "cell_type": "markdown",
   "metadata": {},
   "source": [
    "## List Comprehensions"
   ]
  },
  {
   "cell_type": "markdown",
   "metadata": {},
   "source": [
    "Frequently, you’ll want to transform a list into another list by choosing only certain elements, by transforming elements, or both. The Pythonic way to do this is with *list comprehensions*:"
   ]
  },
  {
   "cell_type": "code",
   "execution_count": 198,
   "metadata": {},
   "outputs": [],
   "source": [
    "even_numbers = [x for x in range(5) if x % 2 == 0]  # [0, 2, 4]\n",
    "squares      = [x * x for x in range(5)]            # [0, 1, 4, 9, 16]\n",
    "even_squares = [x * x for x in even_numbers]        # [0, 4, 16]\n",
    "\n",
    "\n",
    "assert even_numbers == [0, 2, 4]\n",
    "assert squares == [0, 1, 4, 9, 16]\n",
    "assert even_squares == [0, 4, 16]"
   ]
  },
  {
   "cell_type": "code",
   "execution_count": 199,
   "metadata": {},
   "outputs": [],
   "source": [
    "square_dict = {x: x * x for x in range(5)}  # {0: 0, 1: 1, 2: 4, 3: 9, 4: 16}\n",
    "square_set  = {x * x for x in [1, -1]}      # {1}\n",
    "\n",
    "\n",
    "assert square_dict == {0: 0, 1: 1, 2: 4, 3: 9, 4: 16}\n",
    "assert square_set == {1}"
   ]
  },
  {
   "cell_type": "code",
   "execution_count": 200,
   "metadata": {},
   "outputs": [],
   "source": [
    "zeros = [0 for _ in even_numbers]      # has the same length as even_numbers\n",
    "\n",
    "\n",
    "assert zeros == [0, 0, 0]"
   ]
  },
  {
   "cell_type": "code",
   "execution_count": 201,
   "metadata": {},
   "outputs": [],
   "source": [
    "pairs = [(x, y)\n",
    "         for x in range(10)\n",
    "         for y in range(10)]   # 100 pairs (0,0) (0,1) ... (9,8), (9,9)\n",
    "\n",
    "\n",
    "assert len(pairs) == 100"
   ]
  },
  {
   "cell_type": "code",
   "execution_count": 52,
   "metadata": {},
   "outputs": [],
   "source": [
    "increasing_pairs = [(x, y)                       # only pairs with x < y,\n",
    "                    for x in range(10)           # range(lo, hi) equals\n",
    "                    for y in range(x + 1, 10)]   # [lo, lo + 1, ..., hi - 1]\n",
    "\n",
    "\n",
    "assert len(increasing_pairs) == 9 + 8 + 7 + 6 + 5 + 4 + 3 + 2 + 1\n",
    "assert all(x < y for x, y in increasing_pairs)"
   ]
  },
  {
   "cell_type": "markdown",
   "metadata": {},
   "source": [
    "## Automated Testing and assert"
   ]
  },
  {
   "cell_type": "markdown",
   "metadata": {},
   "source": [
    "As data engineer, we’ll be writing a lot of code. How can we be confident our code is correct? One way is with *types* (discussed shortly), but another way is with *automated tests*."
   ]
  },
  {
   "cell_type": "code",
   "execution_count": 202,
   "metadata": {},
   "outputs": [],
   "source": [
    "assert 1 + 1 == 2\n",
    "assert 1 + 1 == 2, \"1 + 1 should equal 2 but didn't\""
   ]
  },
  {
   "cell_type": "code",
   "execution_count": 203,
   "metadata": {},
   "outputs": [],
   "source": [
    "def smallest_item(xs):\n",
    "    return min(xs)\n",
    "\n",
    "assert smallest_item([10, 20, 5, 40]) == 5\n",
    "assert smallest_item([1, 0, -1, 2]) == -1"
   ]
  },
  {
   "cell_type": "code",
   "execution_count": 204,
   "metadata": {},
   "outputs": [],
   "source": [
    "def smallest_item(xs):\n",
    "    assert xs, \"empty list has no smallest item\"\n",
    "    return min(xs)"
   ]
  },
  {
   "cell_type": "markdown",
   "metadata": {},
   "source": [
    "## Object-Oriented Programming"
   ]
  },
  {
   "cell_type": "markdown",
   "metadata": {},
   "source": [
    "Like many languages, Python allows you to define classes that encapsulate data and the functions that operate on them. We’ll use them sometimes to make our code cleaner and simpler. It’s probably simplest to explain them by constructing a heavily annotated example."
   ]
  },
  {
   "cell_type": "code",
   "execution_count": 205,
   "metadata": {},
   "outputs": [],
   "source": [
    "## define class\n",
    "class CountingClicker:\n",
    "    \"\"\"A class can/should have a docstring, just like a function\"\"\"\n",
    "\n",
    "    def __init__(self, count = 0):\n",
    "        self.count = count\n",
    "\n",
    "    def __repr__(self):\n",
    "        return f\"CountingClicker(count={self.count})\"\n",
    "\n",
    "    def click(self, num_times = 1):\n",
    "        \"\"\"Click the clicker some number of times.\"\"\"\n",
    "        self.count += num_times\n",
    "\n",
    "    def read(self):\n",
    "        return self.count\n",
    "\n",
    "    def reset(self):\n",
    "        self.count = 0"
   ]
  },
  {
   "cell_type": "code",
   "execution_count": null,
   "metadata": {},
   "outputs": [],
   "source": [
    "# create object\n",
    "clicker = CountingClicker()\n",
    "assert clicker.read() == 0, \"clicker should start with count 0\"\n",
    "clicker.click()\n",
    "clicker.click()\n",
    "assert clicker.read() == 2, \"after two clicks, clicker should have count 2\"\n",
    "clicker.reset()\n",
    "assert clicker.read() == 0, \"after reset, clicker should be back to 0\""
   ]
  },
  {
   "cell_type": "code",
   "execution_count": 207,
   "metadata": {},
   "outputs": [],
   "source": [
    "# A subclass inherits all the behavior of its parent class.\n",
    "class NoResetClicker(CountingClicker):\n",
    "    # This class has all the same methods as CountingClicker\n",
    "\n",
    "    # Except that it has a reset method that does nothing.\n",
    "    def reset(self):\n",
    "        pass"
   ]
  },
  {
   "cell_type": "code",
   "execution_count": 208,
   "metadata": {},
   "outputs": [],
   "source": [
    "clicker2 = NoResetClicker()\n",
    "assert clicker2.read() == 0\n",
    "clicker2.click()\n",
    "assert clicker2.read() == 1\n",
    "clicker2.reset()\n",
    "assert clicker2.read() == 1, \"reset shouldn't do anything\""
   ]
  },
  {
   "cell_type": "markdown",
   "metadata": {},
   "source": [
    "## Iterables and Generators"
   ]
  },
  {
   "cell_type": "markdown",
   "metadata": {},
   "source": [
    "One nice thing about a list is that you can retrieve specific elements by their indices. But you don’t always need this! A list of a billion numbers takes up a lot of memory. If you only want the elements one at a time, there’s no good reason to keep them all around. If you only end up needing the first several elements, generating the entire billion is hugely wasteful.\n",
    "\n",
    "Often all we need is to iterate over the collection using `for` and `in`. In this case we can create *generators*, which can be iterated over just like lists but generate their values lazily on demand.\n",
    "\n",
    "One way to create generators is with functions and the `yield` operator:"
   ]
  },
  {
   "cell_type": "code",
   "execution_count": 209,
   "metadata": {},
   "outputs": [],
   "source": [
    "def generate_range(n):\n",
    "    i = 0\n",
    "    while i < n:\n",
    "        yield i   # every call to yield produces a value of the generator\n",
    "        i += 1"
   ]
  },
  {
   "cell_type": "code",
   "execution_count": 210,
   "metadata": {},
   "outputs": [
    {
     "name": "stdout",
     "output_type": "stream",
     "text": [
      "i: 0\n",
      "i: 1\n",
      "i: 2\n",
      "i: 3\n",
      "i: 4\n",
      "i: 5\n",
      "i: 6\n",
      "i: 7\n",
      "i: 8\n",
      "i: 9\n"
     ]
    }
   ],
   "source": [
    "for i in generate_range(10):\n",
    "    print(f\"i: {i}\")"
   ]
  },
  {
   "cell_type": "code",
   "execution_count": 211,
   "metadata": {},
   "outputs": [],
   "source": [
    "def natural_numbers():\n",
    "    \"\"\"returns 1, 2, 3, ...\"\"\"\n",
    "    n = 1\n",
    "    while True:\n",
    "        yield n\n",
    "        n += 1"
   ]
  },
  {
   "cell_type": "code",
   "execution_count": 213,
   "metadata": {},
   "outputs": [],
   "source": [
    "evens_below_20 = (i for i in generate_range(20) if i % 2 == 0)"
   ]
  },
  {
   "cell_type": "code",
   "execution_count": 214,
   "metadata": {},
   "outputs": [],
   "source": [
    "# None of these computations *does* anything until we iterate\n",
    "data = natural_numbers()\n",
    "evens = (x for x in data if x % 2 == 0)\n",
    "even_squares = (x ** 2 for x in evens)\n",
    "even_squares_ending_in_six = (x for x in even_squares if x % 10 == 6)\n",
    "# and so on\n",
    "\n",
    "assert next(even_squares_ending_in_six) == 16\n",
    "assert next(even_squares_ending_in_six) == 36\n",
    "assert next(even_squares_ending_in_six) == 196"
   ]
  },
  {
   "cell_type": "code",
   "execution_count": 215,
   "metadata": {},
   "outputs": [
    {
     "name": "stdout",
     "output_type": "stream",
     "text": [
      "name 0 is Alice\n",
      "name 1 is Bob\n",
      "name 2 is Charlie\n",
      "name 3 is Debbie\n",
      "name 0 is Alice\n",
      "name 1 is Bob\n",
      "name 2 is Charlie\n",
      "name 3 is Debbie\n",
      "name 0 is Alice\n",
      "name 1 is Bob\n",
      "name 2 is Charlie\n",
      "name 3 is Debbie\n"
     ]
    }
   ],
   "source": [
    "names = [\"Alice\", \"Bob\", \"Charlie\", \"Debbie\"]\n",
    "\n",
    "# not Pythonic\n",
    "for i in range(len(names)):\n",
    "    print(f\"name {i} is {names[i]}\")\n",
    "\n",
    "# also not Pythonic\n",
    "i = 0\n",
    "for name in names:\n",
    "    print(f\"name {i} is {names[i]}\")\n",
    "    i += 1\n",
    "\n",
    "# Pythonic\n",
    "for i, name in enumerate(names):\n",
    "    print(f\"name {i} is {name}\")"
   ]
  },
  {
   "cell_type": "markdown",
   "metadata": {},
   "source": [
    "## Randomness"
   ]
  },
  {
   "cell_type": "markdown",
   "metadata": {},
   "source": [
    "As we learn data engineering, we will frequently need to generate random numbers, which we can do with the `random` module:"
   ]
  },
  {
   "cell_type": "code",
   "execution_count": 217,
   "metadata": {},
   "outputs": [
    {
     "name": "stdout",
     "output_type": "stream",
     "text": [
      "[0.5714025946899135, 0.4288890546751146, 0.5780913011344704, 0.20609823213950174]\n"
     ]
    }
   ],
   "source": [
    "import random\n",
    "random.seed(10)  # this ensures we get the same results every time\n",
    "\n",
    "four_uniform_randoms = [random.random() for _ in range(4)]\n",
    "print(four_uniform_randoms)\n",
    "\n",
    "# [0.5714025946899135,       # random.random() produces numbers\n",
    "#  0.4288890546751146,       # uniformly between 0 and 1\n",
    "#  0.5780913011344704,       # it's the random function we'll use\n",
    "#  0.20609823213950174]      # most often"
   ]
  },
  {
   "cell_type": "code",
   "execution_count": 218,
   "metadata": {},
   "outputs": [
    {
     "name": "stdout",
     "output_type": "stream",
     "text": [
      "0.5714025946899135\n",
      "0.5714025946899135\n"
     ]
    }
   ],
   "source": [
    "random.seed(10)         # set the seed to 10\n",
    "print(random.random())  # 0.57140259469\n",
    "random.seed(10)         # reset the seed to 10\n",
    "print(random.random())  # 0.57140259469 again"
   ]
  },
  {
   "cell_type": "code",
   "execution_count": 219,
   "metadata": {},
   "outputs": [
    {
     "data": {
      "text/plain": [
       "4"
      ]
     },
     "execution_count": 219,
     "metadata": {},
     "output_type": "execute_result"
    }
   ],
   "source": [
    "random.randrange(10)    # choose randomly from range(10) = [0, 1, ..., 9]\n",
    "random.randrange(3, 6)  # choose randomly from range(3, 6) = [3, 4, 5]"
   ]
  },
  {
   "cell_type": "code",
   "execution_count": 220,
   "metadata": {},
   "outputs": [
    {
     "name": "stdout",
     "output_type": "stream",
     "text": [
      "[5, 6, 9, 2, 3, 7, 8, 4, 1, 10]\n"
     ]
    }
   ],
   "source": [
    "up_to_ten = [1, 2, 3, 4, 5, 6, 7, 8, 9, 10]\n",
    "random.shuffle(up_to_ten)\n",
    "print(up_to_ten)\n",
    "# [7, 2, 6, 8, 9, 4, 10, 1, 3, 5]   (your results will probably be different)"
   ]
  },
  {
   "cell_type": "code",
   "execution_count": 229,
   "metadata": {},
   "outputs": [
    {
     "name": "stdout",
     "output_type": "stream",
     "text": [
      "Charlie\n"
     ]
    }
   ],
   "source": [
    "my_best_friend = random.choice([\"Alice\", \"Bob\", \"Charlie\"])     # \"Bob\" for me\n",
    "print(my_best_friend)"
   ]
  },
  {
   "cell_type": "code",
   "execution_count": 230,
   "metadata": {},
   "outputs": [],
   "source": [
    "lottery_numbers = range(60)\n",
    "winning_numbers = random.sample(lottery_numbers, 6)  # [16, 36, 10, 6, 25, 9]"
   ]
  },
  {
   "cell_type": "code",
   "execution_count": 231,
   "metadata": {},
   "outputs": [
    {
     "name": "stdout",
     "output_type": "stream",
     "text": [
      "[4, 7, 2, 4]\n"
     ]
    }
   ],
   "source": [
    "four_with_replacement = [random.choice(range(10)) for _ in range(4)]\n",
    "print(four_with_replacement)  # [9, 4, 4, 2]"
   ]
  },
  {
   "cell_type": "markdown",
   "metadata": {},
   "source": [
    "## Regular Expressions"
   ]
  },
  {
   "cell_type": "markdown",
   "metadata": {},
   "source": [
    "Regular expressions provide a way of searching text. They are incredibly useful, but also fairly complicated—so much so that there are entire books written about them. We will get into their details the few times we encounter them; here are a few examples of how to use them in Python:"
   ]
  },
  {
   "cell_type": "code",
   "execution_count": 234,
   "metadata": {},
   "outputs": [],
   "source": [
    "import re\n",
    "\n",
    "re_examples = [                        # all of these are true, because\n",
    "    not re.match(\"a\", \"cat\"),              #  'cat' doesn't start with 'a'\n",
    "    re.search(\"a\", \"cat\"),                 #  'cat' has an 'a' in it\n",
    "    not re.search(\"c\", \"dog\"),             #  'dog' doesn't have a 'c' in it\n",
    "    3 == len(re.split(\"[ab]\", \"carbs\")),   #  split on a or b to ['c','r','s']\n",
    "    \"R-D-\" == re.sub(\"[0-9]\", \"-\", \"R2D2\") #  replace digits with dashes\n",
    "    ]\n",
    "\n",
    "assert all(re_examples), \"all the regex examples should be True\""
   ]
  },
  {
   "cell_type": "markdown",
   "metadata": {},
   "source": [
    "## zip and Argument Unpacking"
   ]
  },
  {
   "cell_type": "markdown",
   "metadata": {},
   "source": [
    "Often we will need to `zip` two or more iterables together. The `zip` function transforms multiple iterables into a single iterable of tuples of corresponding function:"
   ]
  },
  {
   "cell_type": "code",
   "execution_count": 235,
   "metadata": {},
   "outputs": [],
   "source": [
    "list1 = ['a', 'b', 'c']\n",
    "list2 = [1, 2, 3]\n",
    "\n",
    "# zip is lazy, so you have to do something like the following\n",
    "[pair for pair in zip(list1, list2)]    # is [('a', 1), ('b', 2), ('c', 3)]\n",
    "\n",
    "\n",
    "assert [pair for pair in zip(list1, list2)] == [('a', 1), ('b', 2), ('c', 3)]"
   ]
  },
  {
   "cell_type": "code",
   "execution_count": 236,
   "metadata": {},
   "outputs": [],
   "source": [
    "pairs = [('a', 1), ('b', 2), ('c', 3)]\n",
    "letters, numbers = zip(*pairs)"
   ]
  },
  {
   "cell_type": "code",
   "execution_count": 237,
   "metadata": {},
   "outputs": [],
   "source": [
    "letters, numbers = zip(('a', 1), ('b', 2), ('c', 3))"
   ]
  },
  {
   "cell_type": "code",
   "execution_count": 238,
   "metadata": {},
   "outputs": [
    {
     "name": "stdout",
     "output_type": "stream",
     "text": [
      "add expects two inputs\n"
     ]
    },
    {
     "data": {
      "text/plain": [
       "3"
      ]
     },
     "execution_count": 238,
     "metadata": {},
     "output_type": "execute_result"
    }
   ],
   "source": [
    "def add(a, b): return a + b\n",
    "\n",
    "add(1, 2)      # returns 3\n",
    "try:\n",
    "    add([1, 2])\n",
    "except TypeError:\n",
    "    print(\"add expects two inputs\")\n",
    "add(*[1, 2])   # returns 3"
   ]
  },
  {
   "cell_type": "markdown",
   "metadata": {},
   "source": [
    "## args and kwargs"
   ]
  },
  {
   "cell_type": "markdown",
   "metadata": {},
   "source": [
    "Let’s say we want to create a higher-order function that takes as input some function `f` and returns a new function that for any input returns twice the value of `f`:"
   ]
  },
  {
   "cell_type": "code",
   "execution_count": 239,
   "metadata": {},
   "outputs": [],
   "source": [
    "def doubler(f):\n",
    "    # Here we define a new function that keeps a reference to f\n",
    "    def g(x):\n",
    "        return 2 * f(x)\n",
    "\n",
    "    # And return that new function.\n",
    "    return g"
   ]
  },
  {
   "cell_type": "code",
   "execution_count": 240,
   "metadata": {},
   "outputs": [],
   "source": [
    "def f1(x):\n",
    "    return x + 1\n",
    "\n",
    "g = doubler(f1)\n",
    "assert g(3) == 8,  \"(3 + 1) * 2 should equal 8\"\n",
    "assert g(-1) == 0, \"(-1 + 1) * 2 should equal 0\""
   ]
  },
  {
   "cell_type": "code",
   "execution_count": 241,
   "metadata": {},
   "outputs": [
    {
     "name": "stdout",
     "output_type": "stream",
     "text": [
      "as defined, g only takes one argument\n"
     ]
    }
   ],
   "source": [
    "def f2(x, y):\n",
    "    return x + y\n",
    "\n",
    "g = doubler(f2)\n",
    "try:\n",
    "    g(1, 2)\n",
    "except TypeError:\n",
    "    print(\"as defined, g only takes one argument\")"
   ]
  },
  {
   "cell_type": "code",
   "execution_count": 243,
   "metadata": {},
   "outputs": [
    {
     "name": "stdout",
     "output_type": "stream",
     "text": [
      "unnamed args: (1, 2)\n",
      "keyword args: {'key': 'word', 'key2': 'word2'}\n"
     ]
    }
   ],
   "source": [
    "def magic(*args, **kwargs):\n",
    "    print(\"unnamed args:\", args)\n",
    "    print(\"keyword args:\", kwargs)\n",
    "\n",
    "magic(1, 2, key=\"word\", key2=\"word2\")\n",
    "\n",
    "# prints\n",
    "#  unnamed args: (1, 2)\n",
    "#  keyword args: {'key': 'word', 'key2': 'word2'}"
   ]
  },
  {
   "cell_type": "code",
   "execution_count": 244,
   "metadata": {},
   "outputs": [],
   "source": [
    "def other_way_magic(x, y, z):\n",
    "    return x + y + z\n",
    "\n",
    "x_y_list = [1, 2]\n",
    "z_dict = {\"z\": 3}\n",
    "assert other_way_magic(*x_y_list, **z_dict) == 6, \"1 + 2 + 3 should be 6\""
   ]
  },
  {
   "cell_type": "code",
   "execution_count": 245,
   "metadata": {},
   "outputs": [],
   "source": [
    "def doubler_correct(f):\n",
    "    \"\"\"works no matter what kind of inputs f expects\"\"\"\n",
    "    def g(*args, **kwargs):\n",
    "        \"\"\"whatever arguments g is supplied, pass them through to f\"\"\"\n",
    "        return 2 * f(*args, **kwargs)\n",
    "    return g\n",
    "\n",
    "g = doubler_correct(f2)\n",
    "assert g(1, 2) == 6, \"doubler should work now\""
   ]
  },
  {
   "cell_type": "markdown",
   "metadata": {},
   "source": [
    "## Type Annotations"
   ]
  },
  {
   "cell_type": "markdown",
   "metadata": {},
   "source": [
    "Python is a *dynamically typed* language. That means that it in general it doesn’t care about the types of objects we use, as long as we use them in valid ways:"
   ]
  },
  {
   "cell_type": "code",
   "execution_count": 246,
   "metadata": {},
   "outputs": [
    {
     "name": "stdout",
     "output_type": "stream",
     "text": [
      "cannot add an int to a string\n"
     ]
    }
   ],
   "source": [
    "## dynamically typed\n",
    "def add(a, b):\n",
    "    return a + b\n",
    "\n",
    "assert add(10, 5) == 15,                  \"+ is valid for numbers\"\n",
    "assert add([1, 2], [3]) == [1, 2, 3],     \"+ is valid for lists\"\n",
    "assert add(\"hi \", \"there\") == \"hi there\", \"+ is valid for strings\"\n",
    "\n",
    "try:\n",
    "    add(10, \"five\")\n",
    "except TypeError:\n",
    "    print(\"cannot add an int to a string\")"
   ]
  },
  {
   "cell_type": "code",
   "execution_count": 247,
   "metadata": {},
   "outputs": [
    {
     "data": {
      "text/plain": [
       "'hi there'"
      ]
     },
     "execution_count": 247,
     "metadata": {},
     "output_type": "execute_result"
    }
   ],
   "source": [
    "## statically typed\n",
    "def add(a: int, b: int) -> int:\n",
    "    return a + b\n",
    "\n",
    "add(10, 5)           # you'd like this to be OK\n",
    "add(\"hi \", \"there\")  # you'd like this to be not OK"
   ]
  },
  {
   "cell_type": "code",
   "execution_count": 248,
   "metadata": {},
   "outputs": [],
   "source": [
    "# This is not in the book, but it's needed\n",
    "# to make the `dot_product` stubs not error out.\n",
    "from typing import List\n",
    "Vector = List[float]\n",
    "\n",
    "def dot_product(x, y): ...\n",
    "\n",
    "# we have not yet defined Vector, but imagine we had\n",
    "def dot_product(x: Vector, y: Vector) -> float: ...\n",
    "\n",
    "from typing import Union\n",
    "\n",
    "def secretly_ugly_function(value, operation): ...\n",
    "\n",
    "def ugly_function(value: int, operation: Union[str, int, float, bool]) -> int:\n",
    "    ...\n",
    "\n",
    "def total(xs: list) -> float:\n",
    "    return sum(xs)\n",
    "\n",
    "from typing import List  # note capital L\n",
    "\n",
    "def total(xs: List[float]) -> float:\n",
    "    return sum(xs)\n",
    "\n",
    "# This is how to type-annotate variables when you define them.\n",
    "# But this is unnecessary; it's \"obvious\" x is an int.\n",
    "x: int = 5\n",
    "\n",
    "values = []         # what's my type?\n",
    "best_so_far = None  # what's my type?\n",
    "\n",
    "from typing import Optional\n",
    "\n",
    "values: List[int] = []\n",
    "best_so_far: Optional[float] = None  # allowed to be either a float or None\n",
    "\n",
    "lazy = True\n",
    "\n",
    "# the type annotations in this snippet are all unnecessary\n",
    "from typing import Dict, Iterable, Tuple\n",
    "\n",
    "# keys are strings, values are ints\n",
    "counts: Dict[str, int] = {'data': 1, 'engineering': 2}\n",
    "\n",
    "# lists and generators are both iterable\n",
    "if lazy:\n",
    "    evens: Iterable[int] = (x for x in range(10) if x % 2 == 0)\n",
    "else:\n",
    "    evens = [0, 2, 4, 6, 8]\n",
    "\n",
    "# tuples specify a type for each element\n",
    "triple: Tuple[int, float, int] = (10, 2.3, 5)\n",
    "\n",
    "from typing import Callable\n",
    "\n",
    "# The type hint says that repeater is a function that takes\n",
    "# two arguments, a string and an int, and returns a string.\n",
    "def twice(repeater: Callable[[str, int], str], s: str) -> str:\n",
    "    return repeater(s, 2)\n",
    "\n",
    "def comma_repeater(s: str, n: int) -> str:\n",
    "    n_copies = [s for _ in range(n)]\n",
    "    return ', '.join(n_copies)\n",
    "\n",
    "assert twice(comma_repeater, \"type hints\") == \"type hints, type hints\"\n",
    "\n",
    "Number = int\n",
    "Numbers = List[Number]\n",
    "\n",
    "def total(xs: Numbers) -> Number:\n",
    "    return sum(xs)"
   ]
  },
  {
   "cell_type": "markdown",
   "metadata": {},
   "source": [
    "# An Application of Python  for Big Data Engineering"
   ]
  },
  {
   "cell_type": "markdown",
   "metadata": {},
   "source": [
    "## Writing and reading files in Python"
   ]
  },
  {
   "cell_type": "markdown",
   "metadata": {},
   "source": [
    "### working with data need libraries"
   ]
  },
  {
   "cell_type": "markdown",
   "metadata": {},
   "source": [
    "install `Faker` package\n",
    "\n",
    "`conda install -c conda-forge faker`\n",
    "\n",
    "or\n",
    "\n",
    "`pip install Faker`"
   ]
  },
  {
   "cell_type": "markdown",
   "metadata": {},
   "source": [
    "### Writing and reading CSVs"
   ]
  },
  {
   "cell_type": "markdown",
   "metadata": {},
   "source": [
    "Writing CSVs using the Python CSV Library. Create 1,000 records data and save to CSV format"
   ]
  },
  {
   "cell_type": "code",
   "execution_count": 10,
   "metadata": {},
   "outputs": [],
   "source": [
    "from faker import Faker"
   ]
  },
  {
   "cell_type": "code",
   "execution_count": 11,
   "metadata": {},
   "outputs": [],
   "source": [
    "from faker import Faker\n",
    "import csv\n",
    "\n",
    "output=open('data.csv','w')\n",
    "\n",
    "fake=Faker()\n",
    "header=['name','age','street','city','state','zip','lng','lat']\n",
    "mywriter=csv.writer(output)\n",
    "mywriter.writerow(header)\n",
    "\n",
    "for r in range(1000):\n",
    "    mywriter.writerow([fake.name(),fake.random_int(min=18, max=80, step=1), \n",
    "                       fake.street_address(), \n",
    "                       fake.city(),\n",
    "                       fake.state(),\n",
    "                       fake.zipcode(),\n",
    "                       fake.longitude(),\n",
    "                       fake.latitude()])\n",
    "output.close()"
   ]
  },
  {
   "cell_type": "markdown",
   "metadata": {},
   "source": [
    "Reading CSVs"
   ]
  },
  {
   "cell_type": "code",
   "execution_count": 12,
   "metadata": {},
   "outputs": [
    {
     "name": "stdout",
     "output_type": "stream",
     "text": [
      "Arthur Gardner\n",
      "Ryan Johnson\n",
      "Julie Jones\n",
      "Rhonda Price\n",
      "Andrew Fletcher\n",
      "Roger Taylor\n",
      "Jose Smith\n",
      "Richard Francis\n",
      "Erin Mclean\n",
      "Nina Gregory\n",
      "Kimberly Knox\n",
      "Jason Jensen\n",
      "Michael Webster\n",
      "Tonya Pham\n",
      "Tammy Palmer\n",
      "Matthew Cruz\n",
      "Mary Campbell\n",
      "Amy Heath\n",
      "Gail Neal\n",
      "Cindy Freeman\n",
      "Shawna Robinson\n",
      "Amber Munoz\n",
      "Alex Hodge\n",
      "Crystal Collier\n",
      "Alexandra Williams\n",
      "Douglas Lewis\n",
      "Evelyn Wallace\n",
      "Jessica Boyd\n",
      "David Owens\n",
      "Kevin Harper\n",
      "Elizabeth Turner\n",
      "Stephanie Nelson\n",
      "Christian Benson\n",
      "Steven Mosley\n",
      "Brian Greer\n",
      "Gwendolyn Johnson\n",
      "Samantha Cortez\n",
      "William Solis\n",
      "Jessica Miller\n",
      "Jennifer Sharp\n",
      "Joshua Thomas\n",
      "Gary Jones\n",
      "David Tucker\n",
      "Anthony Manning\n",
      "Daniel Graham\n",
      "Ryan Cortez\n",
      "Mr. Aaron Mccarthy\n",
      "Joseph Martinez\n",
      "William Moreno\n",
      "Melissa Mclaughlin\n",
      "Jonathan Rubio\n",
      "Luis Dillon\n",
      "Heidi Johnson\n",
      "Catherine Robinson\n",
      "Sheila Gonzalez\n",
      "Aaron Green\n",
      "Joseph Spencer\n",
      "Jennifer Miller\n",
      "Michele Escobar\n",
      "Keith Smith\n",
      "Erin Lee\n",
      "Mark Hopkins\n",
      "Amanda Smith\n",
      "Sara Collins\n",
      "Tammie Fisher\n",
      "Matthew Perry\n",
      "Scott Bailey\n",
      "Ricky Mitchell\n",
      "Kristin Beck\n",
      "Robert Thomas\n",
      "Jacqueline Johnson\n",
      "Adam Cunningham\n",
      "Gregory Alexander\n",
      "Tanya Williams\n",
      "Crystal Padilla\n",
      "Thomas Pope\n",
      "Melissa Randolph\n",
      "Anna Fritz\n",
      "Paul Sanchez\n",
      "Robin Stevens\n",
      "Christopher Ramirez\n",
      "Jason Neal\n",
      "Tara Mcdonald\n",
      "Kaylee Mccarthy\n",
      "Scott Schneider\n",
      "Abigail Maldonado\n",
      "Sheri Young\n",
      "Kari Perkins\n",
      "Shane Hurley\n",
      "Frederick Mullins\n",
      "Chad Esparza\n",
      "Rachel Lopez\n",
      "Jeffrey Hall\n",
      "Donald Burnett\n",
      "Linda Richardson\n",
      "Karen Harris\n",
      "Jennifer Perez\n",
      "George Vaughan\n",
      "Scott Jenkins\n",
      "Hannah White\n",
      "Christine Moss\n",
      "David Berg\n",
      "Samuel Waller\n",
      "Chris Lee\n",
      "David Allen\n",
      "Katrina Marquez\n",
      "Scott Moore\n",
      "Melissa Howell\n",
      "Jennifer Foster\n",
      "Pamela Sanchez\n",
      "Jonathan Wells\n",
      "David Nguyen\n",
      "Patricia Cunningham\n",
      "Tyler Wright\n",
      "Dr. Pamela Porter\n",
      "Brenda Walker\n",
      "Jeremy Martin\n",
      "Richard Shaw\n",
      "Jessica Dalton\n",
      "Mrs. Leslie Villarreal\n",
      "Andrea Johnson\n",
      "Marc Price\n",
      "Paul Soto\n",
      "Matthew Sawyer\n",
      "Crystal Tate\n",
      "Timothy Murray\n",
      "Steven Jimenez MD\n",
      "Ryan Smith\n",
      "Denise Marsh\n",
      "Cody Reyes\n",
      "Deborah Patterson\n",
      "Michael Chavez\n",
      "Kara Harris\n",
      "Shirley Johnson\n",
      "Kelly Simmons\n",
      "Jessica Powers\n",
      "Erica Le\n",
      "Carmen Young MD\n",
      "Bruce Perez\n",
      "Sherri Hahn\n",
      "Emily Clark\n",
      "Dr. Jason Humphrey\n",
      "Lisa Davis\n",
      "Katherine Miller\n",
      "Jasmine Gordon\n",
      "Andrew Sweeney\n",
      "Diana Moses\n",
      "Alicia Lopez\n",
      "Benjamin Blackburn\n",
      "Jennifer Jackson\n",
      "Sarah Sexton\n",
      "Denise Foster\n",
      "Casey Gross\n",
      "Jessica Brooks\n",
      "Taylor Schneider\n",
      "Jillian Thomas\n",
      "Frank Dickerson\n",
      "Dawn Alexander\n",
      "Scott Bennett\n",
      "Nicholas Long\n",
      "Dennis Hansen\n",
      "Robert Jones PhD\n",
      "Sara Vasquez\n",
      "Frank Hicks\n",
      "Peter Hale\n",
      "Alicia Park\n",
      "Nathan Henry\n",
      "Christine Blake\n",
      "Erika Case\n",
      "Joseph Bolton\n",
      "Emily Anderson\n",
      "Ana Gould\n",
      "Joseph Trevino\n",
      "Mark Wade\n",
      "Dr. Abigail Berry\n",
      "Christopher Franco\n",
      "Derek Walker\n",
      "Kelli Hays\n",
      "Roger Gallagher\n",
      "Janet Moore\n",
      "Katie Bean DVM\n",
      "Jennifer Jackson\n",
      "Richard Wheeler\n",
      "Brian Schneider\n",
      "Katie Walsh\n",
      "Abigail Lee\n",
      "James Martin\n",
      "Angie Brown\n",
      "Jenny Colon\n",
      "Bianca Bennett\n",
      "Ms. Erica Perry\n",
      "Alexandra Herrera\n",
      "Angela Russell\n",
      "Cynthia Patrick\n",
      "Michele Banks\n",
      "Amber Walsh\n",
      "Andrew Miller\n",
      "Hayley Elliott\n",
      "Holly Garcia\n",
      "Jacqueline Phillips\n",
      "Tina Pierce\n",
      "Katie Jenkins\n",
      "Lisa Charles\n",
      "Calvin Walsh\n",
      "Jasmine Hernandez\n",
      "Michael Gonzalez\n",
      "Benjamin Gray\n",
      "Angela Hill\n",
      "Richard Gonzalez\n",
      "Andrea Gonzalez\n",
      "John Mitchell\n",
      "Cheryl Gonzalez\n",
      "Frederick Macdonald\n",
      "Bill Adams DDS\n",
      "Cynthia Evans\n",
      "Jessica Steele\n",
      "Daniel Holland\n",
      "Wendy King\n",
      "Christian Smith\n",
      "Zachary Garcia\n",
      "Daniel Mays\n",
      "Marie Page\n",
      "Carlos Robinson\n",
      "Anthony Webster DDS\n",
      "Richard Poole\n",
      "Christopher Murphy\n",
      "Kelly Peterson\n",
      "James Smith\n",
      "Diana Munoz\n",
      "Dr. Martin Padilla Jr.\n",
      "Kimberly Trevino\n",
      "Crystal Warren\n",
      "Kathy Richardson\n",
      "Susan Mendoza\n",
      "Bryan Cantu\n",
      "Michelle Coleman\n",
      "Jonathan Johnson\n",
      "Jessica Parker\n",
      "Kevin Krause\n",
      "Wanda Campbell\n",
      "Carol Wade\n",
      "Rhonda Hardy\n",
      "Jennifer Alvarez\n",
      "Katrina Cooley\n",
      "Victoria Hughes\n",
      "Kathryn Murphy\n",
      "Kimberly Acosta\n",
      "Gabriel Padilla\n",
      "Donald Anderson\n",
      "Anthony Kirk\n",
      "Tammy Woods\n",
      "Kelli Cowan\n",
      "Lauren Garcia\n",
      "Jennifer Wood\n",
      "Sandra Ellis\n",
      "Leah Burns\n",
      "Joshua Lawrence\n",
      "Mr. Mark Knox II\n",
      "Sabrina Wilson\n",
      "Ashley Goodman\n",
      "Jenna Parks\n",
      "Dustin Sanchez\n",
      "Frederick Parker\n",
      "Janet Chen\n",
      "Michelle Hall\n",
      "Tiffany Dean\n",
      "Mr. Richard Stewart\n",
      "Melissa Wilson\n",
      "Charles Smith\n",
      "Jeffrey Rodriguez\n",
      "Nicole Gibbs\n",
      "Melissa Miller\n",
      "Elizabeth Jones\n",
      "Daniel Thomas\n",
      "Courtney Ellis\n",
      "Mrs. Kristin Martinez\n",
      "April Hines\n",
      "Noah Nguyen\n",
      "Kyle Williams\n",
      "Michelle Ramos\n",
      "Ashley Cook\n",
      "Kenneth Browning\n",
      "Patrick Brown III\n",
      "Andrea Cook\n",
      "Debra Wood\n",
      "Christopher Tucker\n",
      "Aaron Cole\n",
      "William Collins\n",
      "Grace Austin\n",
      "Jordan Ruiz\n",
      "Jennifer Andrews\n",
      "Dwayne Collins Jr.\n",
      "Kristin Lambert\n",
      "Gregory Lopez\n",
      "Scott Randall\n",
      "Lisa Rodriguez\n",
      "Daniel Silva\n",
      "Gary Jones\n",
      "John Hubbard\n",
      "Bobby Sharp\n",
      "Anne Smith\n",
      "Jimmy Barnes\n",
      "Amanda Contreras\n",
      "Tanya Bowen\n",
      "Yolanda Thomas\n",
      "Faith Nelson\n",
      "Melanie Summers\n",
      "Dylan Beck\n",
      "Kathryn Page\n",
      "Robin Rodriguez\n",
      "Kevin Lee\n",
      "Christopher Reyes\n",
      "Jasmine Dunn\n",
      "Emily Smith\n",
      "Thomas Edwards\n",
      "Teresa Alvarez\n",
      "Julie Adams\n",
      "Brian Graham\n",
      "Evan Reynolds\n",
      "Marie Kelly\n",
      "Samuel Hawkins\n",
      "Judy Boyd\n",
      "Lisa Braun\n",
      "Ronald Peterson\n",
      "Ryan Buckley\n",
      "Laura Hampton\n",
      "Nicole Brown\n",
      "Kathleen Brown\n",
      "Scott Phillips\n",
      "Alyssa Hernandez\n",
      "Martha Frank\n",
      "Emily Brewer\n",
      "Tiffany Fleming MD\n",
      "Joseph Owens\n",
      "Tyler Crawford\n",
      "Bob Woods\n",
      "Meagan Bean\n",
      "Matthew Chapman\n",
      "Zachary Smith\n",
      "Alyssa Gonzalez\n",
      "Kevin Mosley\n",
      "Steven Patterson\n",
      "Ryan Henderson\n",
      "Christina Cummings\n",
      "Sally Durham\n",
      "Mark Matthews\n",
      "Megan Lee\n",
      "Dawn Bowen\n",
      "Anne Smith\n",
      "Nancy Jones\n",
      "Larry Mueller\n",
      "Andrew Hudson\n",
      "Jennifer Walsh\n",
      "Kimberly Vega\n",
      "James Hall\n",
      "Jack Burton\n",
      "Anthony Harrington\n",
      "Thomas Pope\n",
      "Andrea Sanchez\n",
      "Darren Smith Jr.\n",
      "Kathleen Mclaughlin\n",
      "Anthony Russell\n",
      "Scott Miller\n",
      "Hunter Cohen\n",
      "Rebecca Frank\n",
      "Ryan Cobb\n",
      "Teresa Ray\n",
      "Aaron Peck\n",
      "Robert Hamilton\n",
      "Darlene Moss\n",
      "Jason Nguyen\n",
      "Susan Landry\n",
      "Destiny Howell\n",
      "Michelle Warren\n",
      "David Payne\n",
      "Cheryl Mendez\n",
      "Brian Estes\n",
      "David Williams\n",
      "Derek Ramos\n",
      "Deanna Walker\n",
      "Dominique Lee\n",
      "Melinda Bishop\n",
      "Tyler Horne\n",
      "Lisa Figueroa\n",
      "Christine Malone\n",
      "Alison Walters\n",
      "Matthew Hull\n",
      "Mr. Tracy Riley\n",
      "Ashley Vega\n",
      "Bryan Mills\n",
      "Roger Hernandez\n",
      "Justin Allen\n",
      "Jesse Webster\n",
      "Vanessa Smith\n",
      "Joshua Blackwell\n",
      "Curtis Hill\n",
      "Justin Davis\n",
      "Angela Torres\n",
      "Emily Smith\n",
      "Brooke Mitchell\n",
      "Michael Johnson\n",
      "Philip Howard\n",
      "Sharon Carrillo\n",
      "Michele Morrow\n",
      "Austin Miller\n",
      "Julia Andrews\n",
      "Brandon Underwood\n",
      "Mr. David Velasquez DDS\n",
      "Alexandra Jones\n",
      "Tiffany Garcia\n",
      "Todd Wright II\n",
      "Joseph Bell\n",
      "Natalie Hill\n",
      "Mark Yates\n",
      "Janet Long\n",
      "Rhonda Oneill\n",
      "Douglas Washington\n",
      "Curtis Graham\n",
      "Joshua Riggs\n",
      "Kristin Thompson\n",
      "Juan Howard\n",
      "Susan Holland\n",
      "Nancy Bailey\n",
      "Charles Clark\n",
      "Michael Harrison\n",
      "Mr. Samuel Harrington DVM\n",
      "Amber Vincent\n",
      "Tracey Morse\n",
      "Michael Williams\n",
      "Peter Miller\n",
      "Ricardo Mcmahon\n",
      "Stacy Jones\n",
      "Michael Bridges\n",
      "Meghan Mendoza\n",
      "Daniel Chandler\n",
      "Cheryl Day\n",
      "Nicholas Woodard\n",
      "Jillian Mendoza\n",
      "Jesus Hall\n",
      "Maria Taylor\n",
      "Jose Hughes\n",
      "Ms. Eileen Hall\n",
      "Steven Steele\n",
      "Tyrone Franklin\n",
      "James Hart\n",
      "Gregory Graham\n",
      "Haley Lopez\n",
      "Sharon Stewart\n",
      "April Christensen\n",
      "Barry Carey\n",
      "Timothy Good\n",
      "Diane Tapia\n",
      "Erin Aguilar\n",
      "Sean Lowe\n",
      "Nicole Lowery\n",
      "Kimberly Gibbs\n",
      "Dr. Caroline Simmons MD\n",
      "Timothy Valdez\n",
      "Victoria Christensen\n",
      "Rachel Stuart\n",
      "Ashley James\n",
      "Russell Perez\n",
      "Gina Santos\n",
      "Connie Ramirez\n",
      "Matthew Vaughn\n",
      "Billy Patel\n",
      "Kendra Brown\n",
      "Wendy Roberts\n",
      "Edward Krause\n",
      "Patricia Murphy\n",
      "Natalie Richards\n",
      "Joseph Williams\n",
      "Michelle Dickson\n",
      "John Bryant\n",
      "Ann Schmitt\n",
      "Roberto Smith\n",
      "Jason Parsons\n",
      "Donald Quinn\n",
      "Carolyn Kim\n",
      "Rachel Leonard\n",
      "Karen Davis\n",
      "Theresa Dominguez\n",
      "Kristen Miller\n",
      "John Walker\n",
      "Zachary Patton\n",
      "Eric Lynch\n",
      "Victoria Lawrence\n",
      "Eric Chase\n",
      "Jonathan Harris\n",
      "Rose Torres\n",
      "Angelica Evans\n",
      "Courtney Lucero\n",
      "Pamela Roberts\n",
      "Susan Martin\n",
      "Michael Marshall\n",
      "Juan Hill\n",
      "Brian Sullivan\n",
      "Erica Harvey\n",
      "Justin Henderson\n",
      "Lori Porter\n",
      "Douglas Jackson Jr.\n",
      "Brad Hensley\n",
      "Joshua Rogers\n",
      "Rachel Jimenez\n",
      "Douglas Phillips\n",
      "Christopher Roberts\n",
      "Donna Navarro\n",
      "Laura Edwards\n",
      "Luis Williams\n",
      "Kimberly Vega\n",
      "Juan Myers\n",
      "Ashley Young\n",
      "Jose Adams\n",
      "Mary Gray\n",
      "Maria Gardner\n",
      "Calvin Robbins\n",
      "Charles Moore\n",
      "Elizabeth Nelson\n",
      "Mary Henderson\n",
      "Nicole Watkins\n",
      "Elizabeth Robinson\n",
      "Angela Lopez\n",
      "Joann Weaver\n",
      "Christina White\n",
      "Laura Dean\n",
      "Patrick Estrada\n",
      "Kelly Bond\n",
      "James Lester\n",
      "Tiffany Davis\n",
      "Thomas Moses\n",
      "Karen West\n",
      "Anthony Potter\n",
      "Christopher Williams\n",
      "Cynthia Cox\n",
      "Spencer Jackson\n",
      "Valerie Hurst\n",
      "Aaron Marks\n",
      "Lindsay Melton\n",
      "Kara Freeman\n",
      "Jonathan Hale\n",
      "Lisa Aguilar\n",
      "Jonathan Daniels DVM\n",
      "Andrea Kim\n",
      "Robert White\n",
      "Megan Tran\n",
      "Nancy Romero\n",
      "Peter Chen\n",
      "Craig Fowler\n",
      "Diana Daniel\n",
      "Robert Rhodes\n",
      "Gabrielle Sanchez\n",
      "Mr. Robert Jenkins\n",
      "Krystal Esparza\n",
      "Michael Hill\n",
      "Sue Shields\n",
      "Stephanie Richmond\n",
      "William Lopez\n",
      "Jessica Pearson\n",
      "Kristen Nguyen\n",
      "Jackie Green\n",
      "Linda Hill\n",
      "Carl Koch\n",
      "Lisa Larsen\n",
      "Vincent Lawrence\n",
      "Gina Johnson\n",
      "Linda Sims\n",
      "Shirley Barnes\n",
      "Justin Herrera\n",
      "Michele Gray DDS\n",
      "Jennifer Morris\n",
      "Christine Robinson\n",
      "Mary Jacobs\n",
      "Tommy Thompson\n",
      "Tricia White\n",
      "Maria Brown\n",
      "Jill Walker\n",
      "Katherine Ferguson\n",
      "Alicia Yoder\n",
      "Kevin Anderson\n",
      "Jared Nelson\n",
      "Miss Jennifer Blake DVM\n",
      "Yolanda White\n",
      "Danielle Nguyen\n",
      "Christopher Perez\n",
      "Douglas Carter\n",
      "Kyle Lopez\n",
      "Rebecca Martin\n",
      "Pamela Sutton\n",
      "Leah Thomas MD\n",
      "Amber Baker\n",
      "Benjamin Diaz\n",
      "Heather Hubbard\n",
      "Michelle Gill\n",
      "Stephen Mathews\n",
      "Joseph Gray\n",
      "Peter Lopez\n",
      "Jamie Lee\n",
      "Wesley Saunders\n",
      "Christian Donovan\n",
      "Rachel Myers\n",
      "Shari Martinez\n",
      "Todd Schmidt\n",
      "Christopher Sims DDS\n",
      "Mark Johnson\n",
      "Emily Mccarty\n",
      "Reginald Wright\n",
      "Rebekah Morgan\n",
      "Hannah Young\n",
      "Ann Parker\n",
      "Vickie Payne\n",
      "Emily Blair\n",
      "Carlos Johnson\n",
      "Herbert Abbott\n",
      "Brianna Kelly\n",
      "William Atkinson\n",
      "Jessica Watkins\n",
      "Rebecca Marshall\n",
      "Stephen Ryan\n",
      "Leslie Hinton\n",
      "Ashlee Huynh\n",
      "Troy Hubbard\n",
      "Grace Carpenter\n",
      "Christopher Perez\n",
      "Debra Banks\n",
      "Steven Henderson\n",
      "Jasmine Caldwell\n",
      "Stephen Tucker\n",
      "Cameron Coleman\n",
      "Jason Hines\n",
      "Ian Gates\n",
      "Charles Malone\n",
      "Jessica Sullivan\n",
      "Andrew Wallace\n",
      "Stephen Cooper\n",
      "Jane Howell\n",
      "Mrs. Heather Montoya\n"
     ]
    },
    {
     "name": "stdout",
     "output_type": "stream",
     "text": [
      "Colin Phillips\n",
      "Courtney Stokes\n",
      "Brian Walker\n",
      "Kara Chase\n",
      "Johnny Wilson\n",
      "Robert Hunter\n",
      "Dawn Webb\n",
      "Valerie Ruiz\n",
      "Heidi Fernandez\n",
      "Robert Watson\n",
      "Kayla Flores\n",
      "Barbara Sexton\n",
      "Krystal Young\n",
      "Rachel Rogers\n",
      "Kathryn Harris\n",
      "Wayne Fitzgerald\n",
      "Renee Jones\n",
      "Kristen Brown\n",
      "Samuel Byrd\n",
      "Kristin Rose\n",
      "Anna Sullivan MD\n",
      "Nathan Huang\n",
      "Thomas Mcclure\n",
      "Rhonda Reyes\n",
      "Jennifer Vazquez\n",
      "Logan Cole\n",
      "Julia Scott\n",
      "Megan Larson\n",
      "Jesus Wolf\n",
      "Jon Lutz\n",
      "Jason Hubbard\n",
      "Aaron Smith\n",
      "Christopher Valenzuela\n",
      "David Williams\n",
      "Amy Lewis\n",
      "Jane Washington\n",
      "Lisa Sanchez\n",
      "Holly Baker\n",
      "Heather Hopkins\n",
      "Sharon Gonzalez\n",
      "Sarah Ibarra\n",
      "Jillian Pratt\n",
      "Julie Burton\n",
      "Debbie Green\n",
      "Bobby Johnson\n",
      "Anthony Garcia\n",
      "Joseph Garcia\n",
      "Cathy Davis\n",
      "Brett Martin\n",
      "Samuel Delacruz\n",
      "James Hopkins\n",
      "Michelle Perry\n",
      "Erica Castaneda\n",
      "Kimberly Herring\n",
      "Stacy Torres\n",
      "Victoria Frazier\n",
      "Robert Morales\n",
      "Valerie Cunningham\n",
      "Harry Gomez\n",
      "Mary Combs\n",
      "Cassandra Mccormick\n",
      "John Russo\n",
      "Robert Jones\n",
      "Anna Ortega\n",
      "Carrie Bell\n",
      "Elizabeth Salas\n",
      "Sarah Larson\n",
      "Dr. Alison Chapman MD\n",
      "Zachary Wilson\n",
      "Yvonne Johnson\n",
      "Gregory Brown\n",
      "Victor Gallagher\n",
      "Debra Williams DDS\n",
      "Mark King\n",
      "David Brewer\n",
      "Jared Brooks\n",
      "Kristin Sanchez\n",
      "Karen Rivera\n",
      "Michele Reyes\n",
      "Kaitlyn Edwards\n",
      "Andrea Thompson\n",
      "Julian Flores\n",
      "Pamela Silva\n",
      "Steven Smith\n",
      "Brandy Allen\n",
      "Jacob Freeman\n",
      "Steven Thompson\n",
      "Christopher Valentine\n",
      "Jacob Horton\n",
      "Christina Brown\n",
      "Yvette Gates\n",
      "Matthew Mercer MD\n",
      "Noah Huffman\n",
      "Patricia Miller\n",
      "John Lane\n",
      "Natalie Johnson\n",
      "Michael Hunt\n",
      "Cynthia Cisneros\n",
      "Paul Knight\n",
      "Deborah Stokes\n",
      "Bailey Robertson\n",
      "William Summers\n",
      "Hayley Fields\n",
      "Kelly Wilson\n",
      "Melinda Franco\n",
      "Michael Harrell\n",
      "Kenneth Burnett\n",
      "Christopher Boyd\n",
      "Jeffrey Lambert\n",
      "Lisa Palmer\n",
      "Allison Brown\n",
      "Carol Patel\n",
      "Christine Small\n",
      "Deborah Thompson\n",
      "John Parks\n",
      "Jessica Lamb\n",
      "Victoria Hart\n",
      "Jeff Harrington\n",
      "Laurie Burns\n",
      "Kelli Gentry\n",
      "Oscar Cox\n",
      "Jesse Townsend\n",
      "Kara Doyle\n",
      "John Peterson\n",
      "Sabrina Rojas\n",
      "Melvin Vargas\n",
      "Nicholas Taylor\n",
      "Jacqueline Weiss\n",
      "Todd Payne\n",
      "Arthur Morgan\n",
      "Justin Phillips\n",
      "Tonya Gonzales\n",
      "Sara Howard\n",
      "Matthew Potter\n",
      "Cassandra Ramsey\n",
      "Ashley Rangel DDS\n",
      "Tracy Morrison\n",
      "Michael Watson\n",
      "Stephen Nguyen\n",
      "Derek Decker\n",
      "Erin Sanchez\n",
      "Tina Hodge\n",
      "Adam Gordon\n",
      "Mr. Joseph West\n",
      "Alexander Guerrero DVM\n",
      "Antonio Frost\n",
      "Edward Brown\n",
      "Jennifer Johnson\n",
      "Susan Christian\n",
      "Andrew Kaiser\n",
      "Ryan Maldonado\n",
      "Amy Powell\n",
      "Ricky Ellis\n",
      "David Williams\n",
      "Daniel Payne\n",
      "Amanda Torres\n",
      "Roberto Turner\n",
      "Jose Ross\n",
      "Lori Blackburn\n",
      "Patricia Phelps\n",
      "Nicholas Meyer\n",
      "Stephen Perry\n",
      "Justin Fields\n",
      "Alexandra Hayes\n",
      "Melissa Turner\n",
      "Chelsea Wheeler\n",
      "Richard Mason\n",
      "Judy Thompson\n",
      "Andrea Scott DDS\n",
      "Craig Huang\n",
      "Crystal Young\n",
      "Timothy Patel\n",
      "Brandy Washington\n",
      "Michael Nunez\n",
      "Keith Ellis\n",
      "Jacob Douglas\n",
      "Diamond Mckinney\n",
      "Shawna Burgess\n",
      "Alicia Church\n",
      "Whitney Scott\n",
      "Jeffrey Thomas\n",
      "Theresa Barnes\n",
      "Tara Freeman\n",
      "Alexander Pennington\n",
      "Jared Murray\n",
      "Kellie Holmes\n",
      "Christopher Conway\n",
      "Gregory Young\n",
      "Teresa Bishop\n",
      "Keith Miller\n",
      "Tina Bradford\n",
      "Patrick Morris\n",
      "Rebecca Garner\n",
      "Alexis Wang\n",
      "Donald Gardner\n",
      "Kathryn Hardy\n",
      "Hannah Olson\n",
      "Kimberly Wilson\n",
      "Adam Butler\n",
      "Casey Hall\n",
      "Kathleen Powers\n",
      "Jessica Jimenez\n",
      "Tracy Barnes\n",
      "Lisa Sanchez\n",
      "Julie Fowler\n",
      "Mitchell Pennington\n",
      "Joshua Pena\n",
      "Michelle Quinn\n",
      "Brittany Wood\n",
      "Amanda Morales\n",
      "Jennifer Rice\n",
      "Robert Allen\n",
      "Christina Jimenez\n",
      "Colleen Sims\n",
      "Richard Benson\n",
      "Judith Morgan\n",
      "Peter Wilson MD\n",
      "Brandon Patterson\n",
      "Troy Ballard\n",
      "Amanda Coleman\n",
      "Laura Michael\n",
      "Matthew Hernandez\n",
      "David Mcdaniel\n",
      "Michael Nichols\n",
      "Stephen Richardson\n",
      "Joanna Brandt\n",
      "Amy Chen\n",
      "Trevor Russell\n",
      "Teresa Wyatt\n",
      "Miguel Moore\n",
      "Lauren Perry\n",
      "Cameron Manning\n",
      "William Jones\n",
      "Holly Wood\n",
      "Laura Gallagher\n",
      "Taylor Gibson\n",
      "Lauren Moore\n",
      "Steven York\n",
      "William Parks\n",
      "Amy Johnson\n",
      "Paula Mcdonald\n",
      "Barbara Knight\n",
      "Marie Nichols\n",
      "Timothy Boyer\n",
      "Brian Bradshaw\n",
      "Christopher Jensen\n",
      "Dustin Johnson\n",
      "Ashley Chang\n",
      "Ashley Downs\n",
      "Diana Bradford\n",
      "Steven Gross\n",
      "Samuel Camacho\n",
      "Catherine Hart\n",
      "Alexandra Reed\n",
      "Kevin Fowler\n",
      "Cathy Young\n",
      "Craig Webb\n",
      "Brandon Anderson\n",
      "Beth Fletcher\n",
      "Andrew Murray\n",
      "Benjamin Turner\n",
      "Dawn Butler\n",
      "Matthew Powers\n",
      "Shawn Schmidt\n",
      "Carlos Brooks\n",
      "Donald Howell\n",
      "Sarah Landry\n",
      "Ann Mitchell\n",
      "Alexander Simmons\n",
      "Alan Thomas\n",
      "Manuel Johnson\n",
      "Robert Hensley\n",
      "Peter Holloway\n",
      "Julie Davis\n",
      "Kelly White\n",
      "Christopher Edwards\n",
      "Emily Knapp MD\n",
      "Joshua Moore\n",
      "Stephanie Chapman\n",
      "Steven Ortiz\n",
      "Anthony Gay\n",
      "Kevin Monroe\n",
      "Devin Martin\n",
      "Elizabeth Parks\n",
      "Pamela Gray\n",
      "Jamie Harper\n",
      "Shannon White\n",
      "Lisa Ortiz\n",
      "Cheryl Carlson\n",
      "Derek Orozco\n",
      "Amy Lawson\n",
      "Ashley Ward\n",
      "Yvette Mercado\n",
      "Linda Phillips\n",
      "Shelby Young\n",
      "Michael Butler\n",
      "Christina Howard\n",
      "Audrey Garcia\n",
      "Derrick Walker\n",
      "Paul White\n",
      "William Ferguson\n",
      "Lucas Hall\n",
      "Anthony Harrison\n",
      "Crystal Curry\n",
      "Brian Price\n",
      "Ryan Meyer\n",
      "Kelsey Sullivan\n",
      "Mark Edwards\n",
      "Richard Greer\n",
      "Jason Gonzalez\n",
      "Michael Tucker\n",
      "Anthony Escobar\n",
      "Geoffrey Green\n",
      "Catherine Williams\n",
      "Timothy Oconnor\n",
      "William Copeland\n",
      "Sarah Jones\n",
      "Joseph Gomez\n",
      "Richard Wilson\n",
      "Taylor Lopez\n",
      "Dawn Banks\n",
      "Hannah Knight\n",
      "Alison Cannon DVM\n",
      "Brian Harvey\n",
      "Lee Byrd\n",
      "Jerry Rogers MD\n",
      "Matthew Garcia\n",
      "Wesley Watson\n",
      "Karen Gallagher\n",
      "Susan Welch\n",
      "Melissa Anderson\n",
      "Briana Sanchez\n",
      "Christopher Gilbert\n",
      "Andrew Kidd\n",
      "Mr. Michael Love\n",
      "Julie Jones\n",
      "Rebecca Hernandez\n",
      "Susan Davis\n",
      "James Burns\n",
      "Alison Rush\n",
      "Jacqueline Bowers\n",
      "Joseph Webb\n",
      "Patrick Pope\n",
      "James Campbell\n",
      "Travis Fields\n",
      "David Clay\n",
      "Stephanie Smith\n",
      "Frank Thomas\n",
      "Meredith Sampson\n",
      "Jesse Richardson\n",
      "Kristy Marshall\n",
      "Michael Santana\n",
      "Michael Daniel\n",
      "Mark Fitzgerald\n",
      "Kelly Duran\n",
      "Renee Atkins\n",
      "Tiffany Brown\n",
      "James Peters\n",
      "Shirley Bishop\n",
      "Julia Schneider\n",
      "Brooke Ramos\n",
      "Casey Silva\n",
      "Christopher Hayes\n"
     ]
    }
   ],
   "source": [
    "import csv\n",
    "\n",
    "with open('data.csv') as f:\n",
    "    myreader=csv.DictReader(f)\n",
    "    headers=next(myreader)\n",
    "    for row in myreader:\n",
    "        print(row['name'])"
   ]
  },
  {
   "cell_type": "markdown",
   "metadata": {},
   "source": [
    "### Reading and writing CSVs using pandas DataFrames"
   ]
  },
  {
   "cell_type": "code",
   "execution_count": 13,
   "metadata": {},
   "outputs": [],
   "source": [
    "import pandas as pd\n",
    "df=pd.read_csv('data.csv')"
   ]
  },
  {
   "cell_type": "code",
   "execution_count": 14,
   "metadata": {},
   "outputs": [
    {
     "data": {
      "text/html": [
       "<div>\n",
       "<style scoped>\n",
       "    .dataframe tbody tr th:only-of-type {\n",
       "        vertical-align: middle;\n",
       "    }\n",
       "\n",
       "    .dataframe tbody tr th {\n",
       "        vertical-align: top;\n",
       "    }\n",
       "\n",
       "    .dataframe thead th {\n",
       "        text-align: right;\n",
       "    }\n",
       "</style>\n",
       "<table border=\"1\" class=\"dataframe\">\n",
       "  <thead>\n",
       "    <tr style=\"text-align: right;\">\n",
       "      <th></th>\n",
       "      <th>name</th>\n",
       "      <th>age</th>\n",
       "      <th>street</th>\n",
       "      <th>city</th>\n",
       "      <th>state</th>\n",
       "      <th>zip</th>\n",
       "      <th>lng</th>\n",
       "      <th>lat</th>\n",
       "    </tr>\n",
       "  </thead>\n",
       "  <tbody>\n",
       "    <tr>\n",
       "      <th>0</th>\n",
       "      <td>Sabrina Arroyo</td>\n",
       "      <td>51</td>\n",
       "      <td>111 Diamond Vista Suite 157</td>\n",
       "      <td>Lake Sarahchester</td>\n",
       "      <td>Washington</td>\n",
       "      <td>55610</td>\n",
       "      <td>171.622484</td>\n",
       "      <td>5.291440</td>\n",
       "    </tr>\n",
       "    <tr>\n",
       "      <th>1</th>\n",
       "      <td>Arthur Gardner</td>\n",
       "      <td>42</td>\n",
       "      <td>704 Melissa Plains Apt. 365</td>\n",
       "      <td>Owensmouth</td>\n",
       "      <td>Nevada</td>\n",
       "      <td>49821</td>\n",
       "      <td>-124.431801</td>\n",
       "      <td>-22.187301</td>\n",
       "    </tr>\n",
       "    <tr>\n",
       "      <th>2</th>\n",
       "      <td>Ryan Johnson</td>\n",
       "      <td>32</td>\n",
       "      <td>225 Alexis Grove</td>\n",
       "      <td>South Markton</td>\n",
       "      <td>New York</td>\n",
       "      <td>7075</td>\n",
       "      <td>132.046867</td>\n",
       "      <td>-38.585545</td>\n",
       "    </tr>\n",
       "    <tr>\n",
       "      <th>3</th>\n",
       "      <td>Julie Jones</td>\n",
       "      <td>63</td>\n",
       "      <td>859 Cox Shoal Suite 250</td>\n",
       "      <td>Zacharyburgh</td>\n",
       "      <td>New York</td>\n",
       "      <td>78124</td>\n",
       "      <td>101.035073</td>\n",
       "      <td>-51.932291</td>\n",
       "    </tr>\n",
       "    <tr>\n",
       "      <th>4</th>\n",
       "      <td>Rhonda Price</td>\n",
       "      <td>58</td>\n",
       "      <td>3665 Perkins Glen Apt. 828</td>\n",
       "      <td>Kristyhaven</td>\n",
       "      <td>Missouri</td>\n",
       "      <td>87658</td>\n",
       "      <td>-66.980385</td>\n",
       "      <td>-35.855708</td>\n",
       "    </tr>\n",
       "    <tr>\n",
       "      <th>5</th>\n",
       "      <td>Andrew Fletcher</td>\n",
       "      <td>30</td>\n",
       "      <td>3343 Kathryn Fall Suite 768</td>\n",
       "      <td>Keithfort</td>\n",
       "      <td>New Mexico</td>\n",
       "      <td>8922</td>\n",
       "      <td>-63.008042</td>\n",
       "      <td>57.011039</td>\n",
       "    </tr>\n",
       "    <tr>\n",
       "      <th>6</th>\n",
       "      <td>Roger Taylor</td>\n",
       "      <td>25</td>\n",
       "      <td>7305 George Ranch Apt. 136</td>\n",
       "      <td>New Matthewton</td>\n",
       "      <td>Nevada</td>\n",
       "      <td>9531</td>\n",
       "      <td>153.753233</td>\n",
       "      <td>89.634599</td>\n",
       "    </tr>\n",
       "    <tr>\n",
       "      <th>7</th>\n",
       "      <td>Jose Smith</td>\n",
       "      <td>39</td>\n",
       "      <td>112 Michael Via Suite 047</td>\n",
       "      <td>Georgetown</td>\n",
       "      <td>Nevada</td>\n",
       "      <td>35679</td>\n",
       "      <td>-54.459340</td>\n",
       "      <td>20.561854</td>\n",
       "    </tr>\n",
       "    <tr>\n",
       "      <th>8</th>\n",
       "      <td>Richard Francis</td>\n",
       "      <td>58</td>\n",
       "      <td>6384 Chan Harbors Suite 866</td>\n",
       "      <td>Debbiemouth</td>\n",
       "      <td>Colorado</td>\n",
       "      <td>17317</td>\n",
       "      <td>-34.198282</td>\n",
       "      <td>-57.362218</td>\n",
       "    </tr>\n",
       "    <tr>\n",
       "      <th>9</th>\n",
       "      <td>Erin Mclean</td>\n",
       "      <td>61</td>\n",
       "      <td>00733 Franklin Freeway Suite 317</td>\n",
       "      <td>Anthonyberg</td>\n",
       "      <td>Michigan</td>\n",
       "      <td>72804</td>\n",
       "      <td>-13.136279</td>\n",
       "      <td>63.671213</td>\n",
       "    </tr>\n",
       "  </tbody>\n",
       "</table>\n",
       "</div>"
      ],
      "text/plain": [
       "              name  age                            street               city  \\\n",
       "0   Sabrina Arroyo   51       111 Diamond Vista Suite 157  Lake Sarahchester   \n",
       "1   Arthur Gardner   42       704 Melissa Plains Apt. 365         Owensmouth   \n",
       "2     Ryan Johnson   32                  225 Alexis Grove      South Markton   \n",
       "3      Julie Jones   63           859 Cox Shoal Suite 250       Zacharyburgh   \n",
       "4     Rhonda Price   58        3665 Perkins Glen Apt. 828        Kristyhaven   \n",
       "5  Andrew Fletcher   30       3343 Kathryn Fall Suite 768          Keithfort   \n",
       "6     Roger Taylor   25        7305 George Ranch Apt. 136     New Matthewton   \n",
       "7       Jose Smith   39         112 Michael Via Suite 047         Georgetown   \n",
       "8  Richard Francis   58       6384 Chan Harbors Suite 866        Debbiemouth   \n",
       "9      Erin Mclean   61  00733 Franklin Freeway Suite 317        Anthonyberg   \n",
       "\n",
       "        state    zip         lng        lat  \n",
       "0  Washington  55610  171.622484   5.291440  \n",
       "1      Nevada  49821 -124.431801 -22.187301  \n",
       "2    New York   7075  132.046867 -38.585545  \n",
       "3    New York  78124  101.035073 -51.932291  \n",
       "4    Missouri  87658  -66.980385 -35.855708  \n",
       "5  New Mexico   8922  -63.008042  57.011039  \n",
       "6      Nevada   9531  153.753233  89.634599  \n",
       "7      Nevada  35679  -54.459340  20.561854  \n",
       "8    Colorado  17317  -34.198282 -57.362218  \n",
       "9    Michigan  72804  -13.136279  63.671213  "
      ]
     },
     "execution_count": 14,
     "metadata": {},
     "output_type": "execute_result"
    }
   ],
   "source": [
    "df.head(10)"
   ]
  },
  {
   "cell_type": "markdown",
   "metadata": {},
   "source": [
    "### Writing JSON with Python"
   ]
  },
  {
   "cell_type": "markdown",
   "metadata": {},
   "source": [
    "Write JSON using Python and the standard library"
   ]
  },
  {
   "cell_type": "code",
   "execution_count": 19,
   "metadata": {},
   "outputs": [],
   "source": [
    "from faker import Faker\n",
    "import json\n",
    "\n",
    "output=open('data.json','w')\n",
    "\n",
    "fake=Faker()\n",
    "alldata={}\n",
    "alldata['records']=[]\n",
    "\n",
    "for x in range(1000):\n",
    "    data={\"name\":fake.name(),\n",
    "          \"age\":fake.random_int(min=18, max=80, step=1),\n",
    "          \"street\":fake.street_address(),\n",
    "          \"city\":fake.city(),\n",
    "          \"state\":fake.state(),\n",
    "          \"zip\":fake.zipcode(),\n",
    "          \"lng\":float(fake.longitude()),\n",
    "          \"lat\":float(fake.latitude())}\n",
    "    alldata['records'].append(data)\n",
    "json.dump(alldata,output)"
   ]
  },
  {
   "cell_type": "markdown",
   "metadata": {},
   "source": [
    "Reading CSVs"
   ]
  },
  {
   "cell_type": "code",
   "execution_count": 25,
   "metadata": {
    "collapsed": true
   },
   "outputs": [
    {
     "ename": "JSONDecodeError",
     "evalue": "Expecting ',' delimiter: line 1 column 172179 (char 172178)",
     "output_type": "error",
     "traceback": [
      "\u001b[0;31m---------------------------------------------------------------------------\u001b[0m",
      "\u001b[0;31mJSONDecodeError\u001b[0m                           Traceback (most recent call last)",
      "\u001b[0;32m<ipython-input-25-f5ec10f8815c>\u001b[0m in \u001b[0;36m<module>\u001b[0;34m\u001b[0m\n\u001b[1;32m      1\u001b[0m \u001b[0;32mimport\u001b[0m \u001b[0mjson\u001b[0m\u001b[0;34m\u001b[0m\u001b[0;34m\u001b[0m\u001b[0m\n\u001b[1;32m      2\u001b[0m \u001b[0;32mwith\u001b[0m \u001b[0mopen\u001b[0m\u001b[0;34m(\u001b[0m\u001b[0;34m\"data.json\"\u001b[0m\u001b[0;34m,\u001b[0m\u001b[0;34m'r'\u001b[0m\u001b[0;34m)\u001b[0m \u001b[0;32mas\u001b[0m \u001b[0mf\u001b[0m\u001b[0;34m:\u001b[0m\u001b[0;34m\u001b[0m\u001b[0;34m\u001b[0m\u001b[0m\n\u001b[0;32m----> 3\u001b[0;31m     \u001b[0mdata\u001b[0m\u001b[0;34m=\u001b[0m\u001b[0mjson\u001b[0m\u001b[0;34m.\u001b[0m\u001b[0mload\u001b[0m\u001b[0;34m(\u001b[0m\u001b[0mf\u001b[0m\u001b[0;34m)\u001b[0m\u001b[0;34m\u001b[0m\u001b[0;34m\u001b[0m\u001b[0m\n\u001b[0m\u001b[1;32m      4\u001b[0m \u001b[0mprint\u001b[0m\u001b[0;34m(\u001b[0m\u001b[0mtype\u001b[0m\u001b[0;34m(\u001b[0m\u001b[0mdata\u001b[0m\u001b[0;34m)\u001b[0m\u001b[0;34m)\u001b[0m\u001b[0;34m\u001b[0m\u001b[0;34m\u001b[0m\u001b[0m\n\u001b[1;32m      5\u001b[0m \u001b[0mprint\u001b[0m\u001b[0;34m(\u001b[0m\u001b[0mdata\u001b[0m\u001b[0;34m[\u001b[0m\u001b[0;34m'records'\u001b[0m\u001b[0;34m]\u001b[0m\u001b[0;34m[\u001b[0m\u001b[0;36m0\u001b[0m\u001b[0;34m]\u001b[0m\u001b[0;34m[\u001b[0m\u001b[0;34m'name'\u001b[0m\u001b[0;34m]\u001b[0m\u001b[0;34m)\u001b[0m\u001b[0;34m\u001b[0m\u001b[0;34m\u001b[0m\u001b[0m\n",
      "\u001b[0;32m~/anaconda3/lib/python3.7/json/__init__.py\u001b[0m in \u001b[0;36mload\u001b[0;34m(fp, cls, object_hook, parse_float, parse_int, parse_constant, object_pairs_hook, **kw)\u001b[0m\n\u001b[1;32m    294\u001b[0m         \u001b[0mcls\u001b[0m\u001b[0;34m=\u001b[0m\u001b[0mcls\u001b[0m\u001b[0;34m,\u001b[0m \u001b[0mobject_hook\u001b[0m\u001b[0;34m=\u001b[0m\u001b[0mobject_hook\u001b[0m\u001b[0;34m,\u001b[0m\u001b[0;34m\u001b[0m\u001b[0;34m\u001b[0m\u001b[0m\n\u001b[1;32m    295\u001b[0m         \u001b[0mparse_float\u001b[0m\u001b[0;34m=\u001b[0m\u001b[0mparse_float\u001b[0m\u001b[0;34m,\u001b[0m \u001b[0mparse_int\u001b[0m\u001b[0;34m=\u001b[0m\u001b[0mparse_int\u001b[0m\u001b[0;34m,\u001b[0m\u001b[0;34m\u001b[0m\u001b[0;34m\u001b[0m\u001b[0m\n\u001b[0;32m--> 296\u001b[0;31m         parse_constant=parse_constant, object_pairs_hook=object_pairs_hook, **kw)\n\u001b[0m\u001b[1;32m    297\u001b[0m \u001b[0;34m\u001b[0m\u001b[0m\n\u001b[1;32m    298\u001b[0m \u001b[0;34m\u001b[0m\u001b[0m\n",
      "\u001b[0;32m~/anaconda3/lib/python3.7/json/__init__.py\u001b[0m in \u001b[0;36mloads\u001b[0;34m(s, encoding, cls, object_hook, parse_float, parse_int, parse_constant, object_pairs_hook, **kw)\u001b[0m\n\u001b[1;32m    346\u001b[0m             \u001b[0mparse_int\u001b[0m \u001b[0;32mis\u001b[0m \u001b[0;32mNone\u001b[0m \u001b[0;32mand\u001b[0m \u001b[0mparse_float\u001b[0m \u001b[0;32mis\u001b[0m \u001b[0;32mNone\u001b[0m \u001b[0;32mand\u001b[0m\u001b[0;34m\u001b[0m\u001b[0;34m\u001b[0m\u001b[0m\n\u001b[1;32m    347\u001b[0m             parse_constant is None and object_pairs_hook is None and not kw):\n\u001b[0;32m--> 348\u001b[0;31m         \u001b[0;32mreturn\u001b[0m \u001b[0m_default_decoder\u001b[0m\u001b[0;34m.\u001b[0m\u001b[0mdecode\u001b[0m\u001b[0;34m(\u001b[0m\u001b[0ms\u001b[0m\u001b[0;34m)\u001b[0m\u001b[0;34m\u001b[0m\u001b[0;34m\u001b[0m\u001b[0m\n\u001b[0m\u001b[1;32m    349\u001b[0m     \u001b[0;32mif\u001b[0m \u001b[0mcls\u001b[0m \u001b[0;32mis\u001b[0m \u001b[0;32mNone\u001b[0m\u001b[0;34m:\u001b[0m\u001b[0;34m\u001b[0m\u001b[0;34m\u001b[0m\u001b[0m\n\u001b[1;32m    350\u001b[0m         \u001b[0mcls\u001b[0m \u001b[0;34m=\u001b[0m \u001b[0mJSONDecoder\u001b[0m\u001b[0;34m\u001b[0m\u001b[0;34m\u001b[0m\u001b[0m\n",
      "\u001b[0;32m~/anaconda3/lib/python3.7/json/decoder.py\u001b[0m in \u001b[0;36mdecode\u001b[0;34m(self, s, _w)\u001b[0m\n\u001b[1;32m    335\u001b[0m \u001b[0;34m\u001b[0m\u001b[0m\n\u001b[1;32m    336\u001b[0m         \"\"\"\n\u001b[0;32m--> 337\u001b[0;31m         \u001b[0mobj\u001b[0m\u001b[0;34m,\u001b[0m \u001b[0mend\u001b[0m \u001b[0;34m=\u001b[0m \u001b[0mself\u001b[0m\u001b[0;34m.\u001b[0m\u001b[0mraw_decode\u001b[0m\u001b[0;34m(\u001b[0m\u001b[0ms\u001b[0m\u001b[0;34m,\u001b[0m \u001b[0midx\u001b[0m\u001b[0;34m=\u001b[0m\u001b[0m_w\u001b[0m\u001b[0;34m(\u001b[0m\u001b[0ms\u001b[0m\u001b[0;34m,\u001b[0m \u001b[0;36m0\u001b[0m\u001b[0;34m)\u001b[0m\u001b[0;34m.\u001b[0m\u001b[0mend\u001b[0m\u001b[0;34m(\u001b[0m\u001b[0;34m)\u001b[0m\u001b[0;34m)\u001b[0m\u001b[0;34m\u001b[0m\u001b[0;34m\u001b[0m\u001b[0m\n\u001b[0m\u001b[1;32m    338\u001b[0m         \u001b[0mend\u001b[0m \u001b[0;34m=\u001b[0m \u001b[0m_w\u001b[0m\u001b[0;34m(\u001b[0m\u001b[0ms\u001b[0m\u001b[0;34m,\u001b[0m \u001b[0mend\u001b[0m\u001b[0;34m)\u001b[0m\u001b[0;34m.\u001b[0m\u001b[0mend\u001b[0m\u001b[0;34m(\u001b[0m\u001b[0;34m)\u001b[0m\u001b[0;34m\u001b[0m\u001b[0;34m\u001b[0m\u001b[0m\n\u001b[1;32m    339\u001b[0m         \u001b[0;32mif\u001b[0m \u001b[0mend\u001b[0m \u001b[0;34m!=\u001b[0m \u001b[0mlen\u001b[0m\u001b[0;34m(\u001b[0m\u001b[0ms\u001b[0m\u001b[0;34m)\u001b[0m\u001b[0;34m:\u001b[0m\u001b[0;34m\u001b[0m\u001b[0;34m\u001b[0m\u001b[0m\n",
      "\u001b[0;32m~/anaconda3/lib/python3.7/json/decoder.py\u001b[0m in \u001b[0;36mraw_decode\u001b[0;34m(self, s, idx)\u001b[0m\n\u001b[1;32m    351\u001b[0m         \"\"\"\n\u001b[1;32m    352\u001b[0m         \u001b[0;32mtry\u001b[0m\u001b[0;34m:\u001b[0m\u001b[0;34m\u001b[0m\u001b[0;34m\u001b[0m\u001b[0m\n\u001b[0;32m--> 353\u001b[0;31m             \u001b[0mobj\u001b[0m\u001b[0;34m,\u001b[0m \u001b[0mend\u001b[0m \u001b[0;34m=\u001b[0m \u001b[0mself\u001b[0m\u001b[0;34m.\u001b[0m\u001b[0mscan_once\u001b[0m\u001b[0;34m(\u001b[0m\u001b[0ms\u001b[0m\u001b[0;34m,\u001b[0m \u001b[0midx\u001b[0m\u001b[0;34m)\u001b[0m\u001b[0;34m\u001b[0m\u001b[0;34m\u001b[0m\u001b[0m\n\u001b[0m\u001b[1;32m    354\u001b[0m         \u001b[0;32mexcept\u001b[0m \u001b[0mStopIteration\u001b[0m \u001b[0;32mas\u001b[0m \u001b[0merr\u001b[0m\u001b[0;34m:\u001b[0m\u001b[0;34m\u001b[0m\u001b[0;34m\u001b[0m\u001b[0m\n\u001b[1;32m    355\u001b[0m             \u001b[0;32mraise\u001b[0m \u001b[0mJSONDecodeError\u001b[0m\u001b[0;34m(\u001b[0m\u001b[0;34m\"Expecting value\"\u001b[0m\u001b[0;34m,\u001b[0m \u001b[0ms\u001b[0m\u001b[0;34m,\u001b[0m \u001b[0merr\u001b[0m\u001b[0;34m.\u001b[0m\u001b[0mvalue\u001b[0m\u001b[0;34m)\u001b[0m \u001b[0;32mfrom\u001b[0m \u001b[0;32mNone\u001b[0m\u001b[0;34m\u001b[0m\u001b[0;34m\u001b[0m\u001b[0m\n",
      "\u001b[0;31mJSONDecodeError\u001b[0m: Expecting ',' delimiter: line 1 column 172179 (char 172178)"
     ]
    }
   ],
   "source": [
    "import json\n",
    "with open(\"data.json\",'r') as f:\n",
    "    data=json.load(f)\n",
    "print(type(data))\n",
    "print(data['records'][0]['name'])"
   ]
  },
  {
   "cell_type": "code",
   "execution_count": null,
   "metadata": {},
   "outputs": [],
   "source": []
  }
 ],
 "metadata": {
  "kernelspec": {
   "display_name": "Python 3",
   "language": "python",
   "name": "python3"
  },
  "language_info": {
   "codemirror_mode": {
    "name": "ipython",
    "version": 3
   },
   "file_extension": ".py",
   "mimetype": "text/x-python",
   "name": "python",
   "nbconvert_exporter": "python",
   "pygments_lexer": "ipython3",
   "version": "3.7.3"
  }
 },
 "nbformat": 4,
 "nbformat_minor": 2
}
