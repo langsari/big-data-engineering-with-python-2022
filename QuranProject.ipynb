{
 "cells": [
  {
   "cell_type": "code",
   "execution_count": 1,
   "id": "6096fa5e",
   "metadata": {},
   "outputs": [],
   "source": [
    "import psycopg2\n",
    "import pandas as pd"
   ]
  },
  {
   "cell_type": "code",
   "execution_count": 2,
   "id": "eb705fe2",
   "metadata": {},
   "outputs": [],
   "source": [
    "conn = psycopg2.connect(\"host=127.0.0.1 dbname=AlQuran user=postgres password=admin port=5432\")"
   ]
  },
  {
   "cell_type": "code",
   "execution_count": 3,
   "id": "08753ad7",
   "metadata": {},
   "outputs": [],
   "source": [
    "cur = conn.cursor()"
   ]
  },
  {
   "cell_type": "code",
   "execution_count": 4,
   "id": "5479fd71",
   "metadata": {},
   "outputs": [],
   "source": [
    "conn.set_session(autocommit=True)"
   ]
  },
  {
   "cell_type": "code",
   "execution_count": 5,
   "id": "143743c9",
   "metadata": {},
   "outputs": [],
   "source": [
    "try: \n",
    "    conn = psycopg2.connect(\"host=127.0.0.1 dbname=AlQuran user=postgres password=admin port=5432\")\n",
    "except psycopg2.Error as e: \n",
    "    print(\"Error: Could not make connection to the Postgres database\")\n",
    "    print(e)\n",
    "    \n",
    "try: \n",
    "    cur = conn.cursor()\n",
    "except psycopg2.Error as e: \n",
    "    print(\"Error: Could not get curser to the Database\")\n",
    "    print(e)\n",
    "\n",
    "conn.set_session(autocommit=True)"
   ]
  },
  {
   "cell_type": "markdown",
   "id": "7780fbd8",
   "metadata": {},
   "source": [
    "# CREATE TABLE 1"
   ]
  },
  {
   "cell_type": "code",
   "execution_count": 6,
   "id": "51032422",
   "metadata": {},
   "outputs": [],
   "source": [
    "try: \n",
    "    cur.execute(\"CREATE TABLE IF NOT EXISTS en_rwwad (id int PRIMARY KEY, surah_id int, ayah int, text varchar);\")\n",
    "except psycopg2.Error as e: \n",
    "    print(\"Error: Issue creating table\")\n",
    "    print (e)"
   ]
  },
  {
   "cell_type": "code",
   "execution_count": 7,
   "id": "49f68495",
   "metadata": {},
   "outputs": [
    {
     "name": "stdout",
     "output_type": "stream",
     "text": [
      "Error: Inserting Rows\n",
      "duplicate key value violates unique constraint \"en_rwwad_pkey\"\n",
      "DETAIL:  Key (id)=(1) already exists.\n",
      "\n"
     ]
    }
   ],
   "source": [
    "data = pd.read_csv(r\"C:/Users/Ikmee U-daidee/BigDataEng 22/Quran.Project.csv\")\n",
    "df = pd.DataFrame(data)\n",
    "try:\n",
    "    for row in df.itertuples():\n",
    "        cur.execute(\"INSERT INTO en_rwwad (id, surah_id, ayah, text) \\\n",
    "                    VALUES (%s,%s,%s,%s)\", \\\n",
    "                    (row.id, row.surah_id, row.ayah, row.text))\n",
    "except psycopg2.Error as e:\n",
    "        print(\"Error: Inserting Rows\")\n",
    "        print (e)"
   ]
  },
  {
   "cell_type": "code",
   "execution_count": 8,
   "id": "0d57c0ef",
   "metadata": {},
   "outputs": [
    {
     "name": "stdout",
     "output_type": "stream",
     "text": [
      "['id', 'surah_id', 'ayah', 'text']\n"
     ]
    },
    {
     "data": {
      "text/html": [
       "<div>\n",
       "<style scoped>\n",
       "    .dataframe tbody tr th:only-of-type {\n",
       "        vertical-align: middle;\n",
       "    }\n",
       "\n",
       "    .dataframe tbody tr th {\n",
       "        vertical-align: top;\n",
       "    }\n",
       "\n",
       "    .dataframe thead th {\n",
       "        text-align: right;\n",
       "    }\n",
       "</style>\n",
       "<table border=\"1\" class=\"dataframe\">\n",
       "  <thead>\n",
       "    <tr style=\"text-align: right;\">\n",
       "      <th></th>\n",
       "      <th>id</th>\n",
       "      <th>surah_id</th>\n",
       "      <th>ayah</th>\n",
       "      <th>text</th>\n",
       "    </tr>\n",
       "  </thead>\n",
       "  <tbody>\n",
       "    <tr>\n",
       "      <th>0</th>\n",
       "      <td>1</td>\n",
       "      <td>1</td>\n",
       "      <td>1</td>\n",
       "      <td>بِسۡمِ ٱللَّهِ ٱلرَّحۡمَٰنِ ٱلرَّحِيمِ</td>\n",
       "    </tr>\n",
       "    <tr>\n",
       "      <th>1</th>\n",
       "      <td>2</td>\n",
       "      <td>1</td>\n",
       "      <td>2</td>\n",
       "      <td>ٱلۡحَمۡدُ لِلَّهِ رَبِّ ٱلۡعَٰلَمِينَ</td>\n",
       "    </tr>\n",
       "    <tr>\n",
       "      <th>2</th>\n",
       "      <td>3</td>\n",
       "      <td>1</td>\n",
       "      <td>3</td>\n",
       "      <td>ٱلرَّحۡمَٰنِ ٱلرَّحِيمِ</td>\n",
       "    </tr>\n",
       "    <tr>\n",
       "      <th>3</th>\n",
       "      <td>4</td>\n",
       "      <td>1</td>\n",
       "      <td>4</td>\n",
       "      <td>مَٰلِكِ يَوۡمِ ٱلدِّينِ</td>\n",
       "    </tr>\n",
       "    <tr>\n",
       "      <th>4</th>\n",
       "      <td>5</td>\n",
       "      <td>1</td>\n",
       "      <td>5</td>\n",
       "      <td>إِيَّاكَ نَعۡبُدُ وَإِيَّاكَ نَسۡتَعِينُ</td>\n",
       "    </tr>\n",
       "    <tr>\n",
       "      <th>...</th>\n",
       "      <td>...</td>\n",
       "      <td>...</td>\n",
       "      <td>...</td>\n",
       "      <td>...</td>\n",
       "    </tr>\n",
       "    <tr>\n",
       "      <th>6231</th>\n",
       "      <td>6232</td>\n",
       "      <td>114</td>\n",
       "      <td>2</td>\n",
       "      <td>مَلِكِ ٱلنَّاسِ</td>\n",
       "    </tr>\n",
       "    <tr>\n",
       "      <th>6232</th>\n",
       "      <td>6233</td>\n",
       "      <td>114</td>\n",
       "      <td>3</td>\n",
       "      <td>إِلَٰهِ ٱلنَّاسِ</td>\n",
       "    </tr>\n",
       "    <tr>\n",
       "      <th>6233</th>\n",
       "      <td>6234</td>\n",
       "      <td>114</td>\n",
       "      <td>4</td>\n",
       "      <td>مِن شَرِّ ٱلۡوَسۡوَاسِ ٱلۡخَنَّاسِ</td>\n",
       "    </tr>\n",
       "    <tr>\n",
       "      <th>6234</th>\n",
       "      <td>6235</td>\n",
       "      <td>114</td>\n",
       "      <td>5</td>\n",
       "      <td>ٱلَّذِي يُوَسۡوِسُ فِي صُدُورِ ٱلنَّاسِ</td>\n",
       "    </tr>\n",
       "    <tr>\n",
       "      <th>6235</th>\n",
       "      <td>6236</td>\n",
       "      <td>114</td>\n",
       "      <td>6</td>\n",
       "      <td>مِنَ ٱلۡجِنَّةِ وَٱلنَّاسِ</td>\n",
       "    </tr>\n",
       "  </tbody>\n",
       "</table>\n",
       "<p>6236 rows × 4 columns</p>\n",
       "</div>"
      ],
      "text/plain": [
       "        id  surah_id  ayah                                      text\n",
       "0        1         1     1    بِسۡمِ ٱللَّهِ ٱلرَّحۡمَٰنِ ٱلرَّحِيمِ\n",
       "1        2         1     2     ٱلۡحَمۡدُ لِلَّهِ رَبِّ ٱلۡعَٰلَمِينَ\n",
       "2        3         1     3                   ٱلرَّحۡمَٰنِ ٱلرَّحِيمِ\n",
       "3        4         1     4                   مَٰلِكِ يَوۡمِ ٱلدِّينِ\n",
       "4        5         1     5  إِيَّاكَ نَعۡبُدُ وَإِيَّاكَ نَسۡتَعِينُ\n",
       "...    ...       ...   ...                                       ...\n",
       "6231  6232       114     2                           مَلِكِ ٱلنَّاسِ\n",
       "6232  6233       114     3                          إِلَٰهِ ٱلنَّاسِ\n",
       "6233  6234       114     4        مِن شَرِّ ٱلۡوَسۡوَاسِ ٱلۡخَنَّاسِ\n",
       "6234  6235       114     5   ٱلَّذِي يُوَسۡوِسُ فِي صُدُورِ ٱلنَّاسِ\n",
       "6235  6236       114     6                مِنَ ٱلۡجِنَّةِ وَٱلنَّاسِ\n",
       "\n",
       "[6236 rows x 4 columns]"
      ]
     },
     "execution_count": 8,
     "metadata": {},
     "output_type": "execute_result"
    }
   ],
   "source": [
    "try: \n",
    "    cur.execute(\"SELECT * FROM en_rwwad;\")\n",
    "    col_names = [desc[0] for desc in cur.description]\n",
    "    print(col_names)\n",
    "except psycopg2.Error as e: \n",
    "    print(\"Error: select *\")\n",
    "    print (e)\n",
    "\n",
    "rows = cur.fetchall()\n",
    "\n",
    "# convert list of tuples to pandas dataframe\n",
    "df = pd.DataFrame(rows, columns=col_names)\n",
    "df"
   ]
  },
  {
   "cell_type": "markdown",
   "id": "c796116b",
   "metadata": {},
   "source": [
    "# CREATE TABLE 2"
   ]
  },
  {
   "cell_type": "code",
   "execution_count": 9,
   "id": "aa05ede8",
   "metadata": {},
   "outputs": [],
   "source": [
    "try: \n",
    "    cur.execute(\"CREATE TABLE IF NOT EXISTS en_rwwad1 (surah_id int PRIMARY KEY, arabic varchar, latin varchar, english varchar, types varchar);\")\n",
    "except psycopg2.Error as e: \n",
    "    print(\"Error: Issue creating table\")\n",
    "    print (e)"
   ]
  },
  {
   "cell_type": "code",
   "execution_count": 10,
   "id": "405705b4",
   "metadata": {},
   "outputs": [
    {
     "name": "stdout",
     "output_type": "stream",
     "text": [
      "Error: Inserting Rows\n",
      "duplicate key value violates unique constraint \"en_rwwad1_pkey\"\n",
      "DETAIL:  Key (surah_id)=(1) already exists.\n",
      "\n"
     ]
    }
   ],
   "source": [
    "data = pd.read_csv(r\"C:/Users/Ikmee U-daidee/BigDataEng 22/Quran.surah.types.csv\")\n",
    "df = pd.DataFrame(data)\n",
    "try:\n",
    "    for row in df.itertuples():\n",
    "        cur.execute(\"INSERT INTO en_rwwad1 (surah_id, arabic, latin, english, types) \\\n",
    "                    VALUES (%s,%s,%s,%s,%s)\", \\\n",
    "                    (row.surah_id, row.arabic, row.latin, row.english, row.types))\n",
    "except psycopg2.Error as e:\n",
    "        print(\"Error: Inserting Rows\")\n",
    "        print (e)"
   ]
  },
  {
   "cell_type": "code",
   "execution_count": 11,
   "id": "a812f8e4",
   "metadata": {},
   "outputs": [
    {
     "name": "stdout",
     "output_type": "stream",
     "text": [
      "['surah_id', 'arabic', 'latin', 'english', 'types']\n"
     ]
    },
    {
     "data": {
      "text/html": [
       "<div>\n",
       "<style scoped>\n",
       "    .dataframe tbody tr th:only-of-type {\n",
       "        vertical-align: middle;\n",
       "    }\n",
       "\n",
       "    .dataframe tbody tr th {\n",
       "        vertical-align: top;\n",
       "    }\n",
       "\n",
       "    .dataframe thead th {\n",
       "        text-align: right;\n",
       "    }\n",
       "</style>\n",
       "<table border=\"1\" class=\"dataframe\">\n",
       "  <thead>\n",
       "    <tr style=\"text-align: right;\">\n",
       "      <th></th>\n",
       "      <th>surah_id</th>\n",
       "      <th>arabic</th>\n",
       "      <th>latin</th>\n",
       "      <th>english</th>\n",
       "      <th>types</th>\n",
       "    </tr>\n",
       "  </thead>\n",
       "  <tbody>\n",
       "    <tr>\n",
       "      <th>0</th>\n",
       "      <td>1</td>\n",
       "      <td>سورة الفاتحة</td>\n",
       "      <td>Al-Fatiha</td>\n",
       "      <td>The Opening</td>\n",
       "      <td>Makiyah</td>\n",
       "    </tr>\n",
       "    <tr>\n",
       "      <th>1</th>\n",
       "      <td>2</td>\n",
       "      <td>سورة البقرة</td>\n",
       "      <td>Al-Baqara</td>\n",
       "      <td>The Cow</td>\n",
       "      <td>Madaniyah</td>\n",
       "    </tr>\n",
       "    <tr>\n",
       "      <th>2</th>\n",
       "      <td>3</td>\n",
       "      <td>سورة آل عمران</td>\n",
       "      <td>Aal-e-Imran</td>\n",
       "      <td>The family of Imran</td>\n",
       "      <td>Madaniyah</td>\n",
       "    </tr>\n",
       "    <tr>\n",
       "      <th>3</th>\n",
       "      <td>4</td>\n",
       "      <td>سورة النساء</td>\n",
       "      <td>An-Nisa</td>\n",
       "      <td>The Women</td>\n",
       "      <td>Madaniyah</td>\n",
       "    </tr>\n",
       "    <tr>\n",
       "      <th>4</th>\n",
       "      <td>5</td>\n",
       "      <td>سورة المائدة</td>\n",
       "      <td>Al-Maeda</td>\n",
       "      <td>The Table Spread</td>\n",
       "      <td>Madaniyah</td>\n",
       "    </tr>\n",
       "    <tr>\n",
       "      <th>...</th>\n",
       "      <td>...</td>\n",
       "      <td>...</td>\n",
       "      <td>...</td>\n",
       "      <td>...</td>\n",
       "      <td>...</td>\n",
       "    </tr>\n",
       "    <tr>\n",
       "      <th>109</th>\n",
       "      <td>110</td>\n",
       "      <td>سورة النصر</td>\n",
       "      <td>An-Nasr</td>\n",
       "      <td>The Succour</td>\n",
       "      <td>Madaniyah</td>\n",
       "    </tr>\n",
       "    <tr>\n",
       "      <th>110</th>\n",
       "      <td>111</td>\n",
       "      <td>سورة المسد</td>\n",
       "      <td>Al-Masadd</td>\n",
       "      <td>The Flame</td>\n",
       "      <td>Makiyah</td>\n",
       "    </tr>\n",
       "    <tr>\n",
       "      <th>111</th>\n",
       "      <td>112</td>\n",
       "      <td>سورة الإخلاص</td>\n",
       "      <td>Al-Ikhlas</td>\n",
       "      <td>Absoluteness</td>\n",
       "      <td>Makiyah</td>\n",
       "    </tr>\n",
       "    <tr>\n",
       "      <th>112</th>\n",
       "      <td>113</td>\n",
       "      <td>سورة الفلق</td>\n",
       "      <td>Al-Falaq</td>\n",
       "      <td>The day break</td>\n",
       "      <td>Makiyah</td>\n",
       "    </tr>\n",
       "    <tr>\n",
       "      <th>113</th>\n",
       "      <td>114</td>\n",
       "      <td>سورة الناس</td>\n",
       "      <td>An-Nas</td>\n",
       "      <td>The mankind</td>\n",
       "      <td>Makiyah</td>\n",
       "    </tr>\n",
       "  </tbody>\n",
       "</table>\n",
       "<p>114 rows × 5 columns</p>\n",
       "</div>"
      ],
      "text/plain": [
       "     surah_id         arabic        latin              english      types\n",
       "0           1   سورة الفاتحة    Al-Fatiha          The Opening    Makiyah\n",
       "1           2    سورة البقرة    Al-Baqara              The Cow  Madaniyah\n",
       "2           3  سورة آل عمران  Aal-e-Imran  The family of Imran  Madaniyah\n",
       "3           4    سورة النساء      An-Nisa            The Women  Madaniyah\n",
       "4           5   سورة المائدة     Al-Maeda     The Table Spread  Madaniyah\n",
       "..        ...            ...          ...                  ...        ...\n",
       "109       110     سورة النصر      An-Nasr          The Succour  Madaniyah\n",
       "110       111     سورة المسد    Al-Masadd            The Flame    Makiyah\n",
       "111       112   سورة الإخلاص    Al-Ikhlas         Absoluteness    Makiyah\n",
       "112       113     سورة الفلق     Al-Falaq        The day break    Makiyah\n",
       "113       114     سورة الناس       An-Nas          The mankind    Makiyah\n",
       "\n",
       "[114 rows x 5 columns]"
      ]
     },
     "execution_count": 11,
     "metadata": {},
     "output_type": "execute_result"
    }
   ],
   "source": [
    "try: \n",
    "    cur.execute(\"SELECT * FROM en_rwwad1;\")\n",
    "    col_names = [desc[0] for desc in cur.description]\n",
    "    print(col_names)\n",
    "except psycopg2.Error as e: \n",
    "    print(\"Error: select *\")\n",
    "    print (e)\n",
    "\n",
    "rows = cur.fetchall()\n",
    "\n",
    "# convert list of tuples to pandas dataframe\n",
    "df = pd.DataFrame(rows, columns=col_names)\n",
    "df"
   ]
  },
  {
   "cell_type": "markdown",
   "id": "aed0b51a",
   "metadata": {},
   "source": [
    "# CREATE TABLE 3"
   ]
  },
  {
   "cell_type": "code",
   "execution_count": 12,
   "id": "42181f7e",
   "metadata": {},
   "outputs": [],
   "source": [
    "try: \n",
    "    cur.execute(\"CREATE TABLE IF NOT EXISTS en_rwwad2 (id int, en_translate varchar);\")\n",
    "except psycopg2.Error as e: \n",
    "    print(\"Error: Issue creating table\")\n",
    "    print (e)"
   ]
  },
  {
   "cell_type": "code",
   "execution_count": 13,
   "id": "08549321",
   "metadata": {},
   "outputs": [],
   "source": [
    "data = pd.read_csv(r\"C:/Users/Ikmee U-daidee/BigDataEng 22/quran.transEN.csv\")\n",
    "df = pd.DataFrame(data)\n",
    "try:\n",
    "    for row in df.itertuples():\n",
    "        cur.execute(\"INSERT INTO en_rwwad2 (id, en_translate) \\\n",
    "                    VALUES (%s,%s)\", \\\n",
    "                    (row.id, row.en_translate))\n",
    "except psycopg2.Error as e:\n",
    "        print(\"Error: Inserting Rows\")\n",
    "        print (e)"
   ]
  },
  {
   "cell_type": "code",
   "execution_count": 14,
   "id": "2d6b9069",
   "metadata": {},
   "outputs": [
    {
     "name": "stdout",
     "output_type": "stream",
     "text": [
      "['id', 'en_translate']\n"
     ]
    },
    {
     "data": {
      "text/html": [
       "<div>\n",
       "<style scoped>\n",
       "    .dataframe tbody tr th:only-of-type {\n",
       "        vertical-align: middle;\n",
       "    }\n",
       "\n",
       "    .dataframe tbody tr th {\n",
       "        vertical-align: top;\n",
       "    }\n",
       "\n",
       "    .dataframe thead th {\n",
       "        text-align: right;\n",
       "    }\n",
       "</style>\n",
       "<table border=\"1\" class=\"dataframe\">\n",
       "  <thead>\n",
       "    <tr style=\"text-align: right;\">\n",
       "      <th></th>\n",
       "      <th>id</th>\n",
       "      <th>en_translate</th>\n",
       "    </tr>\n",
       "  </thead>\n",
       "  <tbody>\n",
       "    <tr>\n",
       "      <th>0</th>\n",
       "      <td>1</td>\n",
       "      <td>In the name of Allah, the Most Compassionate, ...</td>\n",
       "    </tr>\n",
       "    <tr>\n",
       "      <th>1</th>\n",
       "      <td>2</td>\n",
       "      <td>All praise be to Allah, the Lord of the worlds,</td>\n",
       "    </tr>\n",
       "    <tr>\n",
       "      <th>2</th>\n",
       "      <td>3</td>\n",
       "      <td>the Most Compassionate, the Most Merciful,</td>\n",
       "    </tr>\n",
       "    <tr>\n",
       "      <th>3</th>\n",
       "      <td>4</td>\n",
       "      <td>Master of the Day of Judgment.</td>\n",
       "    </tr>\n",
       "    <tr>\n",
       "      <th>4</th>\n",
       "      <td>5</td>\n",
       "      <td>You alone we worship, and You alone we ask for...</td>\n",
       "    </tr>\n",
       "    <tr>\n",
       "      <th>...</th>\n",
       "      <td>...</td>\n",
       "      <td>...</td>\n",
       "    </tr>\n",
       "    <tr>\n",
       "      <th>31175</th>\n",
       "      <td>6232</td>\n",
       "      <td>the Sovereign of mankind,</td>\n",
       "    </tr>\n",
       "    <tr>\n",
       "      <th>31176</th>\n",
       "      <td>6233</td>\n",
       "      <td>the God of mankind,</td>\n",
       "    </tr>\n",
       "    <tr>\n",
       "      <th>31177</th>\n",
       "      <td>6234</td>\n",
       "      <td>from the harm of the lurking whisperer,</td>\n",
       "    </tr>\n",
       "    <tr>\n",
       "      <th>31178</th>\n",
       "      <td>6235</td>\n",
       "      <td>who whispers into the hearts of mankind,</td>\n",
       "    </tr>\n",
       "    <tr>\n",
       "      <th>31179</th>\n",
       "      <td>6236</td>\n",
       "      <td>from among jinn and mankind.â€</td>\n",
       "    </tr>\n",
       "  </tbody>\n",
       "</table>\n",
       "<p>31180 rows × 2 columns</p>\n",
       "</div>"
      ],
      "text/plain": [
       "         id                                       en_translate\n",
       "0         1  In the name of Allah, the Most Compassionate, ...\n",
       "1         2    All praise be to Allah, the Lord of the worlds,\n",
       "2         3         the Most Compassionate, the Most Merciful,\n",
       "3         4                     Master of the Day of Judgment.\n",
       "4         5  You alone we worship, and You alone we ask for...\n",
       "...     ...                                                ...\n",
       "31175  6232                          the Sovereign of mankind,\n",
       "31176  6233                                the God of mankind,\n",
       "31177  6234            from the harm of the lurking whisperer,\n",
       "31178  6235           who whispers into the hearts of mankind,\n",
       "31179  6236                    from among jinn and mankind.â€\n",
       "\n",
       "[31180 rows x 2 columns]"
      ]
     },
     "execution_count": 14,
     "metadata": {},
     "output_type": "execute_result"
    }
   ],
   "source": [
    "try: \n",
    "    cur.execute(\"SELECT * FROM en_rwwad2;\")\n",
    "    col_names = [desc[0] for desc in cur.description]\n",
    "    print(col_names)\n",
    "except psycopg2.Error as e: \n",
    "    print(\"Error: select *\")\n",
    "    print (e)\n",
    "\n",
    "rows = cur.fetchall()\n",
    "\n",
    "# convert list of tuples to pandas dataframe\n",
    "df = pd.DataFrame(rows, columns=col_names)\n",
    "df"
   ]
  },
  {
   "cell_type": "markdown",
   "id": "38ee0832",
   "metadata": {},
   "source": [
    "# JOIN TABLE"
   ]
  },
  {
   "cell_type": "code",
   "execution_count": 15,
   "id": "a4cebc78",
   "metadata": {},
   "outputs": [
    {
     "data": {
      "text/html": [
       "<div>\n",
       "<style scoped>\n",
       "    .dataframe tbody tr th:only-of-type {\n",
       "        vertical-align: middle;\n",
       "    }\n",
       "\n",
       "    .dataframe tbody tr th {\n",
       "        vertical-align: top;\n",
       "    }\n",
       "\n",
       "    .dataframe thead th {\n",
       "        text-align: right;\n",
       "    }\n",
       "</style>\n",
       "<table border=\"1\" class=\"dataframe\">\n",
       "  <thead>\n",
       "    <tr style=\"text-align: right;\">\n",
       "      <th></th>\n",
       "      <th>index</th>\n",
       "      <th>surah_id</th>\n",
       "      <th>Surah_arabic</th>\n",
       "      <th>Surah_Latin</th>\n",
       "      <th>english</th>\n",
       "      <th>types</th>\n",
       "      <th>ayah</th>\n",
       "      <th>text</th>\n",
       "      <th>en_translate</th>\n",
       "    </tr>\n",
       "  </thead>\n",
       "  <tbody>\n",
       "    <tr>\n",
       "      <th>0</th>\n",
       "      <td>1</td>\n",
       "      <td>1</td>\n",
       "      <td>سورة الفاتحة</td>\n",
       "      <td>Al-Fatiha</td>\n",
       "      <td>The Opening</td>\n",
       "      <td>Makiyah</td>\n",
       "      <td>1</td>\n",
       "      <td>بِسۡمِ ٱللَّهِ ٱلرَّحۡمَٰنِ ٱلرَّحِيمِ</td>\n",
       "      <td>In the name of Allah, the Most Compassionate, ...</td>\n",
       "    </tr>\n",
       "    <tr>\n",
       "      <th>1</th>\n",
       "      <td>2</td>\n",
       "      <td>1</td>\n",
       "      <td>سورة الفاتحة</td>\n",
       "      <td>Al-Fatiha</td>\n",
       "      <td>The Opening</td>\n",
       "      <td>Makiyah</td>\n",
       "      <td>2</td>\n",
       "      <td>ٱلۡحَمۡدُ لِلَّهِ رَبِّ ٱلۡعَٰلَمِينَ</td>\n",
       "      <td>All praise be to Allah, the Lord of the worlds,</td>\n",
       "    </tr>\n",
       "    <tr>\n",
       "      <th>2</th>\n",
       "      <td>3</td>\n",
       "      <td>1</td>\n",
       "      <td>سورة الفاتحة</td>\n",
       "      <td>Al-Fatiha</td>\n",
       "      <td>The Opening</td>\n",
       "      <td>Makiyah</td>\n",
       "      <td>3</td>\n",
       "      <td>ٱلرَّحۡمَٰنِ ٱلرَّحِيمِ</td>\n",
       "      <td>the Most Compassionate, the Most Merciful,</td>\n",
       "    </tr>\n",
       "    <tr>\n",
       "      <th>3</th>\n",
       "      <td>4</td>\n",
       "      <td>1</td>\n",
       "      <td>سورة الفاتحة</td>\n",
       "      <td>Al-Fatiha</td>\n",
       "      <td>The Opening</td>\n",
       "      <td>Makiyah</td>\n",
       "      <td>4</td>\n",
       "      <td>مَٰلِكِ يَوۡمِ ٱلدِّينِ</td>\n",
       "      <td>Master of the Day of Judgment.</td>\n",
       "    </tr>\n",
       "    <tr>\n",
       "      <th>4</th>\n",
       "      <td>5</td>\n",
       "      <td>1</td>\n",
       "      <td>سورة الفاتحة</td>\n",
       "      <td>Al-Fatiha</td>\n",
       "      <td>The Opening</td>\n",
       "      <td>Makiyah</td>\n",
       "      <td>5</td>\n",
       "      <td>إِيَّاكَ نَعۡبُدُ وَإِيَّاكَ نَسۡتَعِينُ</td>\n",
       "      <td>You alone we worship, and You alone we ask for...</td>\n",
       "    </tr>\n",
       "    <tr>\n",
       "      <th>...</th>\n",
       "      <td>...</td>\n",
       "      <td>...</td>\n",
       "      <td>...</td>\n",
       "      <td>...</td>\n",
       "      <td>...</td>\n",
       "      <td>...</td>\n",
       "      <td>...</td>\n",
       "      <td>...</td>\n",
       "      <td>...</td>\n",
       "    </tr>\n",
       "    <tr>\n",
       "      <th>31175</th>\n",
       "      <td>6232</td>\n",
       "      <td>114</td>\n",
       "      <td>سورة الناس</td>\n",
       "      <td>An-Nas</td>\n",
       "      <td>The mankind</td>\n",
       "      <td>Makiyah</td>\n",
       "      <td>2</td>\n",
       "      <td>مَلِكِ ٱلنَّاسِ</td>\n",
       "      <td>the Sovereign of mankind,</td>\n",
       "    </tr>\n",
       "    <tr>\n",
       "      <th>31176</th>\n",
       "      <td>6233</td>\n",
       "      <td>114</td>\n",
       "      <td>سورة الناس</td>\n",
       "      <td>An-Nas</td>\n",
       "      <td>The mankind</td>\n",
       "      <td>Makiyah</td>\n",
       "      <td>3</td>\n",
       "      <td>إِلَٰهِ ٱلنَّاسِ</td>\n",
       "      <td>the God of mankind,</td>\n",
       "    </tr>\n",
       "    <tr>\n",
       "      <th>31177</th>\n",
       "      <td>6234</td>\n",
       "      <td>114</td>\n",
       "      <td>سورة الناس</td>\n",
       "      <td>An-Nas</td>\n",
       "      <td>The mankind</td>\n",
       "      <td>Makiyah</td>\n",
       "      <td>4</td>\n",
       "      <td>مِن شَرِّ ٱلۡوَسۡوَاسِ ٱلۡخَنَّاسِ</td>\n",
       "      <td>from the harm of the lurking whisperer,</td>\n",
       "    </tr>\n",
       "    <tr>\n",
       "      <th>31178</th>\n",
       "      <td>6235</td>\n",
       "      <td>114</td>\n",
       "      <td>سورة الناس</td>\n",
       "      <td>An-Nas</td>\n",
       "      <td>The mankind</td>\n",
       "      <td>Makiyah</td>\n",
       "      <td>5</td>\n",
       "      <td>ٱلَّذِي يُوَسۡوِسُ فِي صُدُورِ ٱلنَّاسِ</td>\n",
       "      <td>who whispers into the hearts of mankind,</td>\n",
       "    </tr>\n",
       "    <tr>\n",
       "      <th>31179</th>\n",
       "      <td>6236</td>\n",
       "      <td>114</td>\n",
       "      <td>سورة الناس</td>\n",
       "      <td>An-Nas</td>\n",
       "      <td>The mankind</td>\n",
       "      <td>Makiyah</td>\n",
       "      <td>6</td>\n",
       "      <td>مِنَ ٱلۡجِنَّةِ وَٱلنَّاسِ</td>\n",
       "      <td>from among jinn and mankind.â€</td>\n",
       "    </tr>\n",
       "  </tbody>\n",
       "</table>\n",
       "<p>31180 rows × 9 columns</p>\n",
       "</div>"
      ],
      "text/plain": [
       "       index  surah_id  Surah_arabic Surah_Latin      english    types  ayah  \\\n",
       "0          1         1  سورة الفاتحة   Al-Fatiha  The Opening  Makiyah     1   \n",
       "1          2         1  سورة الفاتحة   Al-Fatiha  The Opening  Makiyah     2   \n",
       "2          3         1  سورة الفاتحة   Al-Fatiha  The Opening  Makiyah     3   \n",
       "3          4         1  سورة الفاتحة   Al-Fatiha  The Opening  Makiyah     4   \n",
       "4          5         1  سورة الفاتحة   Al-Fatiha  The Opening  Makiyah     5   \n",
       "...      ...       ...           ...         ...          ...      ...   ...   \n",
       "31175   6232       114    سورة الناس      An-Nas  The mankind  Makiyah     2   \n",
       "31176   6233       114    سورة الناس      An-Nas  The mankind  Makiyah     3   \n",
       "31177   6234       114    سورة الناس      An-Nas  The mankind  Makiyah     4   \n",
       "31178   6235       114    سورة الناس      An-Nas  The mankind  Makiyah     5   \n",
       "31179   6236       114    سورة الناس      An-Nas  The mankind  Makiyah     6   \n",
       "\n",
       "                                           text  \\\n",
       "0        بِسۡمِ ٱللَّهِ ٱلرَّحۡمَٰنِ ٱلرَّحِيمِ   \n",
       "1         ٱلۡحَمۡدُ لِلَّهِ رَبِّ ٱلۡعَٰلَمِينَ   \n",
       "2                       ٱلرَّحۡمَٰنِ ٱلرَّحِيمِ   \n",
       "3                       مَٰلِكِ يَوۡمِ ٱلدِّينِ   \n",
       "4      إِيَّاكَ نَعۡبُدُ وَإِيَّاكَ نَسۡتَعِينُ   \n",
       "...                                         ...   \n",
       "31175                           مَلِكِ ٱلنَّاسِ   \n",
       "31176                          إِلَٰهِ ٱلنَّاسِ   \n",
       "31177        مِن شَرِّ ٱلۡوَسۡوَاسِ ٱلۡخَنَّاسِ   \n",
       "31178   ٱلَّذِي يُوَسۡوِسُ فِي صُدُورِ ٱلنَّاسِ   \n",
       "31179                مِنَ ٱلۡجِنَّةِ وَٱلنَّاسِ   \n",
       "\n",
       "                                            en_translate  \n",
       "0      In the name of Allah, the Most Compassionate, ...  \n",
       "1        All praise be to Allah, the Lord of the worlds,  \n",
       "2             the Most Compassionate, the Most Merciful,  \n",
       "3                         Master of the Day of Judgment.  \n",
       "4      You alone we worship, and You alone we ask for...  \n",
       "...                                                  ...  \n",
       "31175                          the Sovereign of mankind,  \n",
       "31176                                the God of mankind,  \n",
       "31177            from the harm of the lurking whisperer,  \n",
       "31178           who whispers into the hearts of mankind,  \n",
       "31179                    from among jinn and mankind.â€  \n",
       "\n",
       "[31180 rows x 9 columns]"
      ]
     },
     "execution_count": 15,
     "metadata": {},
     "output_type": "execute_result"
    }
   ],
   "source": [
    "# Execute the query\n",
    "cur.execute(\"\"\"SELECT en_rwwad.id,\n",
    "en_rwwad.surah_id,\n",
    "en_rwwad1.arabic as Surah_arabic,\n",
    "en_rwwad1.latin as  Surah_Latin,\n",
    "en_rwwad1.english,\n",
    "en_rwwad1.types,\n",
    "en_rwwad.ayah,\n",
    "en_rwwad.text  as text,\n",
    "en_rwwad2.en_translate\n",
    "FROM en_rwwad1\n",
    "JOIN en_rwwad ON en_rwwad1.surah_id = en_rwwad.surah_id\n",
    "JOIN en_rwwad2 ON en_rwwad.id = en_rwwad2.id\n",
    "\"\"\")\n",
    "\n",
    "# Fetch the results\n",
    "rows = cur.fetchall()\n",
    "# Convert to a Pandas dataframe\n",
    "df = pd.DataFrame(rows, columns=['index','surah_id', 'Surah_arabic', 'Surah_Latin', 'english','types','ayah','text','en_translate'])\n",
    "# Print the dataframe\n",
    "df"
   ]
  },
  {
   "cell_type": "markdown",
   "id": "d7f70836",
   "metadata": {},
   "source": [
    "# FUN FACT ABOUT THE HOLY QURAN"
   ]
  },
  {
   "cell_type": "markdown",
   "id": "fef1a7b2",
   "metadata": {},
   "source": [
    "### Surah that have 'wisdom'  - حِكۡمَةَ -"
   ]
  },
  {
   "cell_type": "code",
   "execution_count": 16,
   "id": "fd95dfa9",
   "metadata": {
    "scrolled": true
   },
   "outputs": [
    {
     "data": {
      "text/html": [
       "<div>\n",
       "<style scoped>\n",
       "    .dataframe tbody tr th:only-of-type {\n",
       "        vertical-align: middle;\n",
       "    }\n",
       "\n",
       "    .dataframe tbody tr th {\n",
       "        vertical-align: top;\n",
       "    }\n",
       "\n",
       "    .dataframe thead th {\n",
       "        text-align: right;\n",
       "    }\n",
       "</style>\n",
       "<table border=\"1\" class=\"dataframe\">\n",
       "  <thead>\n",
       "    <tr style=\"text-align: right;\">\n",
       "      <th></th>\n",
       "      <th>index</th>\n",
       "      <th>surah_id</th>\n",
       "      <th>Surah_arabic</th>\n",
       "      <th>Surah_Latin</th>\n",
       "      <th>english</th>\n",
       "      <th>types</th>\n",
       "      <th>ayah</th>\n",
       "      <th>text</th>\n",
       "      <th>en_translate</th>\n",
       "    </tr>\n",
       "  </thead>\n",
       "  <tbody>\n",
       "    <tr>\n",
       "      <th>137</th>\n",
       "      <td>136</td>\n",
       "      <td>2</td>\n",
       "      <td>سورة البقرة</td>\n",
       "      <td>Al-Baqara</td>\n",
       "      <td>The Cow</td>\n",
       "      <td>Madaniyah</td>\n",
       "      <td>129</td>\n",
       "      <td>رَبَّنَا وَٱبۡعَثۡ فِيهِمۡ رَسُولٗا مِّنۡهُمۡ ...</td>\n",
       "      <td>Our Lord, send among them a messenger to recit...</td>\n",
       "    </tr>\n",
       "    <tr>\n",
       "      <th>265</th>\n",
       "      <td>258</td>\n",
       "      <td>2</td>\n",
       "      <td>سورة البقرة</td>\n",
       "      <td>Al-Baqara</td>\n",
       "      <td>The Cow</td>\n",
       "      <td>Madaniyah</td>\n",
       "      <td>251</td>\n",
       "      <td>فَهَزَمُوهُم بِإِذۡنِ ٱللَّهِ وَقَتَلَ دَاوُۥد...</td>\n",
       "      <td>Thus they defeated them by Allahâ€™s grace, an...</td>\n",
       "    </tr>\n",
       "    <tr>\n",
       "      <th>283</th>\n",
       "      <td>276</td>\n",
       "      <td>2</td>\n",
       "      <td>سورة البقرة</td>\n",
       "      <td>Al-Baqara</td>\n",
       "      <td>The Cow</td>\n",
       "      <td>Madaniyah</td>\n",
       "      <td>269</td>\n",
       "      <td>يُؤۡتِي ٱلۡحِكۡمَةَ مَن يَشَآءُۚ وَمَن يُؤۡتَ...</td>\n",
       "      <td>He gives wisdom to whom He wills; and whoever ...</td>\n",
       "    </tr>\n",
       "    <tr>\n",
       "      <th>349</th>\n",
       "      <td>341</td>\n",
       "      <td>3</td>\n",
       "      <td>سورة آل عمران</td>\n",
       "      <td>Aal-e-Imran</td>\n",
       "      <td>The family of Imran</td>\n",
       "      <td>Madaniyah</td>\n",
       "      <td>48</td>\n",
       "      <td>وَيُعَلِّمُهُ ٱلۡكِتَٰبَ وَٱلۡحِكۡمَةَ وَٱلتَّ...</td>\n",
       "      <td>And He will teach him writing and wisdom, the ...</td>\n",
       "    </tr>\n",
       "    <tr>\n",
       "      <th>379</th>\n",
       "      <td>372</td>\n",
       "      <td>3</td>\n",
       "      <td>سورة آل عمران</td>\n",
       "      <td>Aal-e-Imran</td>\n",
       "      <td>The family of Imran</td>\n",
       "      <td>Madaniyah</td>\n",
       "      <td>79</td>\n",
       "      <td>مَا كَانَ لِبَشَرٍ أَن يُؤۡتِيَهُ ٱللَّهُ ٱلۡك...</td>\n",
       "      <td>It is not for a human being whom Allah has giv...</td>\n",
       "    </tr>\n",
       "    <tr>\n",
       "      <th>...</th>\n",
       "      <td>...</td>\n",
       "      <td>...</td>\n",
       "      <td>...</td>\n",
       "      <td>...</td>\n",
       "      <td>...</td>\n",
       "      <td>...</td>\n",
       "      <td>...</td>\n",
       "      <td>...</td>\n",
       "      <td>...</td>\n",
       "    </tr>\n",
       "    <tr>\n",
       "      <th>29180</th>\n",
       "      <td>4418</td>\n",
       "      <td>44</td>\n",
       "      <td>سورة الدخان</td>\n",
       "      <td>Ad-Dukhan</td>\n",
       "      <td>The Smoke</td>\n",
       "      <td>Makiyah</td>\n",
       "      <td>4</td>\n",
       "      <td>فِيهَا يُفۡرَقُ كُلُّ أَمۡرٍ حَكِيمٍ</td>\n",
       "      <td>On that night, every matter of wisdom is deter...</td>\n",
       "    </tr>\n",
       "    <tr>\n",
       "      <th>29279</th>\n",
       "      <td>4329</td>\n",
       "      <td>43</td>\n",
       "      <td>سورة الزخرف</td>\n",
       "      <td>Az-Zukhruf</td>\n",
       "      <td>Ornaments of Gold</td>\n",
       "      <td>Makiyah</td>\n",
       "      <td>4</td>\n",
       "      <td>وَإِنَّهُۥ فِيٓ أُمِّ ٱلۡكِتَٰبِ لَدَيۡنَا لَع...</td>\n",
       "      <td>and it is in the Master Book [Preserved Tablet...</td>\n",
       "    </tr>\n",
       "    <tr>\n",
       "      <th>29339</th>\n",
       "      <td>4388</td>\n",
       "      <td>43</td>\n",
       "      <td>سورة الزخرف</td>\n",
       "      <td>Az-Zukhruf</td>\n",
       "      <td>Ornaments of Gold</td>\n",
       "      <td>Makiyah</td>\n",
       "      <td>63</td>\n",
       "      <td>وَلَمَّا جَآءَ عِيسَىٰ بِٱلۡبَيِّنَٰتِ قَالَ ...</td>\n",
       "      <td>When Jesus came with clear signs, he said, â€œ...</td>\n",
       "    </tr>\n",
       "    <tr>\n",
       "      <th>29437</th>\n",
       "      <td>4489</td>\n",
       "      <td>45</td>\n",
       "      <td>سورة الجاثية</td>\n",
       "      <td>Al-Jathiya</td>\n",
       "      <td>Crouching</td>\n",
       "      <td>Makiyah</td>\n",
       "      <td>16</td>\n",
       "      <td>وَلَقَدۡ ءَاتَيۡنَا بَنِيٓ إِسۡرَـٰٓءِيلَ ٱلۡك...</td>\n",
       "      <td>Indeed, We gave the Children of Israel the Scr...</td>\n",
       "    </tr>\n",
       "    <tr>\n",
       "      <th>29802</th>\n",
       "      <td>4851</td>\n",
       "      <td>54</td>\n",
       "      <td>سورة القمر</td>\n",
       "      <td>Al-Qamar</td>\n",
       "      <td>The moon</td>\n",
       "      <td>Makiyah</td>\n",
       "      <td>5</td>\n",
       "      <td>حِكۡمَةُۢ بَٰلِغَةٞۖ فَمَا تُغۡنِ ٱلنُّذُرُ</td>\n",
       "      <td>which contain extensive wisdom, but the warnin...</td>\n",
       "    </tr>\n",
       "  </tbody>\n",
       "</table>\n",
       "<p>130 rows × 9 columns</p>\n",
       "</div>"
      ],
      "text/plain": [
       "       index  surah_id   Surah_arabic  Surah_Latin              english  \\\n",
       "137      136         2    سورة البقرة    Al-Baqara              The Cow   \n",
       "265      258         2    سورة البقرة    Al-Baqara              The Cow   \n",
       "283      276         2    سورة البقرة    Al-Baqara              The Cow   \n",
       "349      341         3  سورة آل عمران  Aal-e-Imran  The family of Imran   \n",
       "379      372         3  سورة آل عمران  Aal-e-Imran  The family of Imran   \n",
       "...      ...       ...            ...          ...                  ...   \n",
       "29180   4418        44    سورة الدخان    Ad-Dukhan            The Smoke   \n",
       "29279   4329        43    سورة الزخرف   Az-Zukhruf    Ornaments of Gold   \n",
       "29339   4388        43    سورة الزخرف   Az-Zukhruf    Ornaments of Gold   \n",
       "29437   4489        45   سورة الجاثية   Al-Jathiya            Crouching   \n",
       "29802   4851        54     سورة القمر     Al-Qamar             The moon   \n",
       "\n",
       "           types  ayah                                               text  \\\n",
       "137    Madaniyah   129  رَبَّنَا وَٱبۡعَثۡ فِيهِمۡ رَسُولٗا مِّنۡهُمۡ ...   \n",
       "265    Madaniyah   251  فَهَزَمُوهُم بِإِذۡنِ ٱللَّهِ وَقَتَلَ دَاوُۥد...   \n",
       "283    Madaniyah   269  يُؤۡتِي ٱلۡحِكۡمَةَ مَن يَشَآءُۚ وَمَن يُؤۡتَ...   \n",
       "349    Madaniyah    48  وَيُعَلِّمُهُ ٱلۡكِتَٰبَ وَٱلۡحِكۡمَةَ وَٱلتَّ...   \n",
       "379    Madaniyah    79  مَا كَانَ لِبَشَرٍ أَن يُؤۡتِيَهُ ٱللَّهُ ٱلۡك...   \n",
       "...          ...   ...                                                ...   \n",
       "29180    Makiyah     4               فِيهَا يُفۡرَقُ كُلُّ أَمۡرٍ حَكِيمٍ   \n",
       "29279    Makiyah     4  وَإِنَّهُۥ فِيٓ أُمِّ ٱلۡكِتَٰبِ لَدَيۡنَا لَع...   \n",
       "29339    Makiyah    63  وَلَمَّا جَآءَ عِيسَىٰ بِٱلۡبَيِّنَٰتِ قَالَ ...   \n",
       "29437    Makiyah    16  وَلَقَدۡ ءَاتَيۡنَا بَنِيٓ إِسۡرَـٰٓءِيلَ ٱلۡك...   \n",
       "29802    Makiyah     5        حِكۡمَةُۢ بَٰلِغَةٞۖ فَمَا تُغۡنِ ٱلنُّذُرُ   \n",
       "\n",
       "                                            en_translate  \n",
       "137    Our Lord, send among them a messenger to recit...  \n",
       "265    Thus they defeated them by Allahâ€™s grace, an...  \n",
       "283    He gives wisdom to whom He wills; and whoever ...  \n",
       "349    And He will teach him writing and wisdom, the ...  \n",
       "379    It is not for a human being whom Allah has giv...  \n",
       "...                                                  ...  \n",
       "29180  On that night, every matter of wisdom is deter...  \n",
       "29279  and it is in the Master Book [Preserved Tablet...  \n",
       "29339  When Jesus came with clear signs, he said, â€œ...  \n",
       "29437  Indeed, We gave the Children of Israel the Scr...  \n",
       "29802  which contain extensive wisdom, but the warnin...  \n",
       "\n",
       "[130 rows x 9 columns]"
      ]
     },
     "execution_count": 16,
     "metadata": {},
     "output_type": "execute_result"
    }
   ],
   "source": [
    "df1 = df[df['en_translate'].str.contains('wisdom')]\n",
    "df1"
   ]
  },
  {
   "cell_type": "markdown",
   "id": "234de985",
   "metadata": {},
   "source": [
    "### Total number of surah in Quran"
   ]
  },
  {
   "cell_type": "code",
   "execution_count": 17,
   "id": "0575d075",
   "metadata": {},
   "outputs": [
    {
     "name": "stdout",
     "output_type": "stream",
     "text": [
      "Total number of surahs in the Quran:  114\n"
     ]
    }
   ],
   "source": [
    "# Execute the query\n",
    "cur.execute(\"\"\"SELECT COUNT(DISTINCT surah_id) FROM en_rwwad\"\"\")\n",
    "\n",
    "# Fetch the result\n",
    "num_surahs = cur.fetchone()[0]\n",
    "\n",
    "# Print the result\n",
    "print(\"Total number of surahs in the Quran: \", num_surahs)"
   ]
  },
  {
   "cell_type": "code",
   "execution_count": 18,
   "id": "fad58524",
   "metadata": {},
   "outputs": [
    {
     "name": "stdout",
     "output_type": "stream",
     "text": [
      "Surah 1: سورة الفاتحة\n",
      "Surah 2: سورة البقرة\n",
      "Surah 3: سورة آل عمران\n",
      "Surah 4: سورة النساء\n",
      "Surah 5: سورة المائدة\n",
      "Surah 6: سورة الأنعام\n",
      "Surah 7: سورة الأعراف\n",
      "Surah 8: سورة الأنفال\n",
      "Surah 9: سورة التوبة\n",
      "Surah 10: سورة يونس\n",
      "Surah 11: سورة هود\n",
      "Surah 12: سورة يوسف\n",
      "Surah 13: سورة الرعد\n",
      "Surah 14: سورة إبراهيم\n",
      "Surah 15: سورة الحجر\n",
      "Surah 16: سورة النحل\n",
      "Surah 17: سورة الإسراء\n",
      "Surah 18: سورة الكهف\n",
      "Surah 19: سورة مريم\n",
      "Surah 20: سورة طه\n",
      "Surah 21: سورة الأنبياء\n",
      "Surah 22: سورة الحج\n",
      "Surah 23: سورة المؤمنون\n",
      "Surah 24: سورة النور\n",
      "Surah 25: سورة الفرقان\n",
      "Surah 26: سورة الشعراء\n",
      "Surah 27: سورة النمل\n",
      "Surah 28: سورة القصص\n",
      "Surah 29: سورة العنكبوت\n",
      "Surah 30: سورة الروم\n",
      "Surah 31: سورة لقمان\n",
      "Surah 32: سورة السجدة\n",
      "Surah 33: سورة الأحزاب\n",
      "Surah 34: سورة سبأ\n",
      "Surah 35: سورة فاطر\n",
      "Surah 36: سورة يس\n",
      "Surah 37: سورة الصافات\n",
      "Surah 38: سورة ص\n",
      "Surah 39: سورة الزمر\n",
      "Surah 40: سورة غافر\n",
      "Surah 41: سورة فصلت\n",
      "Surah 42: سورة الشورى\n",
      "Surah 43: سورة الزخرف\n",
      "Surah 44: سورة الدخان\n",
      "Surah 45: سورة الجاثية\n",
      "Surah 46: سورة الأحقاف\n",
      "Surah 47: سورة محمد\n",
      "Surah 48: سورة الفتح\n",
      "Surah 49: سورة الحجرات\n",
      "Surah 50: سورة ق\n",
      "Surah 51: سورة الذاريات\n",
      "Surah 52: سورة الطور\n",
      "Surah 53: سورة النجم\n",
      "Surah 54: سورة القمر\n",
      "Surah 55: سورة الرحمن\n",
      "Surah 56: سورة الواقعة\n",
      "Surah 57: سورة الحديد\n",
      "Surah 58: سورة المجادلة\n",
      "Surah 59: سورة الحشر\n",
      "Surah 60: سورة الممتحنة\n",
      "Surah 61: سورة الصف\n",
      "Surah 62: سورة الجمعة\n",
      "Surah 63: سورة المنافقون\n",
      "Surah 64: سورة التغابن\n",
      "Surah 65: سورة الطلاق\n",
      "Surah 66: سورة التحريم\n",
      "Surah 67: سورة الملك\n",
      "Surah 68: سورة القلم\n",
      "Surah 69: سورة الحاقة\n",
      "Surah 70: سورة المعارج\n",
      "Surah 71: سورة نوح\n",
      "Surah 72: سورة الجن\n",
      "Surah 73: سورة المزمل\n",
      "Surah 74: سورة المدثر\n",
      "Surah 75: سورة القيامة\n",
      "Surah 76: سورة الإنسان\n",
      "Surah 77: سورة المرسلات\n",
      "Surah 78: سورة النبأ\n",
      "Surah 79: سورة النازعات\n",
      "Surah 80: سورة عبس\n",
      "Surah 81: سورة التكوير\n",
      "Surah 82: سورة الإنفطار\n",
      "Surah 83: سورة المطففين\n",
      "Surah 84: سورة الانشقاق\n",
      "Surah 85: سورة البروج\n",
      "Surah 86: سورة الطارق\n",
      "Surah 87: سورة الأعلى\n",
      "Surah 88: سورة الغاشية\n",
      "Surah 89: سورة الفجر\n",
      "Surah 90: سورة البلد\n",
      "Surah 91: سورة الشمس\n",
      "Surah 92: سورة الليل\n",
      "Surah 93: سورة الضحى\n",
      "Surah 94: سورة الشرح\n",
      "Surah 95: سورة التين\n",
      "Surah 96: سورة العلق\n",
      "Surah 97: سورة القدر\n",
      "Surah 98: سورة البينة\n",
      "Surah 99: سورة الزلزلة\n",
      "Surah 100: سورة العاديات\n",
      "Surah 101: سورة القارعة\n",
      "Surah 102: سورة التكاثر\n",
      "Surah 103: سورة العصر\n",
      "Surah 104: سورة الهمزة\n",
      "Surah 105: سورة الفيل\n",
      "Surah 106: سورة قريش\n",
      "Surah 107: سورة الماعون\n",
      "Surah 108: سورة الكوثر\n",
      "Surah 109: سورة الكافرون\n",
      "Surah 110: سورة النصر\n",
      "Surah 111: سورة المسد\n",
      "Surah 112: سورة الإخلاص\n",
      "Surah 113: سورة الفلق\n",
      "Surah 114: سورة الناس\n"
     ]
    }
   ],
   "source": [
    "# Execute the query\n",
    "cur.execute(\"SELECT surah_id, arabic FROM en_rwwad1\")\n",
    "\n",
    "# Fetch the results and print them\n",
    "for row in cur.fetchall():\n",
    "    print(f\"Surah {row[0]}: {row[1]}\")"
   ]
  },
  {
   "cell_type": "markdown",
   "id": "4ce386fc",
   "metadata": {},
   "source": [
    "### Total number of ayahs in Quran"
   ]
  },
  {
   "cell_type": "code",
   "execution_count": 19,
   "id": "81fa69b8",
   "metadata": {},
   "outputs": [
    {
     "name": "stdout",
     "output_type": "stream",
     "text": [
      "Total number of ayahs in the Quran: 6236\n"
     ]
    }
   ],
   "source": [
    "import sqlite3\n",
    "\n",
    "# Execute the query\n",
    "cur.execute(\"SELECT COUNT(*) FROM en_rwwad\")\n",
    "\n",
    "# Fetch the result\n",
    "result = cur.fetchone()\n",
    "\n",
    "# Print the result\n",
    "print(\"Total number of ayahs in the Quran:\", result[0])"
   ]
  },
  {
   "cell_type": "markdown",
   "id": "3830ff37",
   "metadata": {},
   "source": [
    "### Total number of words in Quran"
   ]
  },
  {
   "cell_type": "code",
   "execution_count": 20,
   "id": "02b6a2f1",
   "metadata": {},
   "outputs": [
    {
     "name": "stdout",
     "output_type": "stream",
     "text": [
      "The total number of words in the Quran is: 77429\n"
     ]
    }
   ],
   "source": [
    "# Execute the query\n",
    "cur.execute(\"\"\"SELECT text FROM en_rwwad\"\"\")\n",
    "# Fetch the results\n",
    "rows = cur.fetchall()\n",
    "# Count the total number of words in the Quran\n",
    "total_words = sum(len(row[0].split()) for row in rows)\n",
    "# Print the total number of words\n",
    "print(\"The total number of words in the Quran is:\", total_words)"
   ]
  },
  {
   "cell_type": "markdown",
   "id": "f6d31dd2",
   "metadata": {},
   "source": [
    "### Total number of letters in Quran"
   ]
  },
  {
   "cell_type": "code",
   "execution_count": 21,
   "id": "b3088542",
   "metadata": {},
   "outputs": [
    {
     "name": "stdout",
     "output_type": "stream",
     "text": [
      "The total number of letters in the Quran is: 591188\n"
     ]
    }
   ],
   "source": [
    "# Load the Quran dataset\n",
    "quran_df = pd.read_csv(\"C:/Users/Ikmee U-daidee/BigDataEng 22/Surah.csv\")\n",
    "\n",
    "# Initialize the variable to keep track of the total number of letters\n",
    "total_letters = 0\n",
    "\n",
    "# Loop through each row in the dataset\n",
    "for index, row in quran_df.iterrows():\n",
    "\n",
    "    # Get the text of the ayah\n",
    "    ayah_text = row['text']\n",
    "\n",
    "    # Count the number of letters in the ayah\n",
    "    num_letters = len(ayah_text.replace(' ', '').replace('\\u06dd', '').replace('\\u06e1', '').replace('\\u06e2', '').replace('\\u06e3', '').replace('\\u06dd', '').replace('\\u06de', ''))\n",
    "\n",
    "    # Add the number of letters in the ayah to the total\n",
    "    total_letters += num_letters\n",
    "\n",
    "# Print the total number of letters in the Quran\n",
    "print(\"The total number of letters in the Quran is:\", total_letters)\n"
   ]
  },
  {
   "cell_type": "markdown",
   "id": "4072acf9",
   "metadata": {},
   "source": [
    "### Total number of surah Makki"
   ]
  },
  {
   "cell_type": "code",
   "execution_count": 22,
   "id": "44513c30",
   "metadata": {},
   "outputs": [
    {
     "name": "stdout",
     "output_type": "stream",
     "text": [
      "Number of Surahs in Makiyah:  86\n"
     ]
    }
   ],
   "source": [
    "# Execute the query\n",
    "cur.execute(\"\"\"SELECT COUNT(DISTINCT surah_id)\n",
    "               FROM en_rwwad1\n",
    "               WHERE types='Makiyah'\"\"\")\n",
    "\n",
    "# Fetch the result\n",
    "num_surah_makiyah = cur.fetchone()[0]\n",
    "\n",
    "# Print the result\n",
    "print(\"Number of Surahs in Makiyah: \", num_surah_makiyah)"
   ]
  },
  {
   "cell_type": "markdown",
   "id": "370b2491",
   "metadata": {},
   "source": [
    "### Total number of surah Madani"
   ]
  },
  {
   "cell_type": "code",
   "execution_count": 23,
   "id": "0a8aea66",
   "metadata": {},
   "outputs": [
    {
     "name": "stdout",
     "output_type": "stream",
     "text": [
      "Number of Surahs in Madaniyah:  28\n"
     ]
    }
   ],
   "source": [
    "# Execute the query\n",
    "cur.execute(\"\"\"SELECT COUNT(DISTINCT surah_id)\n",
    "               FROM en_rwwad1\n",
    "               WHERE types='Madaniyah'\"\"\")\n",
    "\n",
    "# Fetch the result\n",
    "num_surah_madaniyah = cur.fetchone()[0]\n",
    "\n",
    "# Print the result\n",
    "print(\"Number of Surahs in Madaniyah: \", num_surah_madaniyah)"
   ]
  },
  {
   "cell_type": "markdown",
   "id": "65bcfc0a",
   "metadata": {},
   "source": [
    "### Surah with the smallest and  largest number of ayahs"
   ]
  },
  {
   "cell_type": "markdown",
   "id": "ac222726",
   "metadata": {},
   "source": [
    "#### Surah with the smallest"
   ]
  },
  {
   "cell_type": "code",
   "execution_count": 24,
   "id": "a532c107",
   "metadata": {},
   "outputs": [
    {
     "name": "stdout",
     "output_type": "stream",
     "text": [
      "Surah with the smallest number of ayahs:  سورة الكوثر\n",
      "Number of ayahs in surah:  3\n"
     ]
    }
   ],
   "source": [
    "# Surah with the smallest number of ayahs\n",
    "cur.execute(\"\"\"SELECT arabic, COUNT(*) as num_ayahs\n",
    "               FROM en_rwwad\n",
    "               JOIN en_rwwad1 ON en_rwwad.surah_id = en_rwwad1.surah_id\n",
    "               GROUP BY arabic\n",
    "               ORDER BY num_ayahs ASC\n",
    "               LIMIT 1\"\"\")\n",
    "smallest_surah = cur.fetchone()\n",
    "print(\"Surah with the smallest number of ayahs: \", smallest_surah[0])\n",
    "print(\"Number of ayahs in surah: \", smallest_surah[1])"
   ]
  },
  {
   "cell_type": "markdown",
   "id": "29eb57ce",
   "metadata": {},
   "source": [
    "#### Surah with the largest"
   ]
  },
  {
   "cell_type": "code",
   "execution_count": 25,
   "id": "84c4aed1",
   "metadata": {},
   "outputs": [
    {
     "name": "stdout",
     "output_type": "stream",
     "text": [
      "Surah with the largest number of ayahs:  سورة البقرة\n",
      "Number of ayahs in surah:  286\n"
     ]
    }
   ],
   "source": [
    "# Surah with the largest number of ayahs\n",
    "cur.execute(\"\"\"SELECT arabic, COUNT(*) as num_ayahs\n",
    "               FROM en_rwwad\n",
    "               JOIN en_rwwad1 ON en_rwwad.surah_id = en_rwwad1.surah_id\n",
    "               GROUP BY arabic\n",
    "               ORDER BY num_ayahs DESC\n",
    "               LIMIT 1\"\"\")\n",
    "largest_surah = cur.fetchone()\n",
    "print(\"Surah with the largest number of ayahs: \", largest_surah[0])\n",
    "print(\"Number of ayahs in surah: \", largest_surah[1])"
   ]
  },
  {
   "cell_type": "markdown",
   "id": "bf9fc66c",
   "metadata": {},
   "source": [
    "#### Ayahs with the largest"
   ]
  },
  {
   "cell_type": "code",
   "execution_count": 26,
   "id": "e6eed13e",
   "metadata": {},
   "outputs": [
    {
     "name": "stdout",
     "output_type": "stream",
     "text": [
      "The longest ayah in the Quran is:\n",
      "\n",
      " يَـٰٓأَيُّهَا ٱلَّذِينَ ءَامَنُوٓاْ إِذَا تَدَايَنتُم بِدَيۡنٍ إِلَىٰٓ أَجَلٖ مُّسَمّٗى فَٱكۡتُبُوهُۚ وَلۡيَكۡتُب بَّيۡنَكُمۡ كَاتِبُۢ بِٱلۡعَدۡلِۚ وَلَا يَأۡبَ كَاتِبٌ أَن يَكۡتُبَ كَمَا عَلَّمَهُ ٱللَّهُۚ فَلۡيَكۡتُبۡ وَلۡيُمۡلِلِ ٱلَّذِي عَلَيۡهِ ٱلۡحَقُّ وَلۡيَتَّقِ ٱللَّهَ رَبَّهُۥ وَلَا يَبۡخَسۡ مِنۡهُ شَيۡـٔٗاۚ فَإِن كَانَ ٱلَّذِي عَلَيۡهِ ٱلۡحَقُّ سَفِيهًا أَوۡ ضَعِيفًا أَوۡ لَا يَسۡتَطِيعُ أَن يُمِلَّ هُوَ فَلۡيُمۡلِلۡ وَلِيُّهُۥ بِٱلۡعَدۡلِۚ وَٱسۡتَشۡهِدُواْ شَهِيدَيۡنِ مِن رِّجَالِكُمۡۖ فَإِن لَّمۡ يَكُونَا رَجُلَيۡنِ فَرَجُلٞ وَٱمۡرَأَتَانِ مِمَّن تَرۡضَوۡنَ مِنَ ٱلشُّهَدَآءِ أَن تَضِلَّ إِحۡدَىٰهُمَا فَتُذَكِّرَ إِحۡدَىٰهُمَا ٱلۡأُخۡرَىٰۚ وَلَا يَأۡبَ ٱلشُّهَدَآءُ إِذَا مَا دُعُواْۚ وَلَا تَسۡـَٔمُوٓاْ أَن تَكۡتُبُوهُ صَغِيرًا أَوۡ كَبِيرًا إِلَىٰٓ أَجَلِهِۦۚ ذَٰلِكُمۡ أَقۡسَطُ عِندَ ٱللَّهِ وَأَقۡوَمُ لِلشَّهَٰدَةِ وَأَدۡنَىٰٓ أَلَّا تَرۡتَابُوٓاْ إِلَّآ أَن تَكُونَ تِجَٰرَةً حَاضِرَةٗ تُدِيرُونَهَا بَيۡنَكُمۡ فَلَيۡسَ عَلَيۡكُمۡ جُنَاحٌ أَلَّا تَكۡتُبُوهَاۗ وَأَشۡهِدُوٓاْ إِذَا تَبَايَعۡتُمۡۚ وَلَا يُضَآرَّ كَاتِبٞ وَلَا شَهِيدٞۚ وَإِن تَفۡعَلُواْ فَإِنَّهُۥ فُسُوقُۢ بِكُمۡۗ وَٱتَّقُواْ ٱللَّهَۖ وَيُعَلِّمُكُمُ ٱللَّهُۗ وَٱللَّهُ بِكُلِّ شَيۡءٍ عَلِيمٞ\n",
      "\n",
      "It is in Surah 2 and is ayah number 282\n",
      "\n",
      "The ayah has 128 words.\n"
     ]
    }
   ],
   "source": [
    "# Load the Quran dataset\n",
    "quran_df = pd.read_csv(\"C:/Users/Ikmee U-daidee/BigDataEng 22/Surah.csv\")\n",
    "\n",
    "# Initialize variables to store the longest ayah, the number of words in the longest ayah, the name of the Surah, and the ayah number\n",
    "longest_ayah = \"\"\n",
    "longest_ayah_word_count = 0\n",
    "surah_name = \"\"\n",
    "ayah_number = \"\"\n",
    "\n",
    "# Loop through each row in the dataset\n",
    "for index, row in quran_df.iterrows():\n",
    "    \n",
    "    # Get the text of the ayah\n",
    "    ayah_text = row['text']\n",
    "    \n",
    "    # Count the number of words in the ayah\n",
    "    word_count = len(ayah_text.split())\n",
    "    \n",
    "    # Check if the current ayah is longer than the previous longest ayah\n",
    "    if word_count > longest_ayah_word_count:\n",
    "        \n",
    "        # Update the variables with the new longest ayah\n",
    "        longest_ayah = ayah_text\n",
    "        longest_ayah_word_count = word_count\n",
    "        surah_name = row['surah']\n",
    "        ayah_number = row['ayah']\n",
    "\n",
    "# Print the result\n",
    "print(\"The longest ayah in the Quran is:\\n\\n\", longest_ayah)\n",
    "print(\"\\nIt is in Surah\", surah_name, \"and is ayah number\", ayah_number)\n",
    "print(\"\\nThe ayah has\", longest_ayah_word_count, \"words.\")\n"
   ]
  },
  {
   "cell_type": "markdown",
   "id": "b451c40c",
   "metadata": {},
   "source": [
    "### The most common word"
   ]
  },
  {
   "cell_type": "markdown",
   "id": "e3f2cb5c",
   "metadata": {},
   "source": [
    "#### in the arabic"
   ]
  },
  {
   "cell_type": "code",
   "execution_count": 27,
   "id": "20c1f3cf",
   "metadata": {},
   "outputs": [
    {
     "name": "stdout",
     "output_type": "stream",
     "text": [
      "The most common word in the text column is 'فِي', with a frequency of 1098\n"
     ]
    }
   ],
   "source": [
    "from collections import Counter\n",
    "\n",
    "# Execute the query to get all Arabic words in the en_rwwad1 table\n",
    "cur.execute(\"SELECT text FROM en_rwwad\")\n",
    "\n",
    "# Fetch all the rows as a list of tuples\n",
    "rows = cur.fetchall()\n",
    "\n",
    "# Flatten the list of tuples into a single list of words\n",
    "words = [word for row in rows for word in row[0].split()]\n",
    "\n",
    "# Count the frequency of each word and get the most common word\n",
    "most_common_word = Counter(words).most_common(1)[0]\n",
    "\n",
    "# Print the most common word and its frequency\n",
    "print(\"The most common word in the text column is '{}', with a frequency of {}\".format(most_common_word[0], most_common_word[1]))\n",
    "\n"
   ]
  },
  {
   "cell_type": "markdown",
   "id": "39661967",
   "metadata": {},
   "source": [
    "#### in the en_translate"
   ]
  },
  {
   "cell_type": "code",
   "execution_count": 28,
   "id": "b5367ded",
   "metadata": {},
   "outputs": [
    {
     "name": "stdout",
     "output_type": "stream",
     "text": [
      "The most common word in the text column is 'the', with a frequency of 32550\n"
     ]
    }
   ],
   "source": [
    "from collections import Counter\n",
    "\n",
    "# Execute the query to get all Arabic words in the en_rwwad2 table\n",
    "cur.execute(\"SELECT en_translate FROM en_rwwad2\")\n",
    "\n",
    "# Fetch all the rows as a list of tuples\n",
    "rows = cur.fetchall()\n",
    "\n",
    "# Flatten the list of tuples into a single list of words\n",
    "words = [word for row in rows for word in row[0].split()]\n",
    "\n",
    "# Count the frequency of each word and get the most common word\n",
    "most_common_word = Counter(words).most_common(1)[0]\n",
    "\n",
    "# Print the most common word and its frequency\n",
    "print(\"The most common word in the text column is '{}', with a frequency of {}\".format(most_common_word[0], most_common_word[1]))"
   ]
  },
  {
   "cell_type": "markdown",
   "id": "321483e2",
   "metadata": {},
   "source": [
    "### The most frequently mentioned text"
   ]
  },
  {
   "cell_type": "markdown",
   "id": "c8c4d1a0",
   "metadata": {},
   "source": [
    "#### in en_translate"
   ]
  },
  {
   "cell_type": "code",
   "execution_count": 29,
   "id": "6f225fbc",
   "metadata": {},
   "outputs": [
    {
     "name": "stdout",
     "output_type": "stream",
     "text": [
      "The most frequently mentioned text in en_translate is: Then which of the favors of your Lord will you [men and jinn] deny? with 155 occurrences.\n"
     ]
    }
   ],
   "source": [
    "# Execute the query\n",
    "cur.execute(\"SELECT en_translate, COUNT(*) as count FROM en_rwwad2 GROUP BY en_translate ORDER BY count DESC LIMIT 1\")\n",
    "\n",
    "# Fetch the result\n",
    "result = cur.fetchone()\n",
    "\n",
    "# Print the result\n",
    "print(\"The most frequently mentioned text in en_translate is:\", result[0], \"with\", result[1], \"occurrences.\")\n"
   ]
  },
  {
   "cell_type": "markdown",
   "id": "065aa7d9",
   "metadata": {},
   "source": [
    "#### in arabic"
   ]
  },
  {
   "cell_type": "code",
   "execution_count": 30,
   "id": "192678fa",
   "metadata": {},
   "outputs": [
    {
     "name": "stdout",
     "output_type": "stream",
     "text": [
      "The most frequently mentioned text in arabic is: فَبِأَيِّ ءَالَآءِ رَبِّكُمَا تُكَذِّبَانِ with 31 occurrences.\n"
     ]
    }
   ],
   "source": [
    "# Execute the query\n",
    "cur.execute(\"SELECT text, COUNT(*) as count FROM en_rwwad GROUP BY text ORDER BY count DESC LIMIT 1\")\n",
    "\n",
    "# Fetch the result\n",
    "result = cur.fetchone()\n",
    "\n",
    "# Print the result\n",
    "print(\"The most frequently mentioned text in arabic is:\", result[0], \"with\", result[1], \"occurrences.\")\n"
   ]
  },
  {
   "cell_type": "markdown",
   "id": "1a687607",
   "metadata": {},
   "source": [
    "### Surah with more than 200 ayah"
   ]
  },
  {
   "cell_type": "code",
   "execution_count": 31,
   "id": "e0dc6265",
   "metadata": {},
   "outputs": [
    {
     "data": {
      "text/html": [
       "<div>\n",
       "<style scoped>\n",
       "    .dataframe tbody tr th:only-of-type {\n",
       "        vertical-align: middle;\n",
       "    }\n",
       "\n",
       "    .dataframe tbody tr th {\n",
       "        vertical-align: top;\n",
       "    }\n",
       "\n",
       "    .dataframe thead th {\n",
       "        text-align: right;\n",
       "    }\n",
       "</style>\n",
       "<table border=\"1\" class=\"dataframe\">\n",
       "  <thead>\n",
       "    <tr style=\"text-align: right;\">\n",
       "      <th></th>\n",
       "      <th>surah_id</th>\n",
       "      <th>Surah_arabic</th>\n",
       "      <th>ayah_count</th>\n",
       "    </tr>\n",
       "  </thead>\n",
       "  <tbody>\n",
       "    <tr>\n",
       "      <th>0</th>\n",
       "      <td>2</td>\n",
       "      <td>سورة البقرة</td>\n",
       "      <td>286</td>\n",
       "    </tr>\n",
       "    <tr>\n",
       "      <th>1</th>\n",
       "      <td>26</td>\n",
       "      <td>سورة الشعراء</td>\n",
       "      <td>227</td>\n",
       "    </tr>\n",
       "    <tr>\n",
       "      <th>2</th>\n",
       "      <td>7</td>\n",
       "      <td>سورة الأعراف</td>\n",
       "      <td>206</td>\n",
       "    </tr>\n",
       "  </tbody>\n",
       "</table>\n",
       "</div>"
      ],
      "text/plain": [
       "   surah_id  Surah_arabic  ayah_count\n",
       "0         2   سورة البقرة         286\n",
       "1        26  سورة الشعراء         227\n",
       "2         7  سورة الأعراف         206"
      ]
     },
     "execution_count": 31,
     "metadata": {},
     "output_type": "execute_result"
    }
   ],
   "source": [
    "# Execute the query\n",
    "cur.execute(\"\"\"SELECT en_rwwad1.surah_id, en_rwwad1.arabic as Surah_arabic, COUNT(*) AS ayah_count\n",
    "               FROM en_rwwad1\n",
    "               JOIN en_rwwad ON en_rwwad1.surah_id = en_rwwad.surah_id\n",
    "               GROUP BY en_rwwad1.surah_id\n",
    "               HAVING COUNT(*) > 200\n",
    "               ORDER BY COUNT(*) DESC\n",
    "            \"\"\")\n",
    "\n",
    "# Fetch the results\n",
    "rows = cur.fetchall()\n",
    "\n",
    "# Create a DataFrame from the results\n",
    "df = pd.DataFrame(rows, columns=['surah_id', 'Surah_arabic', 'ayah_count'])\n",
    "\n",
    "# Print the DataFrame\n",
    "df\n"
   ]
  },
  {
   "cell_type": "markdown",
   "id": "e62a1fed",
   "metadata": {},
   "source": [
    "### Surah that have ٱلۡحَمۡدُ لِلَّهِ"
   ]
  },
  {
   "cell_type": "code",
   "execution_count": 32,
   "id": "590186f8",
   "metadata": {},
   "outputs": [
    {
     "name": "stdout",
     "output_type": "stream",
     "text": [
      "Surah 1, Ayah 2: ٱلۡحَمۡدُ لِلَّهِ رَبِّ ٱلۡعَٰلَمِينَ\n",
      "Surah 6, Ayah 1: ٱلۡحَمۡدُ لِلَّهِ ٱلَّذِي خَلَقَ ٱلسَّمَٰوَٰتِ وَٱلۡأَرۡضَ وَجَعَلَ ٱلظُّلُمَٰتِ وَٱلنُّورَۖ ثُمَّ ٱلَّذِينَ كَفَرُواْ بِرَبِّهِمۡ يَعۡدِلُونَ\n",
      "Surah 6, Ayah 45: فَقُطِعَ دَابِرُ ٱلۡقَوۡمِ ٱلَّذِينَ ظَلَمُواْۚ وَٱلۡحَمۡدُ لِلَّهِ رَبِّ ٱلۡعَٰلَمِينَ\n",
      "Surah 7, Ayah 43: وَنَزَعۡنَا مَا فِي صُدُورِهِم مِّنۡ غِلّٖ تَجۡرِي مِن تَحۡتِهِمُ ٱلۡأَنۡهَٰرُۖ وَقَالُواْ ٱلۡحَمۡدُ لِلَّهِ ٱلَّذِي هَدَىٰنَا لِهَٰذَا وَمَا كُنَّا لِنَهۡتَدِيَ لَوۡلَآ أَنۡ هَدَىٰنَا ٱللَّهُۖ لَقَدۡ جَآءَتۡ رُسُلُ رَبِّنَا بِٱلۡحَقِّۖ وَنُودُوٓاْ أَن تِلۡكُمُ ٱلۡجَنَّةُ أُورِثۡتُمُوهَا بِمَا كُنتُمۡ تَعۡمَلُونَ\n",
      "Surah 10, Ayah 10: دَعۡوَىٰهُمۡ فِيهَا سُبۡحَٰنَكَ ٱللَّهُمَّ وَتَحِيَّتُهُمۡ فِيهَا سَلَٰمٞۚ وَءَاخِرُ دَعۡوَىٰهُمۡ أَنِ ٱلۡحَمۡدُ لِلَّهِ رَبِّ ٱلۡعَٰلَمِينَ\n",
      "Surah 14, Ayah 39: ٱلۡحَمۡدُ لِلَّهِ ٱلَّذِي وَهَبَ لِي عَلَى ٱلۡكِبَرِ إِسۡمَٰعِيلَ وَإِسۡحَٰقَۚ إِنَّ رَبِّي لَسَمِيعُ ٱلدُّعَآءِ\n",
      "Surah 16, Ayah 75: ۞ضَرَبَ ٱللَّهُ مَثَلًا عَبۡدٗا مَّمۡلُوكٗا لَّا يَقۡدِرُ عَلَىٰ شَيۡءٖ وَمَن رَّزَقۡنَٰهُ مِنَّا رِزۡقًا حَسَنٗا فَهُوَ يُنفِقُ مِنۡهُ سِرّٗا وَجَهۡرًاۖ هَلۡ يَسۡتَوُۥنَۚ ٱلۡحَمۡدُ لِلَّهِۚ بَلۡ أَكۡثَرُهُمۡ لَا يَعۡلَمُونَ\n",
      "Surah 17, Ayah 111: وَقُلِ ٱلۡحَمۡدُ لِلَّهِ ٱلَّذِي لَمۡ يَتَّخِذۡ وَلَدٗا وَلَمۡ يَكُن لَّهُۥ شَرِيكٞ فِي ٱلۡمُلۡكِ وَلَمۡ يَكُن لَّهُۥ وَلِيّٞ مِّنَ ٱلذُّلِّۖ وَكَبِّرۡهُ تَكۡبِيرَۢا\n",
      "Surah 18, Ayah 1: ٱلۡحَمۡدُ لِلَّهِ ٱلَّذِيٓ أَنزَلَ عَلَىٰ عَبۡدِهِ ٱلۡكِتَٰبَ وَلَمۡ يَجۡعَل لَّهُۥ عِوَجَاۜ\n",
      "Surah 23, Ayah 28: فَإِذَا ٱسۡتَوَيۡتَ أَنتَ وَمَن مَّعَكَ عَلَى ٱلۡفُلۡكِ فَقُلِ ٱلۡحَمۡدُ لِلَّهِ ٱلَّذِي نَجَّىٰنَا مِنَ ٱلۡقَوۡمِ ٱلظَّـٰلِمِينَ\n",
      "Surah 27, Ayah 15: وَلَقَدۡ ءَاتَيۡنَا دَاوُۥدَ وَسُلَيۡمَٰنَ عِلۡمٗاۖ وَقَالَا ٱلۡحَمۡدُ لِلَّهِ ٱلَّذِي فَضَّلَنَا عَلَىٰ كَثِيرٖ مِّنۡ عِبَادِهِ ٱلۡمُؤۡمِنِينَ\n",
      "Surah 27, Ayah 59: قُلِ ٱلۡحَمۡدُ لِلَّهِ وَسَلَٰمٌ عَلَىٰ عِبَادِهِ ٱلَّذِينَ ٱصۡطَفَىٰٓۗ ءَآللَّهُ خَيۡرٌ أَمَّا يُشۡرِكُونَ\n",
      "Surah 27, Ayah 93: وَقُلِ ٱلۡحَمۡدُ لِلَّهِ سَيُرِيكُمۡ ءَايَٰتِهِۦ فَتَعۡرِفُونَهَاۚ وَمَا رَبُّكَ بِغَٰفِلٍ عَمَّا تَعۡمَلُونَ\n",
      "Surah 29, Ayah 63: وَلَئِن سَأَلۡتَهُم مَّن نَّزَّلَ مِنَ ٱلسَّمَآءِ مَآءٗ فَأَحۡيَا بِهِ ٱلۡأَرۡضَ مِنۢ بَعۡدِ مَوۡتِهَا لَيَقُولُنَّ ٱللَّهُۚ قُلِ ٱلۡحَمۡدُ لِلَّهِۚ بَلۡ أَكۡثَرُهُمۡ لَا يَعۡقِلُونَ\n",
      "Surah 31, Ayah 25: وَلَئِن سَأَلۡتَهُم مَّنۡ خَلَقَ ٱلسَّمَٰوَٰتِ وَٱلۡأَرۡضَ لَيَقُولُنَّ ٱللَّهُۚ قُلِ ٱلۡحَمۡدُ لِلَّهِۚ بَلۡ أَكۡثَرُهُمۡ لَا يَعۡلَمُونَ\n",
      "Surah 34, Ayah 1: ٱلۡحَمۡدُ لِلَّهِ ٱلَّذِي لَهُۥ مَا فِي ٱلسَّمَٰوَٰتِ وَمَا فِي ٱلۡأَرۡضِ وَلَهُ ٱلۡحَمۡدُ فِي ٱلۡأٓخِرَةِۚ وَهُوَ ٱلۡحَكِيمُ ٱلۡخَبِيرُ\n",
      "Surah 35, Ayah 1: ٱلۡحَمۡدُ لِلَّهِ فَاطِرِ ٱلسَّمَٰوَٰتِ وَٱلۡأَرۡضِ جَاعِلِ ٱلۡمَلَـٰٓئِكَةِ رُسُلًا أُوْلِيٓ أَجۡنِحَةٖ مَّثۡنَىٰ وَثُلَٰثَ وَرُبَٰعَۚ يَزِيدُ فِي ٱلۡخَلۡقِ مَا يَشَآءُۚ إِنَّ ٱللَّهَ عَلَىٰ كُلِّ شَيۡءٖ قَدِيرٞ\n",
      "Surah 35, Ayah 34: وَقَالُواْ ٱلۡحَمۡدُ لِلَّهِ ٱلَّذِيٓ أَذۡهَبَ عَنَّا ٱلۡحَزَنَۖ إِنَّ رَبَّنَا لَغَفُورٞ شَكُورٌ\n",
      "Surah 37, Ayah 182: وَٱلۡحَمۡدُ لِلَّهِ رَبِّ ٱلۡعَٰلَمِينَ\n",
      "Surah 39, Ayah 29: ضَرَبَ ٱللَّهُ مَثَلٗا رَّجُلٗا فِيهِ شُرَكَآءُ مُتَشَٰكِسُونَ وَرَجُلٗا سَلَمٗا لِّرَجُلٍ هَلۡ يَسۡتَوِيَانِ مَثَلًاۚ ٱلۡحَمۡدُ لِلَّهِۚ بَلۡ أَكۡثَرُهُمۡ لَا يَعۡلَمُونَ\n",
      "Surah 39, Ayah 74: وَقَالُواْ ٱلۡحَمۡدُ لِلَّهِ ٱلَّذِي صَدَقَنَا وَعۡدَهُۥ وَأَوۡرَثَنَا ٱلۡأَرۡضَ نَتَبَوَّأُ مِنَ ٱلۡجَنَّةِ حَيۡثُ نَشَآءُۖ فَنِعۡمَ أَجۡرُ ٱلۡعَٰمِلِينَ\n",
      "Surah 39, Ayah 75: وَتَرَى ٱلۡمَلَـٰٓئِكَةَ حَآفِّينَ مِنۡ حَوۡلِ ٱلۡعَرۡشِ يُسَبِّحُونَ بِحَمۡدِ رَبِّهِمۡۚ وَقُضِيَ بَيۡنَهُم بِٱلۡحَقِّۚ وَقِيلَ ٱلۡحَمۡدُ لِلَّهِ رَبِّ ٱلۡعَٰلَمِينَ\n",
      "Surah 40, Ayah 65: هُوَ ٱلۡحَيُّ لَآ إِلَٰهَ إِلَّا هُوَ فَٱدۡعُوهُ مُخۡلِصِينَ لَهُ ٱلدِّينَۗ ٱلۡحَمۡدُ لِلَّهِ رَبِّ ٱلۡعَٰلَمِينَ\n"
     ]
    }
   ],
   "source": [
    "# Load the Quran dataset\n",
    "quran_df = pd.read_csv(\"C:/Users/Ikmee U-daidee/BigDataEng 22/Surah.csv\")\n",
    "\n",
    "# Initialize variables to keep track of the number of surahs and occurrences\n",
    "num_surahs = 0\n",
    "num_occurrences = 0\n",
    "\n",
    "# Loop through each row in the dataset\n",
    "for index, row in quran_df.iterrows():\n",
    "    \n",
    "    # Get the text of the ayah\n",
    "    ayah_text = row['text']\n",
    "    \n",
    "    # Check if the ayah contains the phrase \"ٱلۡحَمۡدُ لِلَّهِ\"\n",
    "    if \"ٱلۡحَمۡدُ لِلَّهِ\" in ayah_text:\n",
    "        \n",
    "        # Increment the number of surahs and occurrences\n",
    "        num_surahs += 1\n",
    "        num_occurrences += ayah_text.count(\"ٱلۡحَمۡدُ لِلَّهِ\")\n",
    "        \n",
    "        # Print the surah number and ayah number\n",
    "        print(f\"Surah {row['surah']}, Ayah {row['ayah']}: {ayah_text}\")\n",
    "        \n"
   ]
  },
  {
   "cell_type": "code",
   "execution_count": null,
   "id": "8312e10a",
   "metadata": {},
   "outputs": [],
   "source": []
  },
  {
   "cell_type": "code",
   "execution_count": 33,
   "id": "8b808254",
   "metadata": {},
   "outputs": [],
   "source": [
    "try: \n",
    "    conn.close()\n",
    "except psycopg2.Error as e:\n",
    "    print(e)"
   ]
  },
  {
   "cell_type": "code",
   "execution_count": null,
   "id": "545157b0",
   "metadata": {},
   "outputs": [],
   "source": []
  }
 ],
 "metadata": {
  "kernelspec": {
   "display_name": "Python 3 (ipykernel)",
   "language": "python",
   "name": "python3"
  },
  "language_info": {
   "codemirror_mode": {
    "name": "ipython",
    "version": 3
   },
   "file_extension": ".py",
   "mimetype": "text/x-python",
   "name": "python",
   "nbconvert_exporter": "python",
   "pygments_lexer": "ipython3",
   "version": "3.9.7"
  },
  "vscode": {
   "interpreter": {
    "hash": "fe6e1c1ed2db86b017191a8e423739c848536a05071fc0f90cf93488e790b50d"
   }
  }
 },
 "nbformat": 4,
 "nbformat_minor": 5
}
